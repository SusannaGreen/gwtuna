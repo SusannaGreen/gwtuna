{
 "cells": [
  {
   "cell_type": "code",
   "execution_count": 1,
   "id": "acbb7a9c-b824-4d1c-9b18-f5fd2aec8d88",
   "metadata": {
    "tags": []
   },
   "outputs": [
    {
     "name": "stderr",
     "output_type": "stream",
     "text": [
      "/home/susanna.green/.conda/envs/PyCBCandOptuna/lib/python3.11/site-packages/tqdm/auto.py:22: TqdmWarning: IProgress not found. Please update jupyter and ipywidgets. See https://ipywidgets.readthedocs.io/en/stable/user_install.html\n",
      "  from .autonotebook import tqdm as notebook_tqdm\n"
     ]
    }
   ],
   "source": [
    "import numpy\n",
    "import optuna\n",
    "from pycbc.filter import matched_filter\n",
    "from pycbc.waveform import get_td_waveform\n",
    "from pycbc.catalog import Merger\n",
    "from pycbc.filter import resample_to_delta_t, highpass\n",
    "from pycbc.psd import interpolate, inverse_spectrum_truncation"
   ]
  },
  {
   "cell_type": "code",
   "execution_count": 2,
   "id": "a32ec485-0a48-49c3-8e5e-bb9846605395",
   "metadata": {
    "tags": []
   },
   "outputs": [],
   "source": [
    "merger = Merger(\"GW170814\")\n",
    "\n",
    "# Get the data from the Hanford detector\n",
    "strain = merger.strain('V1')\n",
    "\n",
    "# Remove the low frequency content and downsample the data to 2048Hz\n",
    "strain = resample_to_delta_t(highpass(strain, 15.0), 1.0/2048)\n",
    "\n",
    "# Remove 2 seconds of data from both the beginning and end\n",
    "conditioned = strain.crop(2, 2)\n",
    "\n",
    "# Estimate the power spectral density\n",
    "# We use 4 second samles of our time series in Welch method.\n",
    "psd = conditioned.psd(4)\n",
    "\n",
    "# Now that we have the psd we need to interpolate it to match our data\n",
    "# and then limit the filter length of 1 / PSD. After this, we can\n",
    "# directly use this PSD to filter the data in a controlled manner\n",
    "\n",
    "psd = interpolate(psd, conditioned.delta_f)\n",
    "\n",
    "# 1/PSD will now act as a filter with an effective length of 4 seconds\n",
    "# Since the data has been highpassed above 15 Hz, and will have low values\n",
    "# below this we need to informat the function to not include frequencies\n",
    "# below this frequency. \n",
    "psd = inverse_spectrum_truncation(psd, int(4 * conditioned.sample_rate),low_frequency_cutoff=15)"
   ]
  },
  {
   "cell_type": "code",
   "execution_count": 3,
   "id": "e2e5818c-256c-4e6b-8b83-3289a60eca31",
   "metadata": {
    "tags": []
   },
   "outputs": [],
   "source": [
    "#Optuna gnerating the template. \n",
    "def objective(trial):\n",
    "    m1 = trial.suggest_float('m1', 5, 100)\n",
    "    m2 = trial.suggest_float('m2', 5, 100)\n",
    "    hp, hc = get_td_waveform(approximant=\"SEOBNRv4_opt\",mass1=m1, mass2=m2, delta_t=conditioned.delta_t,f_lower=20)\n",
    "    hp.resize(len(conditioned))\n",
    "    template = hp.cyclic_time_shift(hp.start_time)\n",
    "    snr = matched_filter(template, conditioned, psd=psd, low_frequency_cutoff=20)\n",
    "    snr = snr.crop(4 + 4, 4)\n",
    "    peak = abs(snr).numpy().argmax()\n",
    "    snrp = abs(snr[peak])\n",
    "    return float(snrp)\n"
   ]
  },
  {
   "cell_type": "code",
   "execution_count": 5,
   "id": "ff7944fe-eb2b-4671-9719-8c134e25a97d",
   "metadata": {
    "tags": []
   },
   "outputs": [
    {
     "name": "stderr",
     "output_type": "stream",
     "text": [
      "\u001b[32m[I 2023-03-01 12:49:53,388]\u001b[0m A new study created in memory with name: no-name-3db5bd74-786f-469b-b1b9-ab74a93d461e\u001b[0m\n",
      "\u001b[32m[I 2023-03-01 12:49:53,505]\u001b[0m Trial 0 finished with value: 4.252930612320342 and parameters: {'m1': 76.9405263239678, 'm2': 87.00886946267502}. Best is trial 0 with value: 4.252930612320342.\u001b[0m\n",
      "\u001b[32m[I 2023-03-01 12:49:53,638]\u001b[0m Trial 1 finished with value: 4.33433395857878 and parameters: {'m1': 49.41571669889552, 'm2': 90.90411569462977}. Best is trial 1 with value: 4.33433395857878.\u001b[0m\n",
      "\u001b[32m[I 2023-03-01 12:49:53,764]\u001b[0m Trial 2 finished with value: 4.558906449296799 and parameters: {'m1': 25.79058935871872, 'm2': 81.99167900760865}. Best is trial 2 with value: 4.558906449296799.\u001b[0m\n",
      "\u001b[32m[I 2023-03-01 12:49:53,901]\u001b[0m Trial 3 finished with value: 4.407767713966755 and parameters: {'m1': 85.12624274117897, 'm2': 66.18115705158793}. Best is trial 2 with value: 4.558906449296799.\u001b[0m\n",
      "\u001b[32m[I 2023-03-01 12:49:54,030]\u001b[0m Trial 4 finished with value: 5.13492323481249 and parameters: {'m1': 25.179249272288324, 'm2': 15.028918058016524}. Best is trial 4 with value: 5.13492323481249.\u001b[0m\n",
      "\u001b[32m[I 2023-03-01 12:49:54,154]\u001b[0m Trial 5 finished with value: 5.083789400803351 and parameters: {'m1': 41.09243622207482, 'm2': 55.591918219800654}. Best is trial 4 with value: 5.13492323481249.\u001b[0m\n",
      "\u001b[32m[I 2023-03-01 12:49:54,295]\u001b[0m Trial 6 finished with value: 4.298974465775022 and parameters: {'m1': 56.81452348600634, 'm2': 82.76899984590973}. Best is trial 4 with value: 5.13492323481249.\u001b[0m\n",
      "\u001b[32m[I 2023-03-01 12:49:54,460]\u001b[0m Trial 7 finished with value: 5.813725443722349 and parameters: {'m1': 20.622109148180876, 'm2': 13.0904252400948}. Best is trial 7 with value: 5.813725443722349.\u001b[0m\n",
      "\u001b[32m[I 2023-03-01 12:49:54,569]\u001b[0m Trial 8 finished with value: 4.963811252477262 and parameters: {'m1': 33.16730789762127, 'm2': 62.99239753365856}. Best is trial 7 with value: 5.813725443722349.\u001b[0m\n",
      "\u001b[32m[I 2023-03-01 12:49:54,700]\u001b[0m Trial 9 finished with value: 4.131525852826491 and parameters: {'m1': 65.53498064149687, 'm2': 91.77530667162338}. Best is trial 7 with value: 5.813725443722349.\u001b[0m\n",
      "XLAL Error - XLALSimIMRSpinAlignedEOBModes: Ringdown frequency > Nyquist frequency!\n",
      "At present this situation is not supported.\n",
      "XLAL Error - XLALSimIMRSpinAlignedEOBModes (/home/conda/feedstock_root/build_artifacts/lalsimulation-split_1669988833724/work/lib/LALSimIMRSpinAlignedEOB.c:1112): Input domain error\n",
      "XLAL Error - XLALSimIMRSpinAlignedEOBWaveformAll (/home/conda/feedstock_root/build_artifacts/lalsimulation-split_1669988833724/work/lib/LALSimIMRSpinAlignedEOB.c:3217): Internal function call failed: Input domain error\n",
      "XLAL Error - XLALSimIMRSpinAlignedEOBWaveform (/home/conda/feedstock_root/build_artifacts/lalsimulation-split_1669988833724/work/lib/LALSimIMRSpinAlignedEOB.c:635): Internal function call failed: Input domain error\n",
      "XLAL Error - XLALSimInspiralChooseTDWaveform (/home/conda/feedstock_root/build_artifacts/lalsimulation-split_1669988833724/work/lib/LALSimInspiral.c:1232): Internal function call failed: Input domain error\n",
      "\u001b[33m[W 2023-03-01 12:49:54,730]\u001b[0m Trial 10 failed with parameters: {'m1': 7.044533105646714, 'm2': 6.212539944860834} because of the following error: RuntimeError('Internal function call failed: Input domain error').\u001b[0m\n",
      "Traceback (most recent call last):\n",
      "  File \"/home/susanna.green/.conda/envs/PyCBCandOptuna/lib/python3.11/site-packages/optuna/study/_optimize.py\", line 200, in _run_trial\n",
      "    value_or_values = func(trial)\n",
      "                      ^^^^^^^^^^^\n",
      "  File \"/local/susanna.green/ipykernel_3028023/1800438552.py\", line 5, in objective\n",
      "    hp, hc = get_td_waveform(approximant=\"SEOBNRv4_opt\",mass1=m1, mass2=m2, delta_t=conditioned.delta_t,f_lower=20)\n",
      "             ^^^^^^^^^^^^^^^^^^^^^^^^^^^^^^^^^^^^^^^^^^^^^^^^^^^^^^^^^^^^^^^^^^^^^^^^^^^^^^^^^^^^^^^^^^^^^^^^^^^^^^\n",
      "  File \"/home/susanna.green/.conda/envs/PyCBCandOptuna/lib/python3.11/site-packages/pycbc/waveform/waveform.py\", line 596, in get_td_waveform\n",
      "    return wav_gen(**input_params)\n",
      "           ^^^^^^^^^^^^^^^^^^^^^^^\n",
      "  File \"/home/susanna.green/.conda/envs/PyCBCandOptuna/lib/python3.11/site-packages/pycbc/waveform/waveform.py\", line 179, in _lalsim_td_waveform\n",
      "    hp1, hc1 = lalsimulation.SimInspiralChooseTDWaveform(\n",
      "               ^^^^^^^^^^^^^^^^^^^^^^^^^^^^^^^^^^^^^^^^^^\n",
      "RuntimeError: Internal function call failed: Input domain error\n",
      "\u001b[33m[W 2023-03-01 12:49:54,733]\u001b[0m Trial 10 failed with value None.\u001b[0m\n"
     ]
    },
    {
     "ename": "RuntimeError",
     "evalue": "Internal function call failed: Input domain error",
     "output_type": "error",
     "traceback": [
      "\u001b[0;31m---------------------------------------------------------------------------\u001b[0m",
      "\u001b[0;31mRuntimeError\u001b[0m                              Traceback (most recent call last)",
      "Cell \u001b[0;32mIn[5], line 2\u001b[0m\n\u001b[1;32m      1\u001b[0m study \u001b[38;5;241m=\u001b[39m optuna\u001b[38;5;241m.\u001b[39mcreate_study(direction\u001b[38;5;241m=\u001b[39m\u001b[38;5;124m\"\u001b[39m\u001b[38;5;124mmaximize\u001b[39m\u001b[38;5;124m\"\u001b[39m)\n\u001b[0;32m----> 2\u001b[0m study\u001b[38;5;241m.\u001b[39moptimize(objective, n_trials\u001b[38;5;241m=\u001b[39m\u001b[38;5;241m100\u001b[39m)\n\u001b[1;32m      3\u001b[0m \u001b[38;5;28mprint\u001b[39m(study\u001b[38;5;241m.\u001b[39mbest_params)\n",
      "File \u001b[0;32m~/.conda/envs/PyCBCandOptuna/lib/python3.11/site-packages/optuna/study/study.py:425\u001b[0m, in \u001b[0;36mStudy.optimize\u001b[0;34m(self, func, n_trials, timeout, n_jobs, catch, callbacks, gc_after_trial, show_progress_bar)\u001b[0m\n\u001b[1;32m    321\u001b[0m \u001b[38;5;28;01mdef\u001b[39;00m \u001b[38;5;21moptimize\u001b[39m(\n\u001b[1;32m    322\u001b[0m     \u001b[38;5;28mself\u001b[39m,\n\u001b[1;32m    323\u001b[0m     func: ObjectiveFuncType,\n\u001b[0;32m   (...)\u001b[0m\n\u001b[1;32m    330\u001b[0m     show_progress_bar: \u001b[38;5;28mbool\u001b[39m \u001b[38;5;241m=\u001b[39m \u001b[38;5;28;01mFalse\u001b[39;00m,\n\u001b[1;32m    331\u001b[0m ) \u001b[38;5;241m-\u001b[39m\u001b[38;5;241m>\u001b[39m \u001b[38;5;28;01mNone\u001b[39;00m:\n\u001b[1;32m    332\u001b[0m     \u001b[38;5;124;03m\"\"\"Optimize an objective function.\u001b[39;00m\n\u001b[1;32m    333\u001b[0m \n\u001b[1;32m    334\u001b[0m \u001b[38;5;124;03m    Optimization is done by choosing a suitable set of hyperparameter values from a given\u001b[39;00m\n\u001b[0;32m   (...)\u001b[0m\n\u001b[1;32m    422\u001b[0m \u001b[38;5;124;03m            If nested invocation of this method occurs.\u001b[39;00m\n\u001b[1;32m    423\u001b[0m \u001b[38;5;124;03m    \"\"\"\u001b[39;00m\n\u001b[0;32m--> 425\u001b[0m     _optimize(\n\u001b[1;32m    426\u001b[0m         study\u001b[38;5;241m=\u001b[39m\u001b[38;5;28mself\u001b[39m,\n\u001b[1;32m    427\u001b[0m         func\u001b[38;5;241m=\u001b[39mfunc,\n\u001b[1;32m    428\u001b[0m         n_trials\u001b[38;5;241m=\u001b[39mn_trials,\n\u001b[1;32m    429\u001b[0m         timeout\u001b[38;5;241m=\u001b[39mtimeout,\n\u001b[1;32m    430\u001b[0m         n_jobs\u001b[38;5;241m=\u001b[39mn_jobs,\n\u001b[1;32m    431\u001b[0m         catch\u001b[38;5;241m=\u001b[39m\u001b[38;5;28mtuple\u001b[39m(catch) \u001b[38;5;28;01mif\u001b[39;00m \u001b[38;5;28misinstance\u001b[39m(catch, Iterable) \u001b[38;5;28;01melse\u001b[39;00m (catch,),\n\u001b[1;32m    432\u001b[0m         callbacks\u001b[38;5;241m=\u001b[39mcallbacks,\n\u001b[1;32m    433\u001b[0m         gc_after_trial\u001b[38;5;241m=\u001b[39mgc_after_trial,\n\u001b[1;32m    434\u001b[0m         show_progress_bar\u001b[38;5;241m=\u001b[39mshow_progress_bar,\n\u001b[1;32m    435\u001b[0m     )\n",
      "File \u001b[0;32m~/.conda/envs/PyCBCandOptuna/lib/python3.11/site-packages/optuna/study/_optimize.py:66\u001b[0m, in \u001b[0;36m_optimize\u001b[0;34m(study, func, n_trials, timeout, n_jobs, catch, callbacks, gc_after_trial, show_progress_bar)\u001b[0m\n\u001b[1;32m     64\u001b[0m \u001b[38;5;28;01mtry\u001b[39;00m:\n\u001b[1;32m     65\u001b[0m     \u001b[38;5;28;01mif\u001b[39;00m n_jobs \u001b[38;5;241m==\u001b[39m \u001b[38;5;241m1\u001b[39m:\n\u001b[0;32m---> 66\u001b[0m         _optimize_sequential(\n\u001b[1;32m     67\u001b[0m             study,\n\u001b[1;32m     68\u001b[0m             func,\n\u001b[1;32m     69\u001b[0m             n_trials,\n\u001b[1;32m     70\u001b[0m             timeout,\n\u001b[1;32m     71\u001b[0m             catch,\n\u001b[1;32m     72\u001b[0m             callbacks,\n\u001b[1;32m     73\u001b[0m             gc_after_trial,\n\u001b[1;32m     74\u001b[0m             reseed_sampler_rng\u001b[38;5;241m=\u001b[39m\u001b[38;5;28;01mFalse\u001b[39;00m,\n\u001b[1;32m     75\u001b[0m             time_start\u001b[38;5;241m=\u001b[39m\u001b[38;5;28;01mNone\u001b[39;00m,\n\u001b[1;32m     76\u001b[0m             progress_bar\u001b[38;5;241m=\u001b[39mprogress_bar,\n\u001b[1;32m     77\u001b[0m         )\n\u001b[1;32m     78\u001b[0m     \u001b[38;5;28;01melse\u001b[39;00m:\n\u001b[1;32m     79\u001b[0m         \u001b[38;5;28;01mif\u001b[39;00m n_jobs \u001b[38;5;241m==\u001b[39m \u001b[38;5;241m-\u001b[39m\u001b[38;5;241m1\u001b[39m:\n",
      "File \u001b[0;32m~/.conda/envs/PyCBCandOptuna/lib/python3.11/site-packages/optuna/study/_optimize.py:163\u001b[0m, in \u001b[0;36m_optimize_sequential\u001b[0;34m(study, func, n_trials, timeout, catch, callbacks, gc_after_trial, reseed_sampler_rng, time_start, progress_bar)\u001b[0m\n\u001b[1;32m    160\u001b[0m         \u001b[38;5;28;01mbreak\u001b[39;00m\n\u001b[1;32m    162\u001b[0m \u001b[38;5;28;01mtry\u001b[39;00m:\n\u001b[0;32m--> 163\u001b[0m     frozen_trial \u001b[38;5;241m=\u001b[39m _run_trial(study, func, catch)\n\u001b[1;32m    164\u001b[0m \u001b[38;5;28;01mfinally\u001b[39;00m:\n\u001b[1;32m    165\u001b[0m     \u001b[38;5;66;03m# The following line mitigates memory problems that can be occurred in some\u001b[39;00m\n\u001b[1;32m    166\u001b[0m     \u001b[38;5;66;03m# environments (e.g., services that use computing containers such as GitHub Actions).\u001b[39;00m\n\u001b[1;32m    167\u001b[0m     \u001b[38;5;66;03m# Please refer to the following PR for further details:\u001b[39;00m\n\u001b[1;32m    168\u001b[0m     \u001b[38;5;66;03m# https://github.com/optuna/optuna/pull/325.\u001b[39;00m\n\u001b[1;32m    169\u001b[0m     \u001b[38;5;28;01mif\u001b[39;00m gc_after_trial:\n",
      "File \u001b[0;32m~/.conda/envs/PyCBCandOptuna/lib/python3.11/site-packages/optuna/study/_optimize.py:251\u001b[0m, in \u001b[0;36m_run_trial\u001b[0;34m(study, func, catch)\u001b[0m\n\u001b[1;32m    244\u001b[0m         \u001b[38;5;28;01massert\u001b[39;00m \u001b[38;5;28;01mFalse\u001b[39;00m, \u001b[38;5;124m\"\u001b[39m\u001b[38;5;124mShould not reach.\u001b[39m\u001b[38;5;124m\"\u001b[39m\n\u001b[1;32m    246\u001b[0m \u001b[38;5;28;01mif\u001b[39;00m (\n\u001b[1;32m    247\u001b[0m     frozen_trial\u001b[38;5;241m.\u001b[39mstate \u001b[38;5;241m==\u001b[39m TrialState\u001b[38;5;241m.\u001b[39mFAIL\n\u001b[1;32m    248\u001b[0m     \u001b[38;5;129;01mand\u001b[39;00m func_err \u001b[38;5;129;01mis\u001b[39;00m \u001b[38;5;129;01mnot\u001b[39;00m \u001b[38;5;28;01mNone\u001b[39;00m\n\u001b[1;32m    249\u001b[0m     \u001b[38;5;129;01mand\u001b[39;00m \u001b[38;5;129;01mnot\u001b[39;00m \u001b[38;5;28misinstance\u001b[39m(func_err, catch)\n\u001b[1;32m    250\u001b[0m ):\n\u001b[0;32m--> 251\u001b[0m     \u001b[38;5;28;01mraise\u001b[39;00m func_err\n\u001b[1;32m    252\u001b[0m \u001b[38;5;28;01mreturn\u001b[39;00m frozen_trial\n",
      "File \u001b[0;32m~/.conda/envs/PyCBCandOptuna/lib/python3.11/site-packages/optuna/study/_optimize.py:200\u001b[0m, in \u001b[0;36m_run_trial\u001b[0;34m(study, func, catch)\u001b[0m\n\u001b[1;32m    198\u001b[0m \u001b[38;5;28;01mwith\u001b[39;00m get_heartbeat_thread(trial\u001b[38;5;241m.\u001b[39m_trial_id, study\u001b[38;5;241m.\u001b[39m_storage):\n\u001b[1;32m    199\u001b[0m     \u001b[38;5;28;01mtry\u001b[39;00m:\n\u001b[0;32m--> 200\u001b[0m         value_or_values \u001b[38;5;241m=\u001b[39m func(trial)\n\u001b[1;32m    201\u001b[0m     \u001b[38;5;28;01mexcept\u001b[39;00m exceptions\u001b[38;5;241m.\u001b[39mTrialPruned \u001b[38;5;28;01mas\u001b[39;00m e:\n\u001b[1;32m    202\u001b[0m         \u001b[38;5;66;03m# TODO(mamu): Handle multi-objective cases.\u001b[39;00m\n\u001b[1;32m    203\u001b[0m         state \u001b[38;5;241m=\u001b[39m TrialState\u001b[38;5;241m.\u001b[39mPRUNED\n",
      "Cell \u001b[0;32mIn[3], line 5\u001b[0m, in \u001b[0;36mobjective\u001b[0;34m(trial)\u001b[0m\n\u001b[1;32m      3\u001b[0m m1 \u001b[38;5;241m=\u001b[39m trial\u001b[38;5;241m.\u001b[39msuggest_float(\u001b[38;5;124m'\u001b[39m\u001b[38;5;124mm1\u001b[39m\u001b[38;5;124m'\u001b[39m, \u001b[38;5;241m5\u001b[39m, \u001b[38;5;241m100\u001b[39m)\n\u001b[1;32m      4\u001b[0m m2 \u001b[38;5;241m=\u001b[39m trial\u001b[38;5;241m.\u001b[39msuggest_float(\u001b[38;5;124m'\u001b[39m\u001b[38;5;124mm2\u001b[39m\u001b[38;5;124m'\u001b[39m, \u001b[38;5;241m5\u001b[39m, \u001b[38;5;241m100\u001b[39m)\n\u001b[0;32m----> 5\u001b[0m hp, hc \u001b[38;5;241m=\u001b[39m get_td_waveform(approximant\u001b[38;5;241m=\u001b[39m\u001b[38;5;124m\"\u001b[39m\u001b[38;5;124mSEOBNRv4_opt\u001b[39m\u001b[38;5;124m\"\u001b[39m,mass1\u001b[38;5;241m=\u001b[39mm1, mass2\u001b[38;5;241m=\u001b[39mm2, delta_t\u001b[38;5;241m=\u001b[39mconditioned\u001b[38;5;241m.\u001b[39mdelta_t,f_lower\u001b[38;5;241m=\u001b[39m\u001b[38;5;241m20\u001b[39m)\n\u001b[1;32m      6\u001b[0m hp\u001b[38;5;241m.\u001b[39mresize(\u001b[38;5;28mlen\u001b[39m(conditioned))\n\u001b[1;32m      7\u001b[0m template \u001b[38;5;241m=\u001b[39m hp\u001b[38;5;241m.\u001b[39mcyclic_time_shift(hp\u001b[38;5;241m.\u001b[39mstart_time)\n",
      "File \u001b[0;32m~/.conda/envs/PyCBCandOptuna/lib/python3.11/site-packages/pycbc/waveform/waveform.py:596\u001b[0m, in \u001b[0;36mget_td_waveform\u001b[0;34m(template, **kwargs)\u001b[0m\n\u001b[1;32m    594\u001b[0m     required \u001b[38;5;241m=\u001b[39m parameters\u001b[38;5;241m.\u001b[39mtd_required\n\u001b[1;32m    595\u001b[0m check_args(input_params, required)\n\u001b[0;32m--> 596\u001b[0m \u001b[38;5;28;01mreturn\u001b[39;00m wav_gen(\u001b[38;5;241m*\u001b[39m\u001b[38;5;241m*\u001b[39minput_params)\n",
      "File \u001b[0;32m~/.conda/envs/PyCBCandOptuna/lib/python3.11/site-packages/pycbc/waveform/waveform.py:179\u001b[0m, in \u001b[0;36m_lalsim_td_waveform\u001b[0;34m(**p)\u001b[0m\n\u001b[1;32m    176\u001b[0m \u001b[38;5;66;03m#nonGRparams can be straightforwardly added if needed, however they have to\u001b[39;00m\n\u001b[1;32m    177\u001b[0m \u001b[38;5;66;03m# be invoked one by one\u001b[39;00m\n\u001b[1;32m    178\u001b[0m \u001b[38;5;28;01mtry\u001b[39;00m:\n\u001b[0;32m--> 179\u001b[0m     hp1, hc1 \u001b[38;5;241m=\u001b[39m lalsimulation\u001b[38;5;241m.\u001b[39mSimInspiralChooseTDWaveform(\n\u001b[1;32m    180\u001b[0m            \u001b[38;5;28mfloat\u001b[39m(pnutils\u001b[38;5;241m.\u001b[39msolar_mass_to_kg(p[\u001b[38;5;124m'\u001b[39m\u001b[38;5;124mmass1\u001b[39m\u001b[38;5;124m'\u001b[39m])),\n\u001b[1;32m    181\u001b[0m            \u001b[38;5;28mfloat\u001b[39m(pnutils\u001b[38;5;241m.\u001b[39msolar_mass_to_kg(p[\u001b[38;5;124m'\u001b[39m\u001b[38;5;124mmass2\u001b[39m\u001b[38;5;124m'\u001b[39m])),\n\u001b[1;32m    182\u001b[0m            \u001b[38;5;28mfloat\u001b[39m(p[\u001b[38;5;124m'\u001b[39m\u001b[38;5;124mspin1x\u001b[39m\u001b[38;5;124m'\u001b[39m]), \u001b[38;5;28mfloat\u001b[39m(p[\u001b[38;5;124m'\u001b[39m\u001b[38;5;124mspin1y\u001b[39m\u001b[38;5;124m'\u001b[39m]), \u001b[38;5;28mfloat\u001b[39m(p[\u001b[38;5;124m'\u001b[39m\u001b[38;5;124mspin1z\u001b[39m\u001b[38;5;124m'\u001b[39m]),\n\u001b[1;32m    183\u001b[0m            \u001b[38;5;28mfloat\u001b[39m(p[\u001b[38;5;124m'\u001b[39m\u001b[38;5;124mspin2x\u001b[39m\u001b[38;5;124m'\u001b[39m]), \u001b[38;5;28mfloat\u001b[39m(p[\u001b[38;5;124m'\u001b[39m\u001b[38;5;124mspin2y\u001b[39m\u001b[38;5;124m'\u001b[39m]), \u001b[38;5;28mfloat\u001b[39m(p[\u001b[38;5;124m'\u001b[39m\u001b[38;5;124mspin2z\u001b[39m\u001b[38;5;124m'\u001b[39m]),\n\u001b[1;32m    184\u001b[0m            pnutils\u001b[38;5;241m.\u001b[39mmegaparsecs_to_meters(\u001b[38;5;28mfloat\u001b[39m(p[\u001b[38;5;124m'\u001b[39m\u001b[38;5;124mdistance\u001b[39m\u001b[38;5;124m'\u001b[39m])),\n\u001b[1;32m    185\u001b[0m            \u001b[38;5;28mfloat\u001b[39m(p[\u001b[38;5;124m'\u001b[39m\u001b[38;5;124minclination\u001b[39m\u001b[38;5;124m'\u001b[39m]), \u001b[38;5;28mfloat\u001b[39m(p[\u001b[38;5;124m'\u001b[39m\u001b[38;5;124mcoa_phase\u001b[39m\u001b[38;5;124m'\u001b[39m]),\n\u001b[1;32m    186\u001b[0m            \u001b[38;5;28mfloat\u001b[39m(p[\u001b[38;5;124m'\u001b[39m\u001b[38;5;124mlong_asc_nodes\u001b[39m\u001b[38;5;124m'\u001b[39m]), \u001b[38;5;28mfloat\u001b[39m(p[\u001b[38;5;124m'\u001b[39m\u001b[38;5;124meccentricity\u001b[39m\u001b[38;5;124m'\u001b[39m]), \u001b[38;5;28mfloat\u001b[39m(p[\u001b[38;5;124m'\u001b[39m\u001b[38;5;124mmean_per_ano\u001b[39m\u001b[38;5;124m'\u001b[39m]),\n\u001b[1;32m    187\u001b[0m            \u001b[38;5;28mfloat\u001b[39m(p[\u001b[38;5;124m'\u001b[39m\u001b[38;5;124mdelta_t\u001b[39m\u001b[38;5;124m'\u001b[39m]), \u001b[38;5;28mfloat\u001b[39m(p[\u001b[38;5;124m'\u001b[39m\u001b[38;5;124mf_lower\u001b[39m\u001b[38;5;124m'\u001b[39m]), \u001b[38;5;28mfloat\u001b[39m(p[\u001b[38;5;124m'\u001b[39m\u001b[38;5;124mf_ref\u001b[39m\u001b[38;5;124m'\u001b[39m]),\n\u001b[1;32m    188\u001b[0m            lal_pars,\n\u001b[1;32m    189\u001b[0m            _lalsim_enum[p[\u001b[38;5;124m'\u001b[39m\u001b[38;5;124mapproximant\u001b[39m\u001b[38;5;124m'\u001b[39m]])\n\u001b[1;32m    190\u001b[0m \u001b[38;5;28;01mexcept\u001b[39;00m \u001b[38;5;167;01mRuntimeError\u001b[39;00m:\n\u001b[1;32m    191\u001b[0m     \u001b[38;5;28;01mif\u001b[39;00m \u001b[38;5;129;01mnot\u001b[39;00m fail_tolerant_waveform_generation:\n",
      "\u001b[0;31mRuntimeError\u001b[0m: Internal function call failed: Input domain error"
     ]
    }
   ],
   "source": [
    "study = optuna.create_study(direction=\"maximize\")\n",
    "study.optimize(objective, n_trials=100)\n",
    "print(study.best_params)"
   ]
  },
  {
   "cell_type": "code",
   "execution_count": null,
   "id": "76b035e1-4dea-495e-8282-c91414f4ec27",
   "metadata": {},
   "outputs": [],
   "source": []
  }
 ],
 "metadata": {
  "kernelspec": {
   "display_name": "PyCBCandOptuna",
   "language": "python",
   "name": "pycbcandoptuna"
  },
  "language_info": {
   "codemirror_mode": {
    "name": "ipython",
    "version": 3
   },
   "file_extension": ".py",
   "mimetype": "text/x-python",
   "name": "python",
   "nbconvert_exporter": "python",
   "pygments_lexer": "ipython3",
   "version": "3.11.0"
  }
 },
 "nbformat": 4,
 "nbformat_minor": 5
}
