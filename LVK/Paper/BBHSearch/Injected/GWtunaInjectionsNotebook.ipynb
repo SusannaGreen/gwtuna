{
 "cells": [
  {
   "cell_type": "code",
   "execution_count": 26,
   "id": "b0b49b3f-0863-4280-a5d2-6cd04c3bf9b8",
   "metadata": {},
   "outputs": [],
   "source": [
    "import numpy as np\n",
    "import operator\n",
    "import logging\n",
    "import time\n",
    "\n",
    "import matplotlib.pyplot as plt\n",
    "\n",
    "import optuna\n",
    "\n",
    "import jax.numpy as jnp\n",
    "from jax import grad, jit\n",
    "\n",
    "from functools import partial\n",
    "import gwjax\n",
    "import gwjax.imrphenom\n",
    "\n",
    "from pycbc.catalog import Merger\n",
    "from pycbc.filter import resample_to_delta_t, highpass\n",
    "from pycbc.psd import interpolate, inverse_spectrum_truncation\n",
    "from pycbc.waveform import get_fd_waveform\n",
    "from pycbc.filter import matched_filter, sigmasq, get_cutoff_indices\n",
    "from pycbc.psd.analytical import aLIGOAdVO3LowT1800545"
   ]
  },
  {
   "cell_type": "code",
   "execution_count": 27,
   "id": "76bcce16-5c5c-4fff-b033-cc4b083da1e9",
   "metadata": {},
   "outputs": [],
   "source": [
    "class NeedsInvestigatingCallback(object):\n",
    "    \"\"\"A callback for Optuna which identifies potential events.\"\"\"\n",
    "\n",
    "    def __init__(self, early_stopping_rounds: int, snr_threshold: int, direction: str = \"minimize\") -> None:\n",
    "        self.snr_threshold = snr_threshold\n",
    "        self.early_stopping_rounds = early_stopping_rounds\n",
    "        \n",
    "        self._iter = 0\n",
    "\n",
    "        if direction == \"minimize\":\n",
    "            self._operator = operator.lt\n",
    "            self._score = np.inf\n",
    "        elif direction == \"maximize\":\n",
    "            self._operator = operator.gt\n",
    "            self._score = -np.inf\n",
    "        else:\n",
    "            ValueError(f\"invalid direction: {direction}\")\n",
    "\n",
    "    def __call__(self, study: optuna.Study, trial: optuna.Trial) -> None:\n",
    "        \"\"\"Goes onto Stocastic Gradient Descent.\"\"\"\n",
    "        if self._operator(study.best_value, self._score):\n",
    "            self._iter = 0\n",
    "            self._score = study.best_value\n",
    "        else:\n",
    "            self._iter += 1\n",
    "\n",
    "        if self._score <= self.snr_threshold:\n",
    "            if self._iter >= self.early_stopping_rounds:\n",
    "                study.stop()\n",
    "                print(study.best_params)\n",
    "                \n",
    "        if self._score >= self.snr_threshold:\n",
    "            study.stop()\n",
    "            print(f'Optuna has stopped with {study.best_params} because snr threshold has been reached.')\n",
    "            # Perform gradient descent to find the lowest SNR\n",
    "            initial_m1 = study.best_params['m1'] #from the Optuna section of GWtuna\n",
    "            initial_m2 = study.best_params['m2'] #from the Optuna section of GWtuna\n",
    "            initial_s1 = 0.0\n",
    "            initial_s2 = 0.0\n",
    "            # Set the learning rate and number of iterations for gradient descent\n",
    "            mass_learning_rate = 0.1\n",
    "            spin_learning_rate = 0.00001\n",
    "            print(f'Jax is about to start using Gradient Descent')\n",
    "            optimized_m1, optimized_m2, optimized_s1, optimized_s2 = gradient_descent(initial_m1, initial_m2, initial_s1, initial_s2, mass_learning_rate, spin_learning_rate, my_waveform_template, my_matched_filter, my_snr)\n",
    "            print(\"Optimized Mass and Spin Parameters: m1 =\", optimized_m1, \"m2 =\", optimized_m2, \"s1 =\", optimized_s1, \"s2 =\", optimized_s2)\n",
    "            print(\"The SNR is with the optimized parameters:\", -objective([optimized_m1, optimized_m2, optimized_s1, optimized_s2]))"
   ]
  },
  {
   "cell_type": "code",
   "execution_count": 28,
   "id": "f956b42c-eced-4bf8-9ddf-bf28e4e5a113",
   "metadata": {},
   "outputs": [],
   "source": [
    "# Define the conditiion data function\n",
    "dynfac = 1.0e23\n",
    "def condition(strain, sampling_rate):\n",
    "    tmp = resample_to_delta_t(highpass(strain, 15.0), 1.0/sampling_rate).crop(2,2)\n",
    "    return (dynfac*tmp)\n",
    "\n",
    "# Define the PSD function \n",
    "def estimate_psd(strain, delta_f):\n",
    "    psd = strain.psd(4)\n",
    "    psd = interpolate(psd, delta_f)\n",
    "    psd = inverse_spectrum_truncation(psd, int(4 * strain.sample_rate),\n",
    "                                  low_frequency_cutoff=15, trunc_method='hann')\n",
    "    return psd\n",
    "\n",
    "# Define the matched filter function\n",
    "def matched_filter(signal_duration, sampling_rate, kmin, kmax, fcore, template): \n",
    "    workspace = jnp.zeros(int(sampling_rate*signal_duration), dtype=complex) \n",
    "    result_fft = fcore * jnp.conjugate(template) \n",
    "    workspace = workspace.at[kmin:kmax].set(result_fft)\n",
    "    result = jnp.fft.ifft(workspace)\n",
    "    result *= len(result)\n",
    "    return result\n",
    "\n",
    "# Define the waveform template function\n",
    "def waveform_template(freqs, m1, m2, s1, s2):\n",
    "    params = {'phase': 0., 'geocent_time': 0.,\n",
    "            'luminosity_distance': 1, 'theta_jn': 0., \n",
    "            'm1': m1, 'm2': m2, 'spin1': s1, 'spin2': s2,\n",
    "            'ra': 0., 'dec': 0., 'pol': 0.}\n",
    "    # Create the waveform template using the mass parameters\n",
    "    # Adjust this function based on your specific waveform model\n",
    "    #may want to do partial on this\n",
    "    return gwjax.imrphenom.IMRPhenomD(freqs, params)\n",
    "\n",
    "# Define the waveform template function\n",
    "def injected_template(freqs, m1, m2, s1, s2):\n",
    "    params = {'phase': 0., 'geocent_time': 0.,\n",
    "            'luminosity_distance': 1, 'theta_jn': 0., \n",
    "            'm1': m1, 'm2': m2, 'spin1': s1, 'spin2': s2,\n",
    "            'ra': 0., 'dec': 0., 'pol': 0.}\n",
    "    # Create the waveform template using the mass parameters\n",
    "    # Adjust this function based on your specific waveform model\n",
    "    #may want to do partial on this\n",
    "    return gwjax.imrphenom.IMRPhenomD(freqs, params)\n",
    "\n",
    "# Define sigma squared function \n",
    "def sigma_squared(delta_freq, invpsd, template):\n",
    "    weighted_inner = jnp.sum(template*jnp.conj(template)*invpsd)\n",
    "    h_norm = 4*delta_freq\n",
    "    sigma_squared = jnp.real(weighted_inner)*h_norm\n",
    "    #print(f'sigma_squared {sigma_squared}')\n",
    "    return sigma_squared\n",
    "\n",
    "# Define the waveform template function\n",
    "def optuna_waveform_template(freqs, m1, m2):\n",
    "    params = {'phase': 0., 'geocent_time': 0.,\n",
    "            'luminosity_distance': 1, 'theta_jn': 0., \n",
    "            'm1': m1, 'm2': m2, 'spin1': 0, 'spin2': 0,\n",
    "            'ra': 0., 'dec': 0., 'pol': 0.}\n",
    "    # Create the waveform template using the mass parameters\n",
    "    # Adjust this function based on your specific waveform model\n",
    "    #may want to do partial on this\n",
    "    return gwjax.imrphenom.IMRPhenomD(freqs, params)\n",
    "\n",
    "def snr(invpsd, delta_freq, sampling_rate, matched_output, sigma_squared_output):\n",
    "    norm = 4*delta_freq / jnp.sqrt(sigma_squared_output)\n",
    "    snr = matched_output*norm\n",
    "    snr_min = int((2+4)*sampling_rate)\n",
    "    snr_max = len(snr)-int((2)*sampling_rate)\n",
    "    snr = snr[snr_min:snr_max]\n",
    "    peak = jnp.argmax(jnp.absolute(snr))\n",
    "    snrp = jnp.absolute(snr[peak])\n",
    "    return(snrp)\n",
    "\n",
    "# Define the objective function to minimize (negative SNR)\n",
    "def objective(params):\n",
    "    m1, m2, s1, s2 = params\n",
    "    template, _ = my_waveform_template(m1, m2, s1, s2)\n",
    "    #print(template)\n",
    "    matched_output = my_matched_filter(template)\n",
    "    #print(matched_output)\n",
    "    sigma_squared_output = my_sigma_squared(template)\n",
    "    #print(sigma_squared_output)\n",
    "    snr_peak = my_snr(matched_output, sigma_squared_output)\n",
    "    #print(snr_peak)\n",
    "    return -snr_peak\n",
    "\n",
    "# Perform gradient descent\n",
    "def gradient_descent(initial_m1, initial_m2, initial_s1, initial_s2, mass_learning_rate, spin_learning_rate, my_waveform_template, my_matched_filter, my_snr):\n",
    "    precision = 0.001\n",
    "    iters = 0 \n",
    "    Total_gradient = 0.1\n",
    "    # Initialize the parameters\n",
    "    m1, m2, s1, s2 = initial_m1, initial_m2, initial_s1, initial_s2\n",
    "    \n",
    "    # Define the gradient of the objective function\n",
    "    objective_grad = jit(grad(objective))\n",
    "\n",
    "    while abs(float(Total_gradient)) > precision:\n",
    "        \n",
    "        # Compute the gradient\n",
    "        grad_m1, grad_m2, grad_s1, grad_s2 = objective_grad((m1, m2, s1, s2))\n",
    "        \n",
    "        # Update the parameters\n",
    "        m1 -= mass_learning_rate * grad_m1\n",
    "        m2 -= mass_learning_rate * grad_m2\n",
    "        s1 -= spin_learning_rate * grad_s1\n",
    "        s2 -= spin_learning_rate * grad_s2\n",
    "        \n",
    "        iters = iters+1 #iteration count\n",
    "        \n",
    "        Total_gradient = abs(float(grad_m1))\n",
    "        \n",
    "        if iters%100 == 0:\n",
    "            print(\"Iteration\",iters,\"\\n values is\", m1, m2, s1, s2, \"\\n Total Gradient is\", abs(float(grad_m1)))\n",
    "        \n",
    "        if s1<-0.99 or s1>0.99:\n",
    "            print('Help the spin is out of range')\n",
    "            break\n",
    "            \n",
    "    return m1, m2, s1, s2"
   ]
  },
  {
   "cell_type": "code",
   "execution_count": 29,
   "id": "aaa3fbc2-d94c-4c94-aaa4-ab3a45e91c98",
   "metadata": {},
   "outputs": [],
   "source": [
    "#Defining the PSD\n",
    "sampling_rate = 2048\n",
    "signal_duration = int(28)\n",
    "delta_freq = 1.0 / signal_duration\n",
    "\n",
    "#Determine the low freq and high frequency cut off\n",
    "kmin, kmax = 15*signal_duration, 900*signal_duration\n",
    "\n",
    "psd = aLIGOAdVO3LowT1800545(1+signal_duration*sampling_rate//2, delta_f=delta_freq, low_freq_cutoff=12)\n",
    "invpsd = psd**(-1)"
   ]
  },
  {
   "cell_type": "code",
   "execution_count": 33,
   "id": "ba14e288-6d1e-4e1d-a00e-ced1bfa41444",
   "metadata": {},
   "outputs": [
    {
     "data": {
      "text/plain": [
       "(1.0, 10000.0)"
      ]
     },
     "execution_count": 33,
     "metadata": {},
     "output_type": "execute_result"
    },
    {
     "data": {
      "image/png": "[encoded data removed]",
      "text/plain": [
       "<Figure size 640x480 with 1 Axes>"
      ]
     },
     "metadata": {},
     "output_type": "display_data"
    }
   ],
   "source": [
    "plt.plot(psd*dynfac**2)\n",
    "plt.xlim(1, 10000)"
   ]
  },
  {
   "cell_type": "code",
   "execution_count": 6,
   "id": "59ae61ab-916a-410a-8000-aa58f0508bd1",
   "metadata": {},
   "outputs": [],
   "source": [
    "#Get the frequency range\n",
    "nyquist = sampling_rate//2\n",
    "freqs = jnp.arange(1+(nyquist*signal_duration))/signal_duration\n",
    "\n",
    "#Create an injection template\n",
    "injection, _ = injected_template(freqs, m1=35, m2=24, s1=0.1, s2=0.1)"
   ]
  },
  {
   "cell_type": "code",
   "execution_count": 20,
   "id": "78c0c021-8ad7-46c0-afbf-9dafaf4054bc",
   "metadata": {},
   "outputs": [
    {
     "data": {
      "text/plain": [
       "(1.0, 20.0)"
      ]
     },
     "execution_count": 20,
     "metadata": {},
     "output_type": "execute_result"
    },
    {
     "data": {
      "image/png": "[encoded data removed]",
      "text/plain": [
       "<Figure size 640x480 with 1 Axes>"
      ]
     },
     "metadata": {},
     "output_type": "display_data"
    }
   ],
   "source": [
    "plt.plot(injection)\n",
    "plt.xlim(1, 20)"
   ]
  },
  {
   "cell_type": "code",
   "execution_count": 8,
   "id": "5c7c639d-4e8d-435c-a0fb-fa438a730251",
   "metadata": {},
   "outputs": [
    {
     "name": "stdout",
     "output_type": "stream",
     "text": [
      "[            nan           +nanj -4.36363358e+03-3.48549297e+03j\n",
      "  4.96519692e+02+2.43648895e+03j ...  8.46204998e-09-5.99625937e-09j\n",
      "  8.46544471e-09-5.97997342e-09j  8.46881331e-09-5.96369303e-09j]\n",
      "24780\n",
      "24780\n",
      "24780\n",
      "24780\n"
     ]
    }
   ],
   "source": [
    "#Add the noise to the template\n",
    "injection = injection+jnp.asarray(psd)\n",
    "print(injection)\n",
    "#Define a variable that is the data/PSD\n",
    "fcore = injection*jnp.asarray(invpsd)\n",
    "\n",
    "#Make everything the same length\n",
    "fcore = jnp.asarray(fcore[kmin:kmax])\n",
    "print(len(fcore))\n",
    "psd = jnp.asarray(psd[kmin:kmax])\n",
    "print(len(psd))\n",
    "invpsd = jnp.asarray(invpsd[kmin:kmax])\n",
    "print(len(invpsd))\n",
    "freqs = freqs[kmin:kmax]\n",
    "print(len(freqs))\n",
    "\n",
    "#Get the stage ready for the template\n",
    "my_waveform_template = partial(waveform_template, freqs)\n",
    "my_optuna_waveform_template = partial(optuna_waveform_template, freqs)\n",
    "my_matched_filter = partial(matched_filter, signal_duration, sampling_rate, kmin, kmax, fcore)\n",
    "my_sigma_squared = partial(sigma_squared, delta_freq, invpsd)\n",
    "my_snr = partial(snr, invpsd, delta_freq, sampling_rate)"
   ]
  },
  {
   "cell_type": "code",
   "execution_count": 22,
   "id": "a372822c-11f4-425e-b342-b5325f82b6eb",
   "metadata": {},
   "outputs": [
    {
     "data": {
      "text/plain": [
       "(1.0, 20.0)"
      ]
     },
     "execution_count": 22,
     "metadata": {},
     "output_type": "execute_result"
    },
    {
     "data": {
      "image/png": "[encoded data removed]",
      "text/plain": [
       "<Figure size 640x480 with 1 Axes>"
      ]
     },
     "metadata": {},
     "output_type": "display_data"
    }
   ],
   "source": [
    "plt.plot(injection)\n",
    "plt.xlim(1, 20)"
   ]
  },
  {
   "cell_type": "code",
   "execution_count": 10,
   "id": "33762815-5fdb-47c2-9e7f-88db66b10fcc",
   "metadata": {},
   "outputs": [],
   "source": [
    "def optuna_objective(trial):\n",
    "    m1 = trial.suggest_float('m1', 2, 100, step=0.000001)\n",
    "    m2 = trial.suggest_float('m2', 2, 100, step=0.000001)\n",
    "    template, _ = my_optuna_waveform_template(m1, m2)\n",
    "    matched_output = my_matched_filter(template)\n",
    "    sigma_squared_output = my_sigma_squared(template)\n",
    "    snr_peak = my_snr(matched_output, sigma_squared_output)\n",
    "    return snr_peak"
   ]
  },
  {
   "cell_type": "code",
   "execution_count": 11,
   "id": "61923d6e-20e3-4a7b-8af6-91ad4ecacd0b",
   "metadata": {},
   "outputs": [
    {
     "name": "stderr",
     "output_type": "stream",
     "text": [
      "\u001b[32m[I 2023-05-31 10:01:49,768]\u001b[0m A new study created in memory with name: no-name-807a267b-7baa-4fb2-be1f-080bc66c4b67\u001b[0m\n",
      "\u001b[32m[I 2023-05-31 10:01:50,573]\u001b[0m Trial 0 finished with value: 2.9763431539622706e+21 and parameters: {'m1': 59.494844, 'm2': 41.084249}. Best is trial 0 with value: 2.9763431539622706e+21.\u001b[0m\n"
     ]
    },
    {
     "name": "stdout",
     "output_type": "stream",
     "text": [
      "Optuna has stopped with {'m1': 59.494844, 'm2': 41.084249} because snr threshold has been reached.\n",
      "Jax is about to start using Gradient Descent\n",
      "Help the spin is out of range\n",
      "Optimized Mass and Spin Parameters: m1 = -1.7718914632154194e+16 m2 = 1.6684252984615424e+18 s1 = -3.3823145773358196e+16 s2 = -2.0366787294896376e+16\n",
      "The SNR is with the optimized parameters: nan\n",
      "Time taken 6.805654764175415\n",
      "The injection has the best {'m1': 59.494844, 'm2': 41.084249} with a snr 2.9763431539622706e+21\n"
     ]
    }
   ],
   "source": [
    "start_time = time.time()\n",
    "#optuna.logging.disable_default_handler()\n",
    "direction=\"maximize\"\n",
    "study = optuna.create_study(sampler=optuna.samplers.TPESampler(), direction=direction)\n",
    "needs_to_be_investigated = NeedsInvestigatingCallback(300, snr_threshold=19, direction=direction)\n",
    "study.optimize(optuna_objective, callbacks=[needs_to_be_investigated], n_trials=500)\n",
    "print(\"Time taken\", time.time() - start_time)\n",
    "print(f'The injection has the best {study.best_params} with a snr {study.best_value}')"
   ]
  },
  {
   "cell_type": "code",
   "execution_count": null,
   "id": "278cafd9-f3ac-4ee6-a78f-f1f975e874ef",
   "metadata": {},
   "outputs": [],
   "source": []
  },
  {
   "cell_type": "code",
   "execution_count": null,
   "id": "54e188cc-f257-46a8-acff-304b5df477a1",
   "metadata": {},
   "outputs": [],
   "source": []
  }
 ],
 "metadata": {
  "kernelspec": {
   "display_name": "PyCBCandOptuna",
   "language": "python",
   "name": "pycbcandoptuna"
  },
  "language_info": {
   "codemirror_mode": {
    "name": "ipython",
    "version": 3
   },
   "file_extension": ".py",
   "mimetype": "text/x-python",
   "name": "python",
   "nbconvert_exporter": "python",
   "pygments_lexer": "ipython3",
   "version": "3.11.3"
  }
 },
 "nbformat": 4,
 "nbformat_minor": 5
}
