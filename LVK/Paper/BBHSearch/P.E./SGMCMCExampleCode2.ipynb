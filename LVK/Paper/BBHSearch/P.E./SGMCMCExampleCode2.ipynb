{
 "cells": [
  {
   "cell_type": "code",
   "execution_count": 1,
   "id": "26113041-263f-4127-aa07-9f60f1b71423",
   "metadata": {},
   "outputs": [
    {
     "name": "stderr",
     "output_type": "stream",
     "text": [
      "/mnt/lustre/shared_conda/envs/sgreen/PyCBCandOptuna/lib/python3.11/site-packages/tqdm/auto.py:21: TqdmWarning: IProgress not found. Please update jupyter and ipywidgets. See https://ipywidgets.readthedocs.io/en/stable/user_install.html\n",
      "  from .autonotebook import tqdm as notebook_tqdm\n",
      "No GPU/TPU found, falling back to CPU. (Set TF_CPP_MIN_LOG_LEVEL=0 and rerun for more info.)\n",
      "Running for 10,000 iterations: 100%|██████████| 10000/10000 [00:01<00:00, 8900.03it/s]\n"
     ]
    },
    {
     "name": "stdout",
     "output_type": "stream",
     "text": [
      "(10000, 100)\n",
      "(100,)\n",
      "test passed\n"
     ]
    }
   ],
   "source": [
    "import jax.numpy as jnp\n",
    "from jax import random\n",
    "\n",
    "from sgmcmcjax.samplers import build_sgld_sampler\n",
    "\n",
    "\n",
    "def loglikelihood(theta, x):\n",
    "    return -0.5 * jnp.dot(x - theta, x - theta)\n",
    "\n",
    "\n",
    "def logprior(theta):\n",
    "    return -0.5 * jnp.dot(theta, theta) * 0.01\n",
    "\n",
    "\n",
    "# generate dataset\n",
    "N, D = 10_000, 100\n",
    "key = random.PRNGKey(0)\n",
    "mu_true = random.normal(key, (D,))\n",
    "X_data = random.normal(key, shape=(N, D)) + mu_true\n",
    "\n",
    "# build sampler\n",
    "batch_size = int(0.1 * N)\n",
    "dt = 1e-5\n",
    "sampler = build_sgld_sampler(dt, loglikelihood, logprior, (X_data,), batch_size)\n",
    "\n",
    "# run sampler\n",
    "Nsamples = 10_000\n",
    "samples = sampler(key, Nsamples, jnp.zeros(D))\n",
    "\n",
    "# test\n",
    "print(samples.shape)\n",
    "mu_est = jnp.mean(samples, axis=0)\n",
    "print(mu_est.shape)\n",
    "assert jnp.allclose(mu_est, mu_true, atol=1e-1)\n",
    "print(\"test passed\")"
   ]
  },
  {
   "cell_type": "code",
   "execution_count": null,
   "id": "517e96c4-a4ba-4164-9e2e-956692f2131b",
   "metadata": {},
   "outputs": [],
   "source": []
  }
 ],
 "metadata": {
  "kernelspec": {
   "display_name": "PyCBCandOptuna",
   "language": "python",
   "name": "pycbcandoptuna"
  },
  "language_info": {
   "codemirror_mode": {
    "name": "ipython",
    "version": 3
   },
   "file_extension": ".py",
   "mimetype": "text/x-python",
   "name": "python",
   "nbconvert_exporter": "python",
   "pygments_lexer": "ipython3",
   "version": "3.11.3"
  }
 },
 "nbformat": 4,
 "nbformat_minor": 5
}
