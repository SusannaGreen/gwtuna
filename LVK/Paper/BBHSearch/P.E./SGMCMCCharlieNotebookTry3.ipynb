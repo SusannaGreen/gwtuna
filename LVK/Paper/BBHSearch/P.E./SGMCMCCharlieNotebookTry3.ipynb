{
 "cells": [
  {
   "cell_type": "code",
   "execution_count": 1,
   "id": "3a9c57aa-4de7-4aed-9356-b5af9f79f07b",
   "metadata": {
    "tags": []
   },
   "outputs": [
    {
     "name": "stderr",
     "output_type": "stream",
     "text": [
      "No GPU/TPU found, falling back to CPU. (Set TF_CPP_MIN_LOG_LEVEL=0 and rerun for more info.)\n"
     ]
    }
   ],
   "source": [
    "import jax\n",
    "import jax.numpy as jnp\n",
    "import jax.scipy.stats as stats\n",
    "import matplotlib.pyplot as plt\n",
    "import numpy as np\n",
    "\n",
    "import blackjax\n",
    "\n",
    "from ripple.waveforms import IMRPhenomXAS\n",
    "from ripple import ms_to_Mc_eta\n",
    "\n",
    "from fastprogress import progress_bar\n",
    "\n",
    "import blackjax\n",
    "\n",
    "from pycbc.catalog import Merger\n",
    "from pycbc.filter import resample_to_delta_t, highpass\n",
    "from pycbc.psd import interpolate, inverse_spectrum_truncation\n",
    "from pycbc.waveform import get_fd_waveform\n",
    "from pycbc.filter import matched_filter, sigmasq, get_cutoff_indices"
   ]
  },
  {
   "cell_type": "code",
   "execution_count": 2,
   "id": "b5fa1be6-a12b-4aaf-a98c-3973cc653589",
   "metadata": {},
   "outputs": [],
   "source": [
    "data = {\"L1\": jnp.load(\"/users/sgreen/gwtuna/LVK/Paper/BBHSearch/P.E./L1_data.npy\")}#, \"H1\": jnp.load(\"H1_data.npy\")}\n",
    "freqs = jnp.load(\"/users/sgreen/gwtuna/LVK/Paper/BBHSearch/P.E./L1_freqs.npy\")\n",
    "psd = {\"L1\": jnp.load(\"/users/sgreen/gwtuna/LVK/Paper/BBHSearch/P.E./L1_psd.npy\")}#, \"H1\": jnp.load(\"H1_psd.npy\")}"
   ]
  },
  {
   "cell_type": "code",
   "execution_count": 3,
   "id": "4d2c5b60-2832-4922-b42e-86d987630d21",
   "metadata": {},
   "outputs": [],
   "source": [
    "# Define the conditiion data function\n",
    "dynfac = 1.0e23\n",
    "def condition(strain, sampling_rate):\n",
    "    tmp = resample_to_delta_t(highpass(strain, 15.0), 1.0/sampling_rate).crop(2,2)\n",
    "    return (dynfac*tmp)\n",
    "\n",
    "# Define the PSD function \n",
    "def estimate_psd(strain, delta_f):\n",
    "    psd = strain.psd(4)\n",
    "    psd = interpolate(psd, delta_f)\n",
    "    psd = inverse_spectrum_truncation(psd, int(4 * strain.sample_rate),\n",
    "                                  low_frequency_cutoff=15, trunc_method='hann')\n",
    "    return psd\n",
    "\n",
    "@jax.jit\n",
    "def log_likelihood(mchirp, eta, chi1, chi2, tc, phic, dist_mpc, inclination):\n",
    "    hp, hc = waveform_generator(\n",
    "        freqs, mchirp, eta, chi1, chi2, tc, phic, dist_mpc, inclination,\n",
    "    )\n",
    "    d_inner_h = 0.\n",
    "    optimal_snr_squared = 0.\n",
    "    for ifo in data.keys():\n",
    "        if ifo == \"L1\":\n",
    "            fp = -0.456852978678261\n",
    "            fc = 0.36204310587763466\n",
    "        else:\n",
    "            fp = 0.45529254427236665\n",
    "            fc = -0.6283981252126967\n",
    "        h = hp*fp + hc*fc\n",
    "        h_star = jnp.conj(h)\n",
    "        integrand = jnp.nan_to_num(h_star * data[ifo] / psd[ifo], 0.)\n",
    "        d_inner_h += 4.0 / 32.0 * jnp.sum(integrand)\n",
    "        integrand = jnp.nan_to_num(h_star * h / psd[ifo], 0.)\n",
    "        optimal_snr_squared += (4.0 / 32.0 * jnp.sum(integrand)).real\n",
    "    log_l = d_inner_h.real - optimal_snr_squared / 2\n",
    "    return log_l.real\n",
    "\n",
    "def log_probability(mchirp, eta, chi1, chi2, tc, phic, dist_mpc, inclination):\n",
    "    return log_likelihood(mchirp, eta, chi1, chi2, tc, phic, dist_mpc, inclination)\n",
    "\n",
    "@jax.jit\n",
    "def waveform(fs, theta, fref):\n",
    "    return IMRPhenomXAS.gen_IMRPhenomXAS_polar(fs, theta, fref)\n",
    "\n",
    "@jax.jit\n",
    "def waveform_generator(\n",
    "    fs, mchirp, eta, chi1, chi2, tc, phic, dist_mpc, inclination,\n",
    "    **kwargs\n",
    "):\n",
    "    fref = kwargs.get(\"fref\", 20)\n",
    "    theta_ripple = jnp.array(\n",
    "        [mchirp, eta, chi1, chi2, dist_mpc, tc, phic, inclination]\n",
    "    )\n",
    "    hp, hc = waveform(fs, theta_ripple, fref)\n",
    "    return hp, hc"
   ]
  },
  {
   "cell_type": "code",
   "execution_count": 4,
   "id": "79626ff0-d55d-43c5-905b-13e2beaa2bea",
   "metadata": {
    "tags": []
   },
   "outputs": [],
   "source": [
    "logdensity = lambda a: log_probability(**a)"
   ]
  },
  {
   "cell_type": "code",
   "execution_count": 12,
   "id": "03935618-f803-4e65-a4cc-b3abc58c66a1",
   "metadata": {
    "tags": []
   },
   "outputs": [],
   "source": [
    "minibatch = 0\n",
    "step_size = 1e-3\n",
    "\n",
    "sgld = blackjax.sgld(logdensity)"
   ]
  },
  {
   "cell_type": "code",
   "execution_count": 13,
   "id": "5730a6d4-0101-4a20-a541-4e90139687c7",
   "metadata": {
    "tags": []
   },
   "outputs": [
    {
     "data": {
      "text/plain": [
       "{'mchirp': 30.0,\n",
       " 'eta': 50.15,\n",
       " 'chi1': 0.0,\n",
       " 'chi2': 0.0,\n",
       " 'tc': 112625946.0,\n",
       " 'phic': 2.0,\n",
       " 'dist_mpc': 100.0,\n",
       " 'inclination': 2.0}"
      ]
     },
     "execution_count": 13,
     "metadata": {},
     "output_type": "execute_result"
    }
   ],
   "source": [
    "initial_position = {\"mchirp\": 30.0, \"eta\": 50.15, \"chi1\": 0.0, \"chi2\": 0.0, \"tc\": 112625946.0, \"phic\": 2.0, \"dist_mpc\": 100., \"inclination\": 2.0}\n",
    "initial_state = sgld.init(initial_position)\n",
    "initial_state"
   ]
  },
  {
   "cell_type": "code",
   "execution_count": 14,
   "id": "5cdda2dd-ff52-41f0-865f-fceb60737ac1",
   "metadata": {
    "tags": []
   },
   "outputs": [],
   "source": [
    "sgld_kernel = jax.jit(sgld.step)"
   ]
  },
  {
   "cell_type": "code",
   "execution_count": 18,
   "id": "c1d09173-e016-49aa-b1ca-5e1d4accf9e9",
   "metadata": {
    "tags": []
   },
   "outputs": [
    {
     "ename": "IndentationError",
     "evalue": "unindent does not match any outer indentation level (<tokenize>, line 13)",
     "output_type": "error",
     "traceback": [
      "\u001b[0;36m  File \u001b[0;32m<tokenize>:13\u001b[0;36m\u001b[0m\n\u001b[0;31m    step_size, minibatch\u001b[0m\n\u001b[0m    ^\u001b[0m\n\u001b[0;31mIndentationError\u001b[0m\u001b[0;31m:\u001b[0m unindent does not match any outer indentation level\n"
     ]
    }
   ],
   "source": [
    "def inference_loop(rng_key, kernel, initial_state, num_samples):\n",
    "    @jax.jit\n",
    "    def step_with_sgld(current_state):\n",
    "        rng_key, state, minibatch, step_size = current_state\n",
    "        new_position = sgld(rng_key, state.position, minibatch, step_size)\n",
    "        return CyclicalSGMCMCState(new_position, state.opt_state)\n",
    "\n",
    "    keys = jax.random.split(rng_key, num_samples)\n",
    "    _, states = jax.lax.scan(one_step, initial_state, keys)\n",
    "\n",
    "    return states\n",
    "\n",
    " step_size, minibatch"
   ]
  },
  {
   "cell_type": "code",
   "execution_count": 19,
   "id": "2c746951-6fbb-4d81-ac6f-e8de7e761fa2",
   "metadata": {
    "tags": []
   },
   "outputs": [
    {
     "ename": "TypeError",
     "evalue": "sgld.__new__.<locals>.step_fn() missing 2 required positional arguments: 'minibatch' and 'step_size'",
     "output_type": "error",
     "traceback": [
      "\u001b[0;31m---------------------------------------------------------------------------\u001b[0m",
      "\u001b[0;31mTypeError\u001b[0m                                 Traceback (most recent call last)",
      "File \u001b[0;32m<timed exec>:2\u001b[0m\n",
      "Cell \u001b[0;32mIn[15], line 8\u001b[0m, in \u001b[0;36minference_loop\u001b[0;34m(rng_key, kernel, initial_state, num_samples)\u001b[0m\n\u001b[1;32m      5\u001b[0m     \u001b[38;5;28;01mreturn\u001b[39;00m state, state\n\u001b[1;32m      7\u001b[0m keys \u001b[38;5;241m=\u001b[39m jax\u001b[38;5;241m.\u001b[39mrandom\u001b[38;5;241m.\u001b[39msplit(rng_key, num_samples)\n\u001b[0;32m----> 8\u001b[0m _, states \u001b[38;5;241m=\u001b[39m jax\u001b[38;5;241m.\u001b[39mlax\u001b[38;5;241m.\u001b[39mscan(one_step, initial_state, keys)\n\u001b[1;32m     10\u001b[0m \u001b[38;5;28;01mreturn\u001b[39;00m states\n",
      "    \u001b[0;31m[... skipping hidden 21 frame]\u001b[0m\n",
      "Cell \u001b[0;32mIn[15], line 4\u001b[0m, in \u001b[0;36minference_loop.<locals>.one_step\u001b[0;34m(state, rng_key)\u001b[0m\n\u001b[1;32m      2\u001b[0m \u001b[38;5;129m@jax\u001b[39m\u001b[38;5;241m.\u001b[39mjit\n\u001b[1;32m      3\u001b[0m \u001b[38;5;28;01mdef\u001b[39;00m \u001b[38;5;21mone_step\u001b[39m(state, rng_key):\n\u001b[0;32m----> 4\u001b[0m     state, _ \u001b[38;5;241m=\u001b[39m kernel(rng_key, state)\n\u001b[1;32m      5\u001b[0m     \u001b[38;5;28;01mreturn\u001b[39;00m state, state\n",
      "    \u001b[0;31m[... skipping hidden 11 frame]\u001b[0m\n",
      "File \u001b[0;32m/mnt/lustre/shared_conda/envs/sgreen/PyCBCandOptuna/lib/python3.11/site-packages/jax/_src/linear_util.py:166\u001b[0m, in \u001b[0;36mWrappedFun.call_wrapped\u001b[0;34m(self, *args, **kwargs)\u001b[0m\n\u001b[1;32m    163\u001b[0m gen \u001b[38;5;241m=\u001b[39m gen_static_args \u001b[38;5;241m=\u001b[39m out_store \u001b[38;5;241m=\u001b[39m \u001b[38;5;28;01mNone\u001b[39;00m\n\u001b[1;32m    165\u001b[0m \u001b[38;5;28;01mtry\u001b[39;00m:\n\u001b[0;32m--> 166\u001b[0m   ans \u001b[38;5;241m=\u001b[39m \u001b[38;5;28mself\u001b[39m\u001b[38;5;241m.\u001b[39mf(\u001b[38;5;241m*\u001b[39margs, \u001b[38;5;241m*\u001b[39m\u001b[38;5;241m*\u001b[39m\u001b[38;5;28mdict\u001b[39m(\u001b[38;5;28mself\u001b[39m\u001b[38;5;241m.\u001b[39mparams, \u001b[38;5;241m*\u001b[39m\u001b[38;5;241m*\u001b[39mkwargs))\n\u001b[1;32m    167\u001b[0m \u001b[38;5;28;01mexcept\u001b[39;00m:\n\u001b[1;32m    168\u001b[0m   \u001b[38;5;66;03m# Some transformations yield from inside context managers, so we have to\u001b[39;00m\n\u001b[1;32m    169\u001b[0m   \u001b[38;5;66;03m# interrupt them before reraising the exception. Otherwise they will only\u001b[39;00m\n\u001b[1;32m    170\u001b[0m   \u001b[38;5;66;03m# get garbage-collected at some later time, running their cleanup tasks\u001b[39;00m\n\u001b[1;32m    171\u001b[0m   \u001b[38;5;66;03m# only after this exception is handled, which can corrupt the global\u001b[39;00m\n\u001b[1;32m    172\u001b[0m   \u001b[38;5;66;03m# state.\u001b[39;00m\n\u001b[1;32m    173\u001b[0m   \u001b[38;5;28;01mwhile\u001b[39;00m stack:\n",
      "\u001b[0;31mTypeError\u001b[0m: sgld.__new__.<locals>.step_fn() missing 2 required positional arguments: 'minibatch' and 'step_size'"
     ]
    }
   ],
   "source": [
    "%%time\n",
    "rng_key = jax.random.PRNGKey(0)\n",
    "states = inference_loop(rng_key, sgld_kernel, initial_state, 10_000)\n",
    "\n",
    "#m_samples = states.position[\"m\"].block_until_ready()\n",
    "#b_samples = states.position[\"b\"].block_until_ready()\n",
    "#scale_samples = jnp.exp(states.position[\"log_scale\"])"
   ]
  },
  {
   "cell_type": "code",
   "execution_count": 10,
   "id": "21c968b5-f478-402f-a5bb-5c522c33a8bc",
   "metadata": {
    "tags": []
   },
   "outputs": [
    {
     "ename": "NameError",
     "evalue": "name 'm_samples' is not defined",
     "output_type": "error",
     "traceback": [
      "\u001b[0;31m---------------------------------------------------------------------------\u001b[0m",
      "\u001b[0;31mNameError\u001b[0m                                 Traceback (most recent call last)",
      "Cell \u001b[0;32mIn[10], line 2\u001b[0m\n\u001b[1;32m      1\u001b[0m fig, (ax, ax1) \u001b[38;5;241m=\u001b[39m plt\u001b[38;5;241m.\u001b[39msubplots(ncols\u001b[38;5;241m=\u001b[39m\u001b[38;5;241m2\u001b[39m, figsize\u001b[38;5;241m=\u001b[39m(\u001b[38;5;241m15\u001b[39m, \u001b[38;5;241m6\u001b[39m))\n\u001b[0;32m----> 2\u001b[0m ax\u001b[38;5;241m.\u001b[39mplot(m_samples)\n\u001b[1;32m      3\u001b[0m ax\u001b[38;5;241m.\u001b[39mset_xlabel(\u001b[38;5;124m\"\u001b[39m\u001b[38;5;124mSamples\u001b[39m\u001b[38;5;124m\"\u001b[39m)\n\u001b[1;32m      4\u001b[0m ax\u001b[38;5;241m.\u001b[39mset_ylabel(\u001b[38;5;124m\"\u001b[39m\u001b[38;5;124mm\u001b[39m\u001b[38;5;124m\"\u001b[39m)\n",
      "\u001b[0;31mNameError\u001b[0m: name 'm_samples' is not defined"
     ]
    },
    {
     "data": {
      "image/png": "[encoded data removed]",
      "text/plain": [
       "<Figure size 1500x600 with 2 Axes>"
      ]
     },
     "metadata": {},
     "output_type": "display_data"
    }
   ],
   "source": [
    "fig, (ax, ax1) = plt.subplots(ncols=2, figsize=(15, 6))\n",
    "ax.plot(m_samples)\n",
    "ax.set_xlabel(\"Samples\")\n",
    "ax.set_ylabel(\"m\")\n",
    "\n",
    "ax1.plot(b_samples)\n",
    "ax1.set_xlabel(\"Samples\")\n",
    "ax1.set_ylabel(\"b\")"
   ]
  },
  {
   "cell_type": "code",
   "execution_count": null,
   "id": "cf3dc097-ada4-4945-a270-78bb5fa902a1",
   "metadata": {
    "tags": []
   },
   "outputs": [],
   "source": [
    "inv_mass_matrix = np.array([0.01, 0.01, 0.01])\n",
    "step_size = 1e-3\n",
    "\n",
    "nuts = blackjax.nuts(logdensity, step_size, inv_mass_matrix)"
   ]
  },
  {
   "cell_type": "code",
   "execution_count": null,
   "id": "53c70ff0-dfe3-46cf-9154-4312db7aa951",
   "metadata": {
    "tags": []
   },
   "outputs": [],
   "source": [
    "initial_position = {\"m\": -1.0, \"b\": 5.0, \"log_f\": jnp.log(0.5)}\n",
    "initial_state = nuts.init(initial_position)\n",
    "initial_state"
   ]
  },
  {
   "cell_type": "code",
   "execution_count": null,
   "id": "9a1e2755-e464-4eb8-951e-abe75fcb8958",
   "metadata": {
    "tags": []
   },
   "outputs": [],
   "source": [
    "%%time\n",
    "rng_key = jax.random.PRNGKey(0)\n",
    "states = inference_loop(rng_key, nuts.step, initial_state, 4_000)\n",
    "\n",
    "m_samples = states.position[\"m\"].block_until_ready()\n",
    "b_samples = states.position[\"b\"].block_until_ready()\n",
    "#loc_samples = states.position[\"loc\"].block_until_ready()\n",
    "#scale_samples = jnp.exp(states.position[\"log_scale\"])"
   ]
  },
  {
   "cell_type": "code",
   "execution_count": null,
   "id": "60958fa9-f399-4552-8f6c-5080673cde8b",
   "metadata": {
    "tags": []
   },
   "outputs": [],
   "source": [
    "fig, (ax, ax1) = plt.subplots(ncols=2, figsize=(15, 6))\n",
    "ax.plot(m_samples)\n",
    "ax.set_xlabel(\"Samples\")\n",
    "ax.set_ylabel(\"m\")\n",
    "\n",
    "ax1.plot(b_samples)\n",
    "ax1.set_xlabel(\"Samples\")\n",
    "ax1.set_ylabel(\"b\")"
   ]
  },
  {
   "cell_type": "code",
   "execution_count": null,
   "id": "3e39e48a-60fc-469c-b1e8-481a376cb996",
   "metadata": {},
   "outputs": [],
   "source": []
  }
 ],
 "metadata": {
  "kernelspec": {
   "display_name": "PyCBCandOptuna",
   "language": "python",
   "name": "pycbcandoptuna"
  },
  "language_info": {
   "codemirror_mode": {
    "name": "ipython",
    "version": 3
   },
   "file_extension": ".py",
   "mimetype": "text/x-python",
   "name": "python",
   "nbconvert_exporter": "python",
   "pygments_lexer": "ipython3",
   "version": "3.11.3"
  }
 },
 "nbformat": 4,
 "nbformat_minor": 5
}
