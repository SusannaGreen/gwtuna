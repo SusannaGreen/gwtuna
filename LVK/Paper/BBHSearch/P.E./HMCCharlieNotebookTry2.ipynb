{
 "cells": [
  {
   "cell_type": "code",
   "execution_count": 1,
   "id": "3a9c57aa-4de7-4aed-9356-b5af9f79f07b",
   "metadata": {
    "tags": []
   },
   "outputs": [
    {
     "name": "stderr",
     "output_type": "stream",
     "text": [
      "No GPU/TPU found, falling back to CPU. (Set TF_CPP_MIN_LOG_LEVEL=0 and rerun for more info.)\n"
     ]
    }
   ],
   "source": [
    "import jax\n",
    "import jax.numpy as jnp\n",
    "import jax.scipy.stats as stats\n",
    "import matplotlib.pyplot as plt\n",
    "import numpy as np\n",
    "\n",
    "import blackjax\n",
    "\n",
    "from ripple.waveforms import IMRPhenomXAS\n",
    "from ripple import ms_to_Mc_eta\n",
    "\n",
    "from fastprogress import progress_bar\n",
    "\n",
    "import blackjax\n",
    "\n",
    "from pycbc.catalog import Merger\n",
    "from pycbc.filter import resample_to_delta_t, highpass\n",
    "from pycbc.psd import interpolate, inverse_spectrum_truncation\n",
    "from pycbc.waveform import get_fd_waveform\n",
    "from pycbc.filter import matched_filter, sigmasq, get_cutoff_indices"
   ]
  },
  {
   "cell_type": "code",
   "execution_count": 2,
   "id": "b5fa1be6-a12b-4aaf-a98c-3973cc653589",
   "metadata": {},
   "outputs": [],
   "source": [
    "data = {\"L1\": jnp.load(\"/users/sgreen/gwtuna/LVK/Paper/BBHSearch/P.E./L1_data.npy\")}#, \"H1\": jnp.load(\"H1_data.npy\")}\n",
    "freqs = jnp.load(\"/users/sgreen/gwtuna/LVK/Paper/BBHSearch/P.E./L1_freqs.npy\")\n",
    "psd = {\"L1\": jnp.load(\"/users/sgreen/gwtuna/LVK/Paper/BBHSearch/P.E./L1_psd.npy\")}#, \"H1\": jnp.load(\"H1_psd.npy\")}"
   ]
  },
  {
   "cell_type": "code",
   "execution_count": 3,
   "id": "4d2c5b60-2832-4922-b42e-86d987630d21",
   "metadata": {},
   "outputs": [],
   "source": [
    "# Define the conditiion data function\n",
    "dynfac = 1.0e23\n",
    "def condition(strain, sampling_rate):\n",
    "    tmp = resample_to_delta_t(highpass(strain, 15.0), 1.0/sampling_rate).crop(2,2)\n",
    "    return (dynfac*tmp)\n",
    "\n",
    "# Define the PSD function \n",
    "def estimate_psd(strain, delta_f):\n",
    "    psd = strain.psd(4)\n",
    "    psd = interpolate(psd, delta_f)\n",
    "    psd = inverse_spectrum_truncation(psd, int(4 * strain.sample_rate),\n",
    "                                  low_frequency_cutoff=15, trunc_method='hann')\n",
    "    return psd\n",
    "\n",
    "@jax.jit\n",
    "def log_likelihood(mchirp, eta, chi1, chi2, tc, phic, dist_mpc, inclination):\n",
    "    hp, hc = waveform_generator(\n",
    "        freqs, mchirp, eta, chi1, chi2, tc, phic, dist_mpc, inclination,\n",
    "    )\n",
    "    d_inner_h = 0.\n",
    "    optimal_snr_squared = 0.\n",
    "    for ifo in data.keys():\n",
    "        if ifo == \"L1\":\n",
    "            fp = -0.456852978678261\n",
    "            fc = 0.36204310587763466\n",
    "        else:\n",
    "            fp = 0.45529254427236665\n",
    "            fc = -0.6283981252126967\n",
    "        h = hp*fp + hc*fc\n",
    "        h_star = jnp.conj(h)\n",
    "        integrand = jnp.nan_to_num(h_star * data[ifo] / psd[ifo], 0.)\n",
    "        d_inner_h += 4.0 / 32.0 * jnp.sum(integrand)\n",
    "        integrand = jnp.nan_to_num(h_star * h / psd[ifo], 0.)\n",
    "        optimal_snr_squared += (4.0 / 32.0 * jnp.sum(integrand)).real\n",
    "    log_l = d_inner_h.real - optimal_snr_squared / 2\n",
    "    return log_l.real\n",
    "\n",
    "def log_probability(mchirp, eta, chi1, chi2, tc, phic, dist_mpc, inclination):\n",
    "    return log_likelihood(mchirp, eta, chi1, chi2, tc, phic, dist_mpc, inclination)\n",
    "\n",
    "@jax.jit\n",
    "def waveform(fs, theta, fref):\n",
    "    return IMRPhenomXAS.gen_IMRPhenomXAS_polar(fs, theta, fref)\n",
    "\n",
    "@jax.jit\n",
    "def waveform_generator(\n",
    "    fs, mchirp, eta, chi1, chi2, tc, phic, dist_mpc, inclination,\n",
    "    **kwargs\n",
    "):\n",
    "    fref = kwargs.get(\"fref\", 20)\n",
    "    theta_ripple = jnp.array(\n",
    "        [mchirp, eta, chi1, chi2, dist_mpc, tc, phic, inclination]\n",
    "    )\n",
    "    hp, hc = waveform(fs, theta_ripple, fref)\n",
    "    return hp, hc"
   ]
  },
  {
   "cell_type": "code",
   "execution_count": 4,
   "id": "79626ff0-d55d-43c5-905b-13e2beaa2bea",
   "metadata": {
    "tags": []
   },
   "outputs": [],
   "source": [
    "logdensity = lambda a: log_probability(**a)"
   ]
  },
  {
   "cell_type": "code",
   "execution_count": 6,
   "id": "03935618-f803-4e65-a4cc-b3abc58c66a1",
   "metadata": {
    "tags": []
   },
   "outputs": [],
   "source": [
    "inv_mass_matrix = np.array([0.01, 0.01, 0.01, 0.01, 0.01, 0.01, 0.01, 0.01])\n",
    "num_integration_steps = 60\n",
    "step_size = 1e-3\n",
    "\n",
    "nuts = blackjax.nuts(logdensity, step_size, inv_mass_matrix)\n",
    "#hmc = blackjax.hmc(logdensity, step_size, inv_mass_matrix, num_integration_steps)"
   ]
  },
  {
   "cell_type": "code",
   "execution_count": 7,
   "id": "5730a6d4-0101-4a20-a541-4e90139687c7",
   "metadata": {
    "tags": []
   },
   "outputs": [
    {
     "name": "stderr",
     "output_type": "stream",
     "text": [
      "Exception ignored in: <function _xla_gc_callback at 0x7fcfec421f80>\n",
      "Traceback (most recent call last):\n",
      "  File \"/mnt/lustre/shared_conda/envs/sgreen/PyCBCandOptuna/lib/python3.11/site-packages/jax/_src/lib/__init__.py\", line 97, in _xla_gc_callback\n",
      "    def _xla_gc_callback(*args):\n",
      "    \n",
      "KeyboardInterrupt: \n",
      "2023-07-04 16:33:39.937588: E external/xla/xla/service/slow_operation_alarm.cc:65] \n",
      "********************************\n",
      "[Compiling module jit_log_likelihood] Very slow compile? If you want to file a bug, run with envvar XLA_FLAGS=--xla_dump_to=/tmp/foo and attach the results.\n",
      "********************************\n",
      "2023-07-04 16:34:14.792893: E external/xla/xla/service/slow_operation_alarm.cc:133] The operation took 2m34.855382209s\n",
      "\n",
      "********************************\n",
      "[Compiling module jit_log_likelihood] Very slow compile? If you want to file a bug, run with envvar XLA_FLAGS=--xla_dump_to=/tmp/foo and attach the results.\n",
      "********************************\n"
     ]
    },
    {
     "data": {
      "text/plain": [
       "HMCState(position={'mchirp': 30.0, 'eta': 50.15, 'chi1': 0.0, 'chi2': 0.0, 'tc': 112625946.0, 'phic': 2.0, 'dist_mpc': 100.0, 'inclination': 2.0}, logdensity=Array(0., dtype=float64), logdensity_grad={'chi1': Array(nan, dtype=float64, weak_type=True), 'chi2': Array(nan, dtype=float64, weak_type=True), 'dist_mpc': Array(nan, dtype=float64, weak_type=True), 'eta': Array(nan, dtype=float64, weak_type=True), 'inclination': Array(nan, dtype=float64, weak_type=True), 'mchirp': Array(nan, dtype=float64, weak_type=True), 'phic': Array(nan, dtype=float64, weak_type=True), 'tc': Array(nan, dtype=float64, weak_type=True)})"
      ]
     },
     "execution_count": 7,
     "metadata": {},
     "output_type": "execute_result"
    }
   ],
   "source": [
    "initial_position = {\"mchirp\": 30.0, \"eta\": 50.15, \"chi1\": 0.0, \"chi2\": 0.0, \"tc\": 112625946.0, \"phic\": 2.0, \"dist_mpc\": 100., \"inclination\": 2.0}\n",
    "initial_state = nuts.init(initial_position)\n",
    "initial_state"
   ]
  },
  {
   "cell_type": "code",
   "execution_count": null,
   "id": "5cdda2dd-ff52-41f0-865f-fceb60737ac1",
   "metadata": {
    "tags": []
   },
   "outputs": [],
   "source": [
    "hmc_kernel = jax.jit(nuts.step)"
   ]
  },
  {
   "cell_type": "code",
   "execution_count": null,
   "id": "c1d09173-e016-49aa-b1ca-5e1d4accf9e9",
   "metadata": {
    "tags": []
   },
   "outputs": [],
   "source": [
    "def inference_loop(rng_key, kernel, initial_state, num_samples):\n",
    "    @jax.jit\n",
    "    def one_step(state, rng_key):\n",
    "        state, _ = kernel(rng_key, state)\n",
    "        return state, state\n",
    "\n",
    "    keys = jax.random.split(rng_key, num_samples)\n",
    "    _, states = jax.lax.scan(one_step, initial_state, keys)\n",
    "\n",
    "    return states"
   ]
  },
  {
   "cell_type": "code",
   "execution_count": null,
   "id": "2c746951-6fbb-4d81-ac6f-e8de7e761fa2",
   "metadata": {
    "tags": []
   },
   "outputs": [],
   "source": [
    "%%time\n",
    "rng_key = jax.random.PRNGKey(0)\n",
    "states = inference_loop(rng_key, hmc_kernel, initial_state, 10_000)\n",
    "\n",
    "m_samples = states.position[\"m\"].block_until_ready()\n",
    "b_samples = states.position[\"b\"].block_until_ready()\n",
    "#scale_samples = jnp.exp(states.position[\"log_scale\"])"
   ]
  },
  {
   "cell_type": "code",
   "execution_count": null,
   "id": "21c968b5-f478-402f-a5bb-5c522c33a8bc",
   "metadata": {
    "tags": []
   },
   "outputs": [],
   "source": [
    "fig, (ax, ax1) = plt.subplots(ncols=2, figsize=(15, 6))\n",
    "ax.plot(m_samples)\n",
    "ax.set_xlabel(\"Samples\")\n",
    "ax.set_ylabel(\"m\")\n",
    "\n",
    "ax1.plot(b_samples)\n",
    "ax1.set_xlabel(\"Samples\")\n",
    "ax1.set_ylabel(\"b\")"
   ]
  },
  {
   "cell_type": "code",
   "execution_count": null,
   "id": "cf3dc097-ada4-4945-a270-78bb5fa902a1",
   "metadata": {
    "tags": []
   },
   "outputs": [],
   "source": [
    "inv_mass_matrix = np.array([0.01, 0.01, 0.01])\n",
    "step_size = 1e-3\n",
    "\n",
    "nuts = blackjax.nuts(logdensity, step_size, inv_mass_matrix)"
   ]
  },
  {
   "cell_type": "code",
   "execution_count": null,
   "id": "53c70ff0-dfe3-46cf-9154-4312db7aa951",
   "metadata": {
    "tags": []
   },
   "outputs": [],
   "source": [
    "initial_position = {\"m\": -1.0, \"b\": 5.0, \"log_f\": jnp.log(0.5)}\n",
    "initial_state = nuts.init(initial_position)\n",
    "initial_state"
   ]
  },
  {
   "cell_type": "code",
   "execution_count": null,
   "id": "9a1e2755-e464-4eb8-951e-abe75fcb8958",
   "metadata": {
    "tags": []
   },
   "outputs": [],
   "source": [
    "%%time\n",
    "rng_key = jax.random.PRNGKey(0)\n",
    "states = inference_loop(rng_key, nuts.step, initial_state, 4_000)\n",
    "\n",
    "m_samples = states.position[\"m\"].block_until_ready()\n",
    "b_samples = states.position[\"b\"].block_until_ready()\n",
    "#loc_samples = states.position[\"loc\"].block_until_ready()\n",
    "#scale_samples = jnp.exp(states.position[\"log_scale\"])"
   ]
  },
  {
   "cell_type": "code",
   "execution_count": null,
   "id": "60958fa9-f399-4552-8f6c-5080673cde8b",
   "metadata": {
    "tags": []
   },
   "outputs": [],
   "source": [
    "fig, (ax, ax1) = plt.subplots(ncols=2, figsize=(15, 6))\n",
    "ax.plot(m_samples)\n",
    "ax.set_xlabel(\"Samples\")\n",
    "ax.set_ylabel(\"m\")\n",
    "\n",
    "ax1.plot(b_samples)\n",
    "ax1.set_xlabel(\"Samples\")\n",
    "ax1.set_ylabel(\"b\")"
   ]
  },
  {
   "cell_type": "code",
   "execution_count": null,
   "id": "3e39e48a-60fc-469c-b1e8-481a376cb996",
   "metadata": {},
   "outputs": [],
   "source": []
  }
 ],
 "metadata": {
  "kernelspec": {
   "display_name": "PyCBCandOptuna",
   "language": "python",
   "name": "pycbcandoptuna"
  },
  "language_info": {
   "codemirror_mode": {
    "name": "ipython",
    "version": 3
   },
   "file_extension": ".py",
   "mimetype": "text/x-python",
   "name": "python",
   "nbconvert_exporter": "python",
   "pygments_lexer": "ipython3",
   "version": "3.11.3"
  }
 },
 "nbformat": 4,
 "nbformat_minor": 5
}
