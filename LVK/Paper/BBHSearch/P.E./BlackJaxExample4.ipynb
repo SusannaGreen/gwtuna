{
 "cells": [
  {
   "cell_type": "code",
   "execution_count": 1,
   "id": "8330e4b5-ebd7-435e-9a31-ffef37166d92",
   "metadata": {},
   "outputs": [],
   "source": [
    "import jax\n",
    "import jax.numpy as jnp\n",
    "import matplotlib.pyplot as plt\n",
    "import numpy as np\n",
    "from jax.scipy.stats import multivariate_normal\n",
    "\n",
    "jax.config.update(\"jax_platform_name\", \"cpu\")\n",
    "\n",
    "import blackjax\n",
    "import blackjax.smc.resampling as resampling"
   ]
  },
  {
   "cell_type": "code",
   "execution_count": 2,
   "id": "a49ced49-54c2-4c61-9075-78b417bf291d",
   "metadata": {},
   "outputs": [],
   "source": [
    "def V(x):\n",
    "    return 5 * jnp.square(jnp.sum(x**2) - 1)\n",
    "\n",
    "\n",
    "def prior_log_prob(x):\n",
    "    d = x.shape[0]\n",
    "    return multivariate_normal.logpdf(x, jnp.zeros((d,)), jnp.eye(d))\n",
    "\n",
    "\n",
    "linspace = jnp.linspace(-2, 2, 5000).reshape(-1, 1)\n",
    "lambdas = jnp.linspace(0.0, 1.0, 5)\n",
    "prior_logvals = jnp.vectorize(prior_log_prob, signature=\"(d)->()\")(linspace)\n",
    "potential_vals = jnp.vectorize(V, signature=\"(d)->()\")(linspace)\n",
    "log_res = prior_logvals.reshape(1, -1) - jnp.expand_dims(\n",
    "    lambdas, 1\n",
    ") * potential_vals.reshape(1, -1)\n",
    "\n",
    "density = jnp.exp(log_res)\n",
    "normalizing_factor = jnp.sum(density, axis=1, keepdims=True) * (\n",
    "    linspace[1] - linspace[0]\n",
    ")\n",
    "density /= normalizing_factor"
   ]
  },
  {
   "cell_type": "code",
   "execution_count": 3,
   "id": "0e004bef-8930-400a-8f56-458c7b43a375",
   "metadata": {},
   "outputs": [],
   "source": [
    "def inference_loop(rng_key, mcmc_kernel, initial_state, num_samples):\n",
    "    @jax.jit\n",
    "    def one_step(state, k):\n",
    "        state, _ = mcmc_kernel(k, state)\n",
    "        return state, state\n",
    "\n",
    "    keys = jax.random.split(rng_key, num_samples)\n",
    "    _, states = jax.lax.scan(one_step, initial_state, keys)\n",
    "\n",
    "    return states\n",
    "\n",
    "\n",
    "def full_logdensity(x):\n",
    "    return -V(x) + prior_log_prob(x)\n",
    "\n",
    "\n",
    "inv_mass_matrix = jnp.eye(1)\n",
    "n_samples = 10_000"
   ]
  },
  {
   "cell_type": "code",
   "execution_count": 4,
   "id": "bdb7198c-46f4-4316-9c6d-9527aa8d058f",
   "metadata": {},
   "outputs": [
    {
     "name": "stdout",
     "output_type": "stream",
     "text": [
      "CPU times: user 1.02 s, sys: 22.2 ms, total: 1.04 s\n",
      "Wall time: 1.03 s\n"
     ]
    }
   ],
   "source": [
    "%%time\n",
    "\n",
    "key = jax.random.PRNGKey(42)\n",
    "\n",
    "hmc_parameters = dict(\n",
    "    step_size=1e-4, inverse_mass_matrix=inv_mass_matrix, num_integration_steps=50\n",
    ")\n",
    "\n",
    "hmc = blackjax.hmc(full_logdensity, **hmc_parameters)\n",
    "hmc_state = hmc.init(jnp.ones((1,)))\n",
    "hmc_samples = inference_loop(key, hmc.step, hmc_state, n_samples)"
   ]
  },
  {
   "cell_type": "code",
   "execution_count": 5,
   "id": "ec3baf40-5d73-4ad6-a0b7-5593164f4c27",
   "metadata": {},
   "outputs": [
    {
     "name": "stdout",
     "output_type": "stream",
     "text": [
      "CPU times: user 6.93 s, sys: 27 ms, total: 6.96 s\n",
      "Wall time: 6.94 s\n"
     ]
    }
   ],
   "source": [
    "%%time\n",
    "\n",
    "nuts_parameters = dict(step_size=1e-4, inverse_mass_matrix=inv_mass_matrix)\n",
    "\n",
    "nuts = blackjax.nuts(full_logdensity, **nuts_parameters)\n",
    "nuts_state = nuts.init(jnp.ones((1,)))\n",
    "nuts_samples = inference_loop(key, nuts.step, nuts_state, n_samples)"
   ]
  },
  {
   "cell_type": "code",
   "execution_count": null,
   "id": "4c771dba-b36e-472f-9509-601d181a4dfe",
   "metadata": {},
   "outputs": [],
   "source": []
  }
 ],
 "metadata": {
  "kernelspec": {
   "display_name": "PyCBCandOptuna",
   "language": "python",
   "name": "pycbcandoptuna"
  },
  "language_info": {
   "codemirror_mode": {
    "name": "ipython",
    "version": 3
   },
   "file_extension": ".py",
   "mimetype": "text/x-python",
   "name": "python",
   "nbconvert_exporter": "python",
   "pygments_lexer": "ipython3",
   "version": "3.11.3"
  }
 },
 "nbformat": 4,
 "nbformat_minor": 5
}
