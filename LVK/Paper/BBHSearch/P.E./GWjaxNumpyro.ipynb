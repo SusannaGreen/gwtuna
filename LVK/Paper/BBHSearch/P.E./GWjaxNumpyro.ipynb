{
 "cells": [
  {
   "cell_type": "code",
   "execution_count": 1,
   "id": "3c3be6ca-05f9-418b-95fe-4b39a36fa887",
   "metadata": {},
   "outputs": [
    {
     "name": "stderr",
     "output_type": "stream",
     "text": [
      "/mnt/lustre/shared_conda/envs/sgreen/PyCBCandOptuna/lib/python3.11/site-packages/tqdm/auto.py:21: TqdmWarning: IProgress not found. Please update jupyter and ipywidgets. See https://ipywidgets.readthedocs.io/en/stable/user_install.html\n",
      "  from .autonotebook import tqdm as notebook_tqdm\n",
      "No GPU/TPU found, falling back to CPU. (Set TF_CPP_MIN_LOG_LEVEL=0 and rerun for more info.)\n"
     ]
    }
   ],
   "source": [
    "import numpy as np\n",
    "import matplotlib.pyplot as plt\n",
    "import pycbc\n",
    "from pycbc.catalog import Merger\n",
    "from pycbc.filter import resample_to_delta_t, highpass\n",
    "from pycbc.psd import interpolate, inverse_spectrum_truncation\n",
    "\n",
    "import jax\n",
    "import jax.numpy as jnp\n",
    "from functools import partial\n",
    "import gwjax\n",
    "import gwjax.imrphenom\n",
    "from gwjax import CplxNormal\n",
    "\n",
    "from fastprogress import progress_bar\n",
    "\n",
    "import blackjax\n",
    "\n",
    "import numpyro\n",
    "from numpyro import infer\n",
    "from numpyro import distributions as dist\n",
    "from numpyro.infer.util import initialize_model"
   ]
  },
  {
   "cell_type": "code",
   "execution_count": 2,
   "id": "5ee3559a-c4b4-4f79-bf08-1867a484a38c",
   "metadata": {},
   "outputs": [],
   "source": [
    "ifos = ['H1', 'L1']"
   ]
  },
  {
   "cell_type": "code",
   "execution_count": 3,
   "id": "57f94bdc-47cc-431c-950e-a7f397c5ed69",
   "metadata": {},
   "outputs": [],
   "source": [
    "def condition(strain):\n",
    "    tmp = resample_to_delta_t(highpass(strain, 15.0), 1.0/2048).crop(2,2)\n",
    "    return (1e23*tmp)\n",
    "\n",
    "def estimate_psd(strain, delta_f):\n",
    "    psd = strain.psd(4)\n",
    "    psd = interpolate(psd, delta_f)\n",
    "    psd = inverse_spectrum_truncation(psd, int(4 * strain.sample_rate),\n",
    "                                  low_frequency_cutoff=15, trunc_method='hann')\n",
    "    return psd\n",
    "\n",
    "def whiten(strain):\n",
    "    psd = estimate_psd(strain, strain.delta_f)\n",
    "    return (strain.to_frequencyseries() / np.sqrt(psd)).to_timeseries()"
   ]
  },
  {
   "cell_type": "code",
   "execution_count": 4,
   "id": "3b7a8765-fb56-4341-94ac-6afafdafc42b",
   "metadata": {},
   "outputs": [],
   "source": [
    "merger = Merger(\"GW150914\")\n",
    "gps_time = merger.time\n",
    "\n",
    "# Get the data and estimate the PSDs\n",
    "strain = {ifo: condition(merger.strain(ifo)) for ifo in ifos}\n",
    "\n",
    "wdata = {}\n",
    "invasd = {}\n",
    "for ifo in ifos:\n",
    "    data = strain[ifo]\n",
    "    \n",
    "    srate = int(1/data.delta_t)\n",
    "    idx = int(srate * (gps_time - data.start_time))\n",
    "    \n",
    "    wdata[ifo] = whiten(data)[idx-4*srate:idx+4*srate]\n",
    "    invasd[ifo] = estimate_psd(data, 1/8)**-0.5\n",
    "\n",
    "kmin, kmax = 15*8, 900*8"
   ]
  },
  {
   "cell_type": "code",
   "execution_count": 5,
   "id": "2d9abccd-1370-40c0-b00c-e73438827dc5",
   "metadata": {},
   "outputs": [],
   "source": [
    "gmst = gwjax.gmst(gps_time)"
   ]
  },
  {
   "cell_type": "code",
   "execution_count": 6,
   "id": "18c98766-97a3-4996-8b8b-5283bb3d00dc",
   "metadata": {},
   "outputs": [],
   "source": [
    "freqs = jnp.arange(1+1024*8, dtype=jnp.float32)/8"
   ]
  },
  {
   "cell_type": "code",
   "execution_count": 7,
   "id": "49d67e0b-f5e2-4178-8c1f-2dcb2037b8e3",
   "metadata": {},
   "outputs": [],
   "source": [
    "params = {'phase': 0., 'geocent_time': 0.,\n",
    "            'luminosity_distance': 1, 'theta_jn': 0., \n",
    "            'm1': 36, 'm2': 29, 'spin1': 0., 'spin2': 0.,\n",
    "            'ra': 0., 'dec': 0., 'pol': 0.}"
   ]
  },
  {
   "cell_type": "code",
   "execution_count": 8,
   "id": "f841325f-c494-481e-a95b-1d1e8d720117",
   "metadata": {},
   "outputs": [],
   "source": [
    "def project_to_detector(params, htup, freqs, invasd, detector, gmst):\n",
    "    deltat = gwjax.time_delay_from_earth_center(detector, gmst,\n",
    "                                                params['ra'], params['dec'])\n",
    "    fp, fx = gwjax.antenna_pattern(detector, gmst,\n",
    "                                    params['ra'], params['dec'], params['pol'])\n",
    "    return invasd*(fp*htup[0] + fx*htup[1])*jnp.exp(-1.j*2*jnp.pi*freqs*deltat)\n",
    "\n",
    "def waveform_projections(params, freqs, project_dict, gmst):\n",
    "    htup = gwjax.imrphenom.IMRPhenomD(freqs, params)\n",
    "    return {ifo: project(params, htup) for ifo, project in project_dict.items()}"
   ]
  },
  {
   "cell_type": "code",
   "execution_count": 9,
   "id": "7104a070-5662-498c-863b-d1e79da879fc",
   "metadata": {},
   "outputs": [],
   "source": [
    "fdata = {}\n",
    "for ifo in ifos:\n",
    "    fdata[ifo] = jnp.fft.rfft(jnp.array(np.roll(wdata[ifo], -4*srate), dtype=jnp.float32))\n",
    "\n",
    "invasd = {ifo: jnp.array(iasd, dtype=jnp.float32) for ifo, iasd in invasd.items()}\n",
    "\n",
    "project = {}\n",
    "for ifo in ifos:\n",
    "    project[ifo] = jax.jit(partial(project_to_detector,\n",
    "                                        freqs=freqs[kmin:kmax],\n",
    "                                        invasd=invasd[ifo][kmin:kmax],\n",
    "                                        detector=gwjax.detectors[ifo],\n",
    "                                        gmst=gmst))\n",
    "\n",
    "waveform_projections = jax.jit(partial(waveform_projections,\n",
    "                                        freqs=freqs[kmin:kmax],\n",
    "                                        project_dict=project,\n",
    "                                        gmst=gmst))"
   ]
  },
  {
   "cell_type": "code",
   "execution_count": 22,
   "id": "c3c6b716-611b-4396-866e-bd0d6881c554",
   "metadata": {},
   "outputs": [],
   "source": [
    "def cbc_model(fdata=None):\n",
    "    amp = numpyro.sample(\"amp\", dist.Normal(0, 10))\n",
    "    t = numpyro.sample(\"time\", dist.Normal(0, 0.01))\n",
    "    phase = numpyro.sample('phase', dist.Uniform(-jnp.pi, jnp.pi))\n",
    "    m1 = numpyro.sample('m1', dist.Uniform(20, 50))\n",
    "    m2 = numpyro.sample('m2', dist.Uniform(20, 50))\n",
    "    ra = numpyro.sample('ra', dist.Uniform(-jnp.pi, jnp.pi))\n",
    "    dec = numpyro.sample('dec', dist.Uniform(0., jnp.pi))\n",
    "    pol = numpyro.sample('psi', dist.Uniform(0, 2*jnp.pi))\n",
    "\n",
    "    proj_wfs = waveform_projections({'phase': phase, 'geocent_time': t,\n",
    "            'luminosity_distance': amp, 'theta_jn': 0., \n",
    "            'm1': 36, 'm2': 29, 'spin1': 0., 'spin2': 0.,\n",
    "            'ra': ra, 'dec': dec, 'pol': pol})\n",
    "\n",
    "    numpyro.sample(\"y1\", CplxNormal(proj_wfs['H1']), obs=fdata['H1'])\n",
    "    numpyro.sample(\"y2\", CplxNormal(proj_wfs['L1']), obs=fdata['L1'])"
   ]
  },
  {
   "cell_type": "code",
   "execution_count": 23,
   "id": "28bc26fb-acdc-436d-97c5-9ab69fcc1c86",
   "metadata": {},
   "outputs": [
    {
     "ename": "TypeError",
     "evalue": "cbc_model() takes from 0 to 1 positional arguments but 2 were given",
     "output_type": "error",
     "traceback": [
      "\u001b[0;31m---------------------------------------------------------------------------\u001b[0m",
      "\u001b[0;31mTypeError\u001b[0m                                 Traceback (most recent call last)",
      "Cell \u001b[0;32mIn[23], line 2\u001b[0m\n\u001b[1;32m      1\u001b[0m rng_key \u001b[38;5;241m=\u001b[39m jax\u001b[38;5;241m.\u001b[39mrandom\u001b[38;5;241m.\u001b[39mPRNGKey(\u001b[38;5;241m0\u001b[39m)\n\u001b[0;32m----> 2\u001b[0m init_params, potential_fn_gen, \u001b[38;5;241m*\u001b[39m_ \u001b[38;5;241m=\u001b[39m initialize_model(\n\u001b[1;32m      3\u001b[0m     rng_key,\n\u001b[1;32m      4\u001b[0m     cbc_model,\n\u001b[1;32m      5\u001b[0m     model_args\u001b[38;5;241m=\u001b[39m(fdata),\n\u001b[1;32m      6\u001b[0m     dynamic_args\u001b[38;5;241m=\u001b[39m\u001b[38;5;28;01mTrue\u001b[39;00m,\n\u001b[1;32m      7\u001b[0m )\n",
      "File \u001b[0;32m/mnt/lustre/shared_conda/envs/sgreen/PyCBCandOptuna/lib/python3.11/site-packages/numpyro/infer/util.py:609\u001b[0m, in \u001b[0;36minitialize_model\u001b[0;34m(rng_key, model, init_strategy, dynamic_args, model_args, model_kwargs, forward_mode_differentiation, validate_grad)\u001b[0m\n\u001b[1;32m    599\u001b[0m model_kwargs \u001b[38;5;241m=\u001b[39m {} \u001b[38;5;28;01mif\u001b[39;00m model_kwargs \u001b[38;5;129;01mis\u001b[39;00m \u001b[38;5;28;01mNone\u001b[39;00m \u001b[38;5;28;01melse\u001b[39;00m model_kwargs\n\u001b[1;32m    600\u001b[0m substituted_model \u001b[38;5;241m=\u001b[39m substitute(\n\u001b[1;32m    601\u001b[0m     seed(model, rng_key \u001b[38;5;28;01mif\u001b[39;00m jnp\u001b[38;5;241m.\u001b[39mndim(rng_key) \u001b[38;5;241m==\u001b[39m \u001b[38;5;241m1\u001b[39m \u001b[38;5;28;01melse\u001b[39;00m rng_key[\u001b[38;5;241m0\u001b[39m]),\n\u001b[1;32m    602\u001b[0m     substitute_fn\u001b[38;5;241m=\u001b[39minit_strategy,\n\u001b[1;32m    603\u001b[0m )\n\u001b[1;32m    604\u001b[0m (\n\u001b[1;32m    605\u001b[0m     inv_transforms,\n\u001b[1;32m    606\u001b[0m     replay_model,\n\u001b[1;32m    607\u001b[0m     has_enumerate_support,\n\u001b[1;32m    608\u001b[0m     model_trace,\n\u001b[0;32m--> 609\u001b[0m ) \u001b[38;5;241m=\u001b[39m _get_model_transforms(substituted_model, model_args, model_kwargs)\n\u001b[1;32m    610\u001b[0m \u001b[38;5;66;03m# substitute param sites from model_trace to model so\u001b[39;00m\n\u001b[1;32m    611\u001b[0m \u001b[38;5;66;03m# we don't need to generate again parameters of `numpyro.module`\u001b[39;00m\n\u001b[1;32m    612\u001b[0m model \u001b[38;5;241m=\u001b[39m substitute(\n\u001b[1;32m    613\u001b[0m     model,\n\u001b[1;32m    614\u001b[0m     data\u001b[38;5;241m=\u001b[39m{\n\u001b[0;32m   (...)\u001b[0m\n\u001b[1;32m    618\u001b[0m     },\n\u001b[1;32m    619\u001b[0m )\n",
      "File \u001b[0;32m/mnt/lustre/shared_conda/envs/sgreen/PyCBCandOptuna/lib/python3.11/site-packages/numpyro/infer/util.py:407\u001b[0m, in \u001b[0;36m_get_model_transforms\u001b[0;34m(model, model_args, model_kwargs)\u001b[0m\n\u001b[1;32m    405\u001b[0m \u001b[38;5;28;01mdef\u001b[39;00m \u001b[38;5;21m_get_model_transforms\u001b[39m(model, model_args\u001b[38;5;241m=\u001b[39m(), model_kwargs\u001b[38;5;241m=\u001b[39m\u001b[38;5;28;01mNone\u001b[39;00m):\n\u001b[1;32m    406\u001b[0m     model_kwargs \u001b[38;5;241m=\u001b[39m {} \u001b[38;5;28;01mif\u001b[39;00m model_kwargs \u001b[38;5;129;01mis\u001b[39;00m \u001b[38;5;28;01mNone\u001b[39;00m \u001b[38;5;28;01melse\u001b[39;00m model_kwargs\n\u001b[0;32m--> 407\u001b[0m     model_trace \u001b[38;5;241m=\u001b[39m trace(model)\u001b[38;5;241m.\u001b[39mget_trace(\u001b[38;5;241m*\u001b[39mmodel_args, \u001b[38;5;241m*\u001b[39m\u001b[38;5;241m*\u001b[39mmodel_kwargs)\n\u001b[1;32m    408\u001b[0m     inv_transforms \u001b[38;5;241m=\u001b[39m {}\n\u001b[1;32m    409\u001b[0m     \u001b[38;5;66;03m# model code may need to be replayed in the presence of deterministic sites\u001b[39;00m\n",
      "File \u001b[0;32m/mnt/lustre/shared_conda/envs/sgreen/PyCBCandOptuna/lib/python3.11/site-packages/numpyro/handlers.py:171\u001b[0m, in \u001b[0;36mtrace.get_trace\u001b[0;34m(self, *args, **kwargs)\u001b[0m\n\u001b[1;32m    163\u001b[0m \u001b[38;5;28;01mdef\u001b[39;00m \u001b[38;5;21mget_trace\u001b[39m(\u001b[38;5;28mself\u001b[39m, \u001b[38;5;241m*\u001b[39margs, \u001b[38;5;241m*\u001b[39m\u001b[38;5;241m*\u001b[39mkwargs):\n\u001b[1;32m    164\u001b[0m     \u001b[38;5;124;03m\"\"\"\u001b[39;00m\n\u001b[1;32m    165\u001b[0m \u001b[38;5;124;03m    Run the wrapped callable and return the recorded trace.\u001b[39;00m\n\u001b[1;32m    166\u001b[0m \n\u001b[0;32m   (...)\u001b[0m\n\u001b[1;32m    169\u001b[0m \u001b[38;5;124;03m    :return: `OrderedDict` containing the execution trace.\u001b[39;00m\n\u001b[1;32m    170\u001b[0m \u001b[38;5;124;03m    \"\"\"\u001b[39;00m\n\u001b[0;32m--> 171\u001b[0m     \u001b[38;5;28mself\u001b[39m(\u001b[38;5;241m*\u001b[39margs, \u001b[38;5;241m*\u001b[39m\u001b[38;5;241m*\u001b[39mkwargs)\n\u001b[1;32m    172\u001b[0m     \u001b[38;5;28;01mreturn\u001b[39;00m \u001b[38;5;28mself\u001b[39m\u001b[38;5;241m.\u001b[39mtrace\n",
      "File \u001b[0;32m/mnt/lustre/shared_conda/envs/sgreen/PyCBCandOptuna/lib/python3.11/site-packages/numpyro/primitives.py:105\u001b[0m, in \u001b[0;36mMessenger.__call__\u001b[0;34m(self, *args, **kwargs)\u001b[0m\n\u001b[1;32m    103\u001b[0m     \u001b[38;5;28;01mreturn\u001b[39;00m \u001b[38;5;28mself\u001b[39m\n\u001b[1;32m    104\u001b[0m \u001b[38;5;28;01mwith\u001b[39;00m \u001b[38;5;28mself\u001b[39m:\n\u001b[0;32m--> 105\u001b[0m     \u001b[38;5;28;01mreturn\u001b[39;00m \u001b[38;5;28mself\u001b[39m\u001b[38;5;241m.\u001b[39mfn(\u001b[38;5;241m*\u001b[39margs, \u001b[38;5;241m*\u001b[39m\u001b[38;5;241m*\u001b[39mkwargs)\n",
      "File \u001b[0;32m/mnt/lustre/shared_conda/envs/sgreen/PyCBCandOptuna/lib/python3.11/site-packages/numpyro/primitives.py:105\u001b[0m, in \u001b[0;36mMessenger.__call__\u001b[0;34m(self, *args, **kwargs)\u001b[0m\n\u001b[1;32m    103\u001b[0m     \u001b[38;5;28;01mreturn\u001b[39;00m \u001b[38;5;28mself\u001b[39m\n\u001b[1;32m    104\u001b[0m \u001b[38;5;28;01mwith\u001b[39;00m \u001b[38;5;28mself\u001b[39m:\n\u001b[0;32m--> 105\u001b[0m     \u001b[38;5;28;01mreturn\u001b[39;00m \u001b[38;5;28mself\u001b[39m\u001b[38;5;241m.\u001b[39mfn(\u001b[38;5;241m*\u001b[39margs, \u001b[38;5;241m*\u001b[39m\u001b[38;5;241m*\u001b[39mkwargs)\n",
      "File \u001b[0;32m/mnt/lustre/shared_conda/envs/sgreen/PyCBCandOptuna/lib/python3.11/site-packages/numpyro/primitives.py:105\u001b[0m, in \u001b[0;36mMessenger.__call__\u001b[0;34m(self, *args, **kwargs)\u001b[0m\n\u001b[1;32m    103\u001b[0m     \u001b[38;5;28;01mreturn\u001b[39;00m \u001b[38;5;28mself\u001b[39m\n\u001b[1;32m    104\u001b[0m \u001b[38;5;28;01mwith\u001b[39;00m \u001b[38;5;28mself\u001b[39m:\n\u001b[0;32m--> 105\u001b[0m     \u001b[38;5;28;01mreturn\u001b[39;00m \u001b[38;5;28mself\u001b[39m\u001b[38;5;241m.\u001b[39mfn(\u001b[38;5;241m*\u001b[39margs, \u001b[38;5;241m*\u001b[39m\u001b[38;5;241m*\u001b[39mkwargs)\n",
      "\u001b[0;31mTypeError\u001b[0m: cbc_model() takes from 0 to 1 positional arguments but 2 were given"
     ]
    }
   ],
   "source": [
    "rng_key = jax.random.PRNGKey(0)\n",
    "init_params, potential_fn_gen, *_ = initialize_model(\n",
    "    rng_key,\n",
    "    cbc_model,\n",
    "    model_args=(fdata),\n",
    "    dynamic_args=True,\n",
    ")"
   ]
  },
  {
   "cell_type": "code",
   "execution_count": null,
   "id": "a152e99a-d3a9-4ba6-a75d-c057e5bd15cc",
   "metadata": {},
   "outputs": [],
   "source": [
    "logdensity_fn = lambda position: -potential_fn_gen(fdata)(position)\n",
    "initial_position = init_params.z"
   ]
  },
  {
   "cell_type": "code",
   "execution_count": null,
   "id": "0a02c27a-76ce-4e0f-9973-a043c258ffa9",
   "metadata": {},
   "outputs": [],
   "source": [
    "import blackjax\n",
    "\n",
    "num_warmup = 2000\n",
    "\n",
    "adapt = blackjax.window_adaptation(\n",
    "    blackjax.nuts, logdensity_fn, target_acceptance_rate=0.8\n",
    ")\n",
    "(last_state, parameters), _ = adapt.run(rng_key, initial_position, num_warmup)\n",
    "kernel = blackjax.nuts(logdensity_fn, **parameters).step"
   ]
  },
  {
   "cell_type": "code",
   "execution_count": null,
   "id": "30df145f-4f0e-48f6-a737-56ed21074803",
   "metadata": {},
   "outputs": [],
   "source": [
    "def inference_loop(rng_key, kernel, initial_state, num_samples):\n",
    "    @jax.jit\n",
    "    def one_step(state, rng_key):\n",
    "        state, info = kernel(rng_key, state)\n",
    "        return state, (state, info)\n",
    "\n",
    "    keys = jax.random.split(rng_key, num_samples)\n",
    "    _, (states, infos) = jax.lax.scan(one_step, initial_state, keys)\n",
    "\n",
    "    return states, (\n",
    "        infos.acceptance_rate,\n",
    "        infos.is_divergent,\n",
    "        infos.num_integration_steps,\n",
    "    )"
   ]
  },
  {
   "cell_type": "code",
   "execution_count": null,
   "id": "3514dd04-a503-48a8-9300-9f497b697ba6",
   "metadata": {},
   "outputs": [],
   "source": [
    "num_sample = 1000\n",
    "\n",
    "states, infos = inference_loop(rng_key, kernel, last_state, num_sample)\n",
    "_ = states.position[\"mu\"].block_until_ready()"
   ]
  },
  {
   "cell_type": "code",
   "execution_count": null,
   "id": "ea8dfb9f-8436-4f3e-9e3a-bbf80cdf23d8",
   "metadata": {},
   "outputs": [],
   "source": [
    "acceptance_rate = np.mean(infos[0])\n",
    "num_divergent = np.mean(infos[1])\n",
    "\n",
    "print(f\"\\Average acceptance rate: {acceptance_rate:.2f}\")\n",
    "print(f\"There were {100*num_divergent:.2f}% divergent transitions\")"
   ]
  },
  {
   "cell_type": "code",
   "execution_count": null,
   "id": "14aee3d2-6300-4d43-ae1e-b63ac1beaf69",
   "metadata": {},
   "outputs": [],
   "source": [
    "import seaborn as sns\n",
    "from matplotlib import pyplot as plt\n",
    "\n",
    "samples = states.position\n",
    "\n",
    "fig, axes = plt.subplots(ncols=2)\n",
    "fig.set_size_inches(12, 5)\n",
    "sns.kdeplot(samples[\"mu\"], ax=axes[0])\n",
    "sns.kdeplot(samples[\"tau\"], ax=axes[1])\n",
    "axes[0].set_xlabel(\"mu\")\n",
    "axes[1].set_xlabel(\"tau\")\n",
    "fig.tight_layout()"
   ]
  },
  {
   "cell_type": "code",
   "execution_count": null,
   "id": "63c3a90c-d9c4-496a-be09-7cd067b3d35a",
   "metadata": {},
   "outputs": [],
   "source": []
  }
 ],
 "metadata": {
  "kernelspec": {
   "display_name": "PyCBCandOptuna",
   "language": "python",
   "name": "pycbcandoptuna"
  },
  "language_info": {
   "codemirror_mode": {
    "name": "ipython",
    "version": 3
   },
   "file_extension": ".py",
   "mimetype": "text/x-python",
   "name": "python",
   "nbconvert_exporter": "python",
   "pygments_lexer": "ipython3",
   "version": "3.11.3"
  }
 },
 "nbformat": 4,
 "nbformat_minor": 5
}
