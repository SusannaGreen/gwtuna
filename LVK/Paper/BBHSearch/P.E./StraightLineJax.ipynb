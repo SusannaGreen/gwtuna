{
 "cells": [
  {
   "cell_type": "code",
   "execution_count": 1,
   "id": "3a9c57aa-4de7-4aed-9356-b5af9f79f07b",
   "metadata": {
    "tags": []
   },
   "outputs": [],
   "source": [
    "import jax\n",
    "import jax.numpy as jnp\n",
    "import jax.scipy.stats as stats\n",
    "import matplotlib.pyplot as plt\n",
    "import numpy as np\n",
    "\n",
    "import blackjax"
   ]
  },
  {
   "cell_type": "code",
   "execution_count": 2,
   "id": "20c53029-7e3e-4602-a819-9494688eebe5",
   "metadata": {
    "tags": []
   },
   "outputs": [
    {
     "data": {
      "image/png": "[encoded data removed]",
      "text/plain": [
       "<Figure size 640x480 with 1 Axes>"
      ]
     },
     "metadata": {},
     "output_type": "display_data"
    }
   ],
   "source": [
    "# Choose the \"true\" parameters.\n",
    "m_true = -0.9594\n",
    "b_true = 4.294\n",
    "f_true = 0.534\n",
    "\n",
    "# Generate some synthetic data from the model.\n",
    "N = 50\n",
    "x = np.sort(10 * np.random.rand(N))\n",
    "yerr = 0.1 + 0.5 * np.random.rand(N)\n",
    "y = m_true * x + b_true\n",
    "y += np.abs(f_true * y) * np.random.randn(N)\n",
    "y += yerr * np.random.randn(N)\n",
    "\n",
    "plt.errorbar(x, y, yerr=yerr, fmt=\".k\", capsize=0)\n",
    "x0 = np.linspace(0, 10, 500)\n",
    "plt.plot(x0, m_true * x0 + b_true, \"k\", alpha=0.3, lw=3)\n",
    "plt.xlim(0, 10)\n",
    "plt.xlabel(\"x\")\n",
    "plt.ylabel(\"y\");"
   ]
  },
  {
   "cell_type": "code",
   "execution_count": 95,
   "id": "79626ff0-d55d-43c5-905b-13e2beaa2bea",
   "metadata": {
    "tags": []
   },
   "outputs": [],
   "source": [
    "#def log_prior(theta):\n",
    "#    m, b, log_f = theta\n",
    "#    print(theta)\n",
    "#    print(m.primal)\n",
    "#    print(f'the type is {type(theta)}')\n",
    "#    if -5.0 < m.primal < 0.5 and 0.0 < b.primal < 10.0 and -10.0 < log_f.primal < 1.0:\n",
    "#        return 0.0\n",
    "#    return -jnp.inf\n",
    "\n",
    "\n",
    "def log_prior(theta):\n",
    "    m, b, log_f = theta\n",
    "    print(type(log_f.primal))\n",
    "    if -5.0 < float(m.primal) < 0.5 and 0.0 < float(b.primal) < 10.0 and -10.0 < float(log_f.primal) < 1.0:\n",
    "        return 0.0\n",
    "    return -jnp.inf\n",
    "\n",
    "\n",
    "def log_likelihood(theta, x=x, y=y, yerr=yerr):\n",
    "    m, b, log_f = theta\n",
    "    model = m * x + b\n",
    "    sigma2 = yerr**2 + model**2 * jnp.exp(2 * log_f)\n",
    "    return -0.5 * jnp.sum((y - model) ** 2 / sigma2 + jnp.log(sigma2))\n",
    "\n",
    "def log_probability(theta, x=x, y=y, yerr=yerr):\n",
    "    lp = log_prior(theta)\n",
    "    if not jnp.isfinite(lp):\n",
    "        return -jnp.inf\n",
    "    return lp + log_likelihood(theta, x, y, yerr)\n",
    "\n",
    "#def logdensity_fn(loc, log_scale, observed=observed):\n",
    "#    \"\"\"Univariate Normal\"\"\"\n",
    "#    scale = jnp.exp(log_scale)\n",
    "#    logpdf = stats.norm.logpdf(observed, loc, scale)\n",
    "#    return jnp.sum(logpdf)\n",
    "\n",
    "\n",
    "logdensity = lambda a: log_probability(**a)"
   ]
  },
  {
   "cell_type": "code",
   "execution_count": 96,
   "id": "03935618-f803-4e65-a4cc-b3abc58c66a1",
   "metadata": {
    "tags": []
   },
   "outputs": [],
   "source": [
    "inv_mass_matrix = np.array([0.01, 0.01, 0.01])\n",
    "num_integration_steps = 60\n",
    "step_size = 1e-3\n",
    "\n",
    "hmc = blackjax.hmc(logdensity, step_size, inv_mass_matrix, num_integration_steps)"
   ]
  },
  {
   "cell_type": "code",
   "execution_count": 97,
   "id": "5730a6d4-0101-4a20-a541-4e90139687c7",
   "metadata": {
    "tags": []
   },
   "outputs": [
    {
     "name": "stdout",
     "output_type": "stream",
     "text": [
      "<class 'jaxlib.xla_extension.ArrayImpl'>\n"
     ]
    },
    {
     "data": {
      "text/plain": [
       "HMCState(position={'theta': Array([-1.       ,  5.       , -0.6931472], dtype=float32)}, logdensity=Array(-42.359314, dtype=float32), logdensity_grad={'theta': Array([-93.92984  , -20.871183 ,   2.0367742], dtype=float32)})"
      ]
     },
     "execution_count": 97,
     "metadata": {},
     "output_type": "execute_result"
    }
   ],
   "source": [
    "initial_position = {\"theta\": jnp.array([-1.0, 5.0, jnp.log(0.5)])}\n",
    "initial_state = hmc.init(initial_position)\n",
    "initial_state"
   ]
  },
  {
   "cell_type": "code",
   "execution_count": 98,
   "id": "5cdda2dd-ff52-41f0-865f-fceb60737ac1",
   "metadata": {
    "tags": []
   },
   "outputs": [],
   "source": [
    "hmc_kernel = jax.jit(hmc.step)"
   ]
  },
  {
   "cell_type": "code",
   "execution_count": 99,
   "id": "c1d09173-e016-49aa-b1ca-5e1d4accf9e9",
   "metadata": {
    "tags": []
   },
   "outputs": [],
   "source": [
    "def inference_loop(rng_key, kernel, initial_state, num_samples):\n",
    "    @jax.jit\n",
    "    def one_step(state, rng_key):\n",
    "        state, _ = kernel(rng_key, state)\n",
    "        return state, state\n",
    "\n",
    "    keys = jax.random.split(rng_key, num_samples)\n",
    "    _, states = jax.lax.scan(one_step, initial_state, keys)\n",
    "\n",
    "    return states"
   ]
  },
  {
   "cell_type": "code",
   "execution_count": 100,
   "id": "2c746951-6fbb-4d81-ac6f-e8de7e761fa2",
   "metadata": {
    "tags": []
   },
   "outputs": [
    {
     "name": "stdout",
     "output_type": "stream",
     "text": [
      "<class 'jax._src.interpreters.partial_eval.DynamicJaxprTracer'>\n"
     ]
    },
    {
     "ename": "ConcretizationTypeError",
     "evalue": "Abstract tracer value encountered where concrete value is expected: Traced<ShapedArray(float32[])>with<DynamicJaxprTrace(level=4/0)>\nThe problem arose with the `float` function. If trying to convert the data type of a value, try using `x.astype(float)` or `jnp.array(x, float)` instead.\nThe error occurred while tracing the function scanned_fun at /mnt/lustre/shared_conda/envs/sgreen/PyCBCandOptuna/lib/python3.11/site-packages/jax/_src/lax/control_flow/loops.py:1668 for scan. This concrete value was not available in Python because it depends on the values of the arguments loop_carry[1].position['theta'], loop_carry[1].momentum['theta'], and loop_carry[1].logdensity_grad['theta'].\n\nSee https://jax.readthedocs.io/en/latest/errors.html#jax.errors.ConcretizationTypeError",
     "output_type": "error",
     "traceback": [
      "\u001b[0;31m---------------------------------------------------------------------------\u001b[0m",
      "\u001b[0;31mConcretizationTypeError\u001b[0m                   Traceback (most recent call last)",
      "File \u001b[0;32m<timed exec>:2\u001b[0m\n",
      "Cell \u001b[0;32mIn[99], line 8\u001b[0m, in \u001b[0;36minference_loop\u001b[0;34m(rng_key, kernel, initial_state, num_samples)\u001b[0m\n\u001b[1;32m      5\u001b[0m     \u001b[38;5;28;01mreturn\u001b[39;00m state, state\n\u001b[1;32m      7\u001b[0m keys \u001b[38;5;241m=\u001b[39m jax\u001b[38;5;241m.\u001b[39mrandom\u001b[38;5;241m.\u001b[39msplit(rng_key, num_samples)\n\u001b[0;32m----> 8\u001b[0m _, states \u001b[38;5;241m=\u001b[39m jax\u001b[38;5;241m.\u001b[39mlax\u001b[38;5;241m.\u001b[39mscan(one_step, initial_state, keys)\n\u001b[1;32m     10\u001b[0m \u001b[38;5;28;01mreturn\u001b[39;00m states\n",
      "    \u001b[0;31m[... skipping hidden 21 frame]\u001b[0m\n",
      "Cell \u001b[0;32mIn[99], line 4\u001b[0m, in \u001b[0;36minference_loop.<locals>.one_step\u001b[0;34m(state, rng_key)\u001b[0m\n\u001b[1;32m      2\u001b[0m \u001b[38;5;129m@jax\u001b[39m\u001b[38;5;241m.\u001b[39mjit\n\u001b[1;32m      3\u001b[0m \u001b[38;5;28;01mdef\u001b[39;00m \u001b[38;5;21mone_step\u001b[39m(state, rng_key):\n\u001b[0;32m----> 4\u001b[0m     state, _ \u001b[38;5;241m=\u001b[39m kernel(rng_key, state)\n\u001b[1;32m      5\u001b[0m     \u001b[38;5;28;01mreturn\u001b[39;00m state, state\n",
      "    \u001b[0;31m[... skipping hidden 12 frame]\u001b[0m\n",
      "File \u001b[0;32m/mnt/lustre/shared_conda/envs/sgreen/PyCBCandOptuna/lib/python3.11/site-packages/blackjax/mcmc/hmc.py:230\u001b[0m, in \u001b[0;36mhmc.__new__.<locals>.step_fn\u001b[0;34m(rng_key, state)\u001b[0m\n\u001b[1;32m    229\u001b[0m \u001b[38;5;28;01mdef\u001b[39;00m \u001b[38;5;21mstep_fn\u001b[39m(rng_key: PRNGKey, state):\n\u001b[0;32m--> 230\u001b[0m     \u001b[38;5;28;01mreturn\u001b[39;00m kernel(\n\u001b[1;32m    231\u001b[0m         rng_key,\n\u001b[1;32m    232\u001b[0m         state,\n\u001b[1;32m    233\u001b[0m         logdensity_fn,\n\u001b[1;32m    234\u001b[0m         step_size,\n\u001b[1;32m    235\u001b[0m         inverse_mass_matrix,\n\u001b[1;32m    236\u001b[0m         num_integration_steps,\n\u001b[1;32m    237\u001b[0m     )\n",
      "File \u001b[0;32m/mnt/lustre/shared_conda/envs/sgreen/PyCBCandOptuna/lib/python3.11/site-packages/blackjax/mcmc/hmc.py:138\u001b[0m, in \u001b[0;36mbuild_kernel.<locals>.kernel\u001b[0;34m(rng_key, state, logdensity_fn, step_size, inverse_mass_matrix, num_integration_steps)\u001b[0m\n\u001b[1;32m    133\u001b[0m momentum \u001b[38;5;241m=\u001b[39m momentum_generator(key_momentum, position)\n\u001b[1;32m    135\u001b[0m integrator_state \u001b[38;5;241m=\u001b[39m integrators\u001b[38;5;241m.\u001b[39mIntegratorState(\n\u001b[1;32m    136\u001b[0m     position, momentum, logdensity, logdensity_grad\n\u001b[1;32m    137\u001b[0m )\n\u001b[0;32m--> 138\u001b[0m proposal, info \u001b[38;5;241m=\u001b[39m proposal_generator(key_integrator, integrator_state)\n\u001b[1;32m    139\u001b[0m proposal \u001b[38;5;241m=\u001b[39m HMCState(\n\u001b[1;32m    140\u001b[0m     proposal\u001b[38;5;241m.\u001b[39mposition, proposal\u001b[38;5;241m.\u001b[39mlogdensity, proposal\u001b[38;5;241m.\u001b[39mlogdensity_grad\n\u001b[1;32m    141\u001b[0m )\n\u001b[1;32m    143\u001b[0m \u001b[38;5;28;01mreturn\u001b[39;00m proposal, info\n",
      "File \u001b[0;32m/mnt/lustre/shared_conda/envs/sgreen/PyCBCandOptuna/lib/python3.11/site-packages/blackjax/mcmc/hmc.py:286\u001b[0m, in \u001b[0;36mhmc_proposal.<locals>.generate\u001b[0;34m(rng_key, state)\u001b[0m\n\u001b[1;32m    282\u001b[0m \u001b[38;5;28;01mdef\u001b[39;00m \u001b[38;5;21mgenerate\u001b[39m(\n\u001b[1;32m    283\u001b[0m     rng_key, state: integrators\u001b[38;5;241m.\u001b[39mIntegratorState\n\u001b[1;32m    284\u001b[0m ) \u001b[38;5;241m-\u001b[39m\u001b[38;5;241m>\u001b[39m \u001b[38;5;28mtuple\u001b[39m[integrators\u001b[38;5;241m.\u001b[39mIntegratorState, HMCInfo]:\n\u001b[1;32m    285\u001b[0m     \u001b[38;5;124;03m\"\"\"Generate a new chain state.\"\"\"\u001b[39;00m\n\u001b[0;32m--> 286\u001b[0m     end_state \u001b[38;5;241m=\u001b[39m build_trajectory(state, step_size, num_integration_steps)\n\u001b[1;32m    287\u001b[0m     end_state \u001b[38;5;241m=\u001b[39m flip_momentum(end_state)\n\u001b[1;32m    288\u001b[0m     proposal \u001b[38;5;241m=\u001b[39m init_proposal(state)\n",
      "File \u001b[0;32m/mnt/lustre/shared_conda/envs/sgreen/PyCBCandOptuna/lib/python3.11/site-packages/blackjax/mcmc/trajectory.py:125\u001b[0m, in \u001b[0;36mstatic_integration.<locals>.integrate\u001b[0;34m(initial_state, step_size, num_integration_steps)\u001b[0m\n\u001b[1;32m    122\u001b[0m \u001b[38;5;28;01mdef\u001b[39;00m \u001b[38;5;21mone_step\u001b[39m(_, state):\n\u001b[1;32m    123\u001b[0m     \u001b[38;5;28;01mreturn\u001b[39;00m integrator(state, directed_step_size)\n\u001b[0;32m--> 125\u001b[0m \u001b[38;5;28;01mreturn\u001b[39;00m jax\u001b[38;5;241m.\u001b[39mlax\u001b[38;5;241m.\u001b[39mfori_loop(\u001b[38;5;241m0\u001b[39m, num_integration_steps, one_step, initial_state)\n",
      "    \u001b[0;31m[... skipping hidden 12 frame]\u001b[0m\n",
      "File \u001b[0;32m/mnt/lustre/shared_conda/envs/sgreen/PyCBCandOptuna/lib/python3.11/site-packages/blackjax/mcmc/trajectory.py:123\u001b[0m, in \u001b[0;36mstatic_integration.<locals>.integrate.<locals>.one_step\u001b[0;34m(_, state)\u001b[0m\n\u001b[1;32m    122\u001b[0m \u001b[38;5;28;01mdef\u001b[39;00m \u001b[38;5;21mone_step\u001b[39m(_, state):\n\u001b[0;32m--> 123\u001b[0m     \u001b[38;5;28;01mreturn\u001b[39;00m integrator(state, directed_step_size)\n",
      "File \u001b[0;32m/mnt/lustre/shared_conda/envs/sgreen/PyCBCandOptuna/lib/python3.11/site-packages/blackjax/mcmc/integrators.py:92\u001b[0m, in \u001b[0;36mvelocity_verlet.<locals>.one_step\u001b[0;34m(state, step_size)\u001b[0m\n\u001b[1;32m     85\u001b[0m kinetic_grad \u001b[38;5;241m=\u001b[39m kinetic_energy_grad_fn(momentum)\n\u001b[1;32m     86\u001b[0m position \u001b[38;5;241m=\u001b[39m jax\u001b[38;5;241m.\u001b[39mtree_util\u001b[38;5;241m.\u001b[39mtree_map(\n\u001b[1;32m     87\u001b[0m     \u001b[38;5;28;01mlambda\u001b[39;00m position, kinetic_grad: position \u001b[38;5;241m+\u001b[39m a2 \u001b[38;5;241m*\u001b[39m step_size \u001b[38;5;241m*\u001b[39m kinetic_grad,\n\u001b[1;32m     88\u001b[0m     position,\n\u001b[1;32m     89\u001b[0m     kinetic_grad,\n\u001b[1;32m     90\u001b[0m )\n\u001b[0;32m---> 92\u001b[0m logdensity, logdensity_grad \u001b[38;5;241m=\u001b[39m logdensity_and_grad_fn(position)\n\u001b[1;32m     93\u001b[0m momentum \u001b[38;5;241m=\u001b[39m jax\u001b[38;5;241m.\u001b[39mtree_util\u001b[38;5;241m.\u001b[39mtree_map(\n\u001b[1;32m     94\u001b[0m     \u001b[38;5;28;01mlambda\u001b[39;00m momentum, logdensity_grad: momentum\n\u001b[1;32m     95\u001b[0m     \u001b[38;5;241m+\u001b[39m b1 \u001b[38;5;241m*\u001b[39m step_size \u001b[38;5;241m*\u001b[39m logdensity_grad,\n\u001b[1;32m     96\u001b[0m     momentum,\n\u001b[1;32m     97\u001b[0m     logdensity_grad,\n\u001b[1;32m     98\u001b[0m )\n\u001b[1;32m    100\u001b[0m \u001b[38;5;28;01mreturn\u001b[39;00m IntegratorState(position, momentum, logdensity, logdensity_grad)\n",
      "    \u001b[0;31m[... skipping hidden 8 frame]\u001b[0m\n",
      "Cell \u001b[0;32mIn[95], line 38\u001b[0m, in \u001b[0;36m<lambda>\u001b[0;34m(a)\u001b[0m\n\u001b[1;32m     29\u001b[0m     \u001b[38;5;28;01mreturn\u001b[39;00m lp \u001b[38;5;241m+\u001b[39m log_likelihood(theta, x, y, yerr)\n\u001b[1;32m     31\u001b[0m \u001b[38;5;66;03m#def logdensity_fn(loc, log_scale, observed=observed):\u001b[39;00m\n\u001b[1;32m     32\u001b[0m \u001b[38;5;66;03m#    \"\"\"Univariate Normal\"\"\"\u001b[39;00m\n\u001b[1;32m     33\u001b[0m \u001b[38;5;66;03m#    scale = jnp.exp(log_scale)\u001b[39;00m\n\u001b[1;32m     34\u001b[0m \u001b[38;5;66;03m#    logpdf = stats.norm.logpdf(observed, loc, scale)\u001b[39;00m\n\u001b[1;32m     35\u001b[0m \u001b[38;5;66;03m#    return jnp.sum(logpdf)\u001b[39;00m\n\u001b[0;32m---> 38\u001b[0m logdensity \u001b[38;5;241m=\u001b[39m \u001b[38;5;28;01mlambda\u001b[39;00m a: log_probability(\u001b[38;5;241m*\u001b[39m\u001b[38;5;241m*\u001b[39ma)\n",
      "Cell \u001b[0;32mIn[95], line 26\u001b[0m, in \u001b[0;36mlog_probability\u001b[0;34m(theta, x, y, yerr)\u001b[0m\n\u001b[1;32m     25\u001b[0m \u001b[38;5;28;01mdef\u001b[39;00m \u001b[38;5;21mlog_probability\u001b[39m(theta, x\u001b[38;5;241m=\u001b[39mx, y\u001b[38;5;241m=\u001b[39my, yerr\u001b[38;5;241m=\u001b[39myerr):\n\u001b[0;32m---> 26\u001b[0m     lp \u001b[38;5;241m=\u001b[39m log_prior(theta)\n\u001b[1;32m     27\u001b[0m     \u001b[38;5;28;01mif\u001b[39;00m \u001b[38;5;129;01mnot\u001b[39;00m jnp\u001b[38;5;241m.\u001b[39misfinite(lp):\n\u001b[1;32m     28\u001b[0m         \u001b[38;5;28;01mreturn\u001b[39;00m \u001b[38;5;241m-\u001b[39mjnp\u001b[38;5;241m.\u001b[39minf\n",
      "Cell \u001b[0;32mIn[95], line 14\u001b[0m, in \u001b[0;36mlog_prior\u001b[0;34m(theta)\u001b[0m\n\u001b[1;32m     12\u001b[0m m, b, log_f \u001b[38;5;241m=\u001b[39m theta\n\u001b[1;32m     13\u001b[0m \u001b[38;5;28mprint\u001b[39m(\u001b[38;5;28mtype\u001b[39m(log_f\u001b[38;5;241m.\u001b[39mprimal))\n\u001b[0;32m---> 14\u001b[0m \u001b[38;5;28;01mif\u001b[39;00m \u001b[38;5;241m-\u001b[39m\u001b[38;5;241m5.0\u001b[39m \u001b[38;5;241m<\u001b[39m \u001b[38;5;28mfloat\u001b[39m(m\u001b[38;5;241m.\u001b[39mprimal) \u001b[38;5;241m<\u001b[39m \u001b[38;5;241m0.5\u001b[39m \u001b[38;5;129;01mand\u001b[39;00m \u001b[38;5;241m0.0\u001b[39m \u001b[38;5;241m<\u001b[39m \u001b[38;5;28mfloat\u001b[39m(b\u001b[38;5;241m.\u001b[39mprimal) \u001b[38;5;241m<\u001b[39m \u001b[38;5;241m10.0\u001b[39m \u001b[38;5;129;01mand\u001b[39;00m \u001b[38;5;241m-\u001b[39m\u001b[38;5;241m10.0\u001b[39m \u001b[38;5;241m<\u001b[39m \u001b[38;5;28mfloat\u001b[39m(log_f\u001b[38;5;241m.\u001b[39mprimal) \u001b[38;5;241m<\u001b[39m \u001b[38;5;241m1.0\u001b[39m:\n\u001b[1;32m     15\u001b[0m     \u001b[38;5;28;01mreturn\u001b[39;00m \u001b[38;5;241m0.0\u001b[39m\n\u001b[1;32m     16\u001b[0m \u001b[38;5;28;01mreturn\u001b[39;00m \u001b[38;5;241m-\u001b[39mjnp\u001b[38;5;241m.\u001b[39minf\n",
      "    \u001b[0;31m[... skipping hidden 1 frame]\u001b[0m\n",
      "File \u001b[0;32m/mnt/lustre/shared_conda/envs/sgreen/PyCBCandOptuna/lib/python3.11/site-packages/jax/_src/core.py:1369\u001b[0m, in \u001b[0;36mconcretization_function_error.<locals>.error\u001b[0;34m(self, arg)\u001b[0m\n\u001b[1;32m   1368\u001b[0m \u001b[38;5;28;01mdef\u001b[39;00m \u001b[38;5;21merror\u001b[39m(\u001b[38;5;28mself\u001b[39m, arg):\n\u001b[0;32m-> 1369\u001b[0m   \u001b[38;5;28;01mraise\u001b[39;00m ConcretizationTypeError(arg, fname_context)\n",
      "\u001b[0;31mConcretizationTypeError\u001b[0m: Abstract tracer value encountered where concrete value is expected: Traced<ShapedArray(float32[])>with<DynamicJaxprTrace(level=4/0)>\nThe problem arose with the `float` function. If trying to convert the data type of a value, try using `x.astype(float)` or `jnp.array(x, float)` instead.\nThe error occurred while tracing the function scanned_fun at /mnt/lustre/shared_conda/envs/sgreen/PyCBCandOptuna/lib/python3.11/site-packages/jax/_src/lax/control_flow/loops.py:1668 for scan. This concrete value was not available in Python because it depends on the values of the arguments loop_carry[1].position['theta'], loop_carry[1].momentum['theta'], and loop_carry[1].logdensity_grad['theta'].\n\nSee https://jax.readthedocs.io/en/latest/errors.html#jax.errors.ConcretizationTypeError"
     ]
    }
   ],
   "source": [
    "%%time\n",
    "rng_key = jax.random.PRNGKey(0)\n",
    "states = inference_loop(rng_key, hmc_kernel, initial_state, 10_000)\n",
    "\n",
    "loc_samples = states.position[\"loc\"].block_until_ready()\n",
    "scale_samples = jnp.exp(states.position[\"log_scale\"])"
   ]
  },
  {
   "cell_type": "code",
   "execution_count": 83,
   "id": "21c968b5-f478-402f-a5bb-5c522c33a8bc",
   "metadata": {
    "tags": []
   },
   "outputs": [
    {
     "ename": "NameError",
     "evalue": "name 'loc_samples' is not defined",
     "output_type": "error",
     "traceback": [
      "\u001b[0;31m---------------------------------------------------------------------------\u001b[0m",
      "\u001b[0;31mNameError\u001b[0m                                 Traceback (most recent call last)",
      "Cell \u001b[0;32mIn[83], line 2\u001b[0m\n\u001b[1;32m      1\u001b[0m fig, (ax, ax1) \u001b[38;5;241m=\u001b[39m plt\u001b[38;5;241m.\u001b[39msubplots(ncols\u001b[38;5;241m=\u001b[39m\u001b[38;5;241m2\u001b[39m, figsize\u001b[38;5;241m=\u001b[39m(\u001b[38;5;241m15\u001b[39m, \u001b[38;5;241m6\u001b[39m))\n\u001b[0;32m----> 2\u001b[0m ax\u001b[38;5;241m.\u001b[39mplot(loc_samples)\n\u001b[1;32m      3\u001b[0m ax\u001b[38;5;241m.\u001b[39mset_xlabel(\u001b[38;5;124m\"\u001b[39m\u001b[38;5;124mSamples\u001b[39m\u001b[38;5;124m\"\u001b[39m)\n\u001b[1;32m      4\u001b[0m ax\u001b[38;5;241m.\u001b[39mset_ylabel(\u001b[38;5;124m\"\u001b[39m\u001b[38;5;124mloc\u001b[39m\u001b[38;5;124m\"\u001b[39m)\n",
      "\u001b[0;31mNameError\u001b[0m: name 'loc_samples' is not defined"
     ]
    },
    {
     "data": {
      "image/png": "[encoded data removed]",
      "text/plain": [
       "<Figure size 1500x600 with 2 Axes>"
      ]
     },
     "metadata": {},
     "output_type": "display_data"
    }
   ],
   "source": [
    "fig, (ax, ax1) = plt.subplots(ncols=2, figsize=(15, 6))\n",
    "ax.plot(loc_samples)\n",
    "ax.set_xlabel(\"Samples\")\n",
    "ax.set_ylabel(\"loc\")\n",
    "\n",
    "ax1.plot(scale_samples)\n",
    "ax1.set_xlabel(\"Samples\")\n",
    "ax1.set_ylabel(\"scale\")"
   ]
  },
  {
   "cell_type": "code",
   "execution_count": null,
   "id": "cf3dc097-ada4-4945-a270-78bb5fa902a1",
   "metadata": {
    "tags": []
   },
   "outputs": [],
   "source": [
    "inv_mass_matrix = np.array([0.5, 0.01])\n",
    "step_size = 1e-3\n",
    "\n",
    "nuts = blackjax.nuts(logdensity, step_size, inv_mass_matrix)"
   ]
  },
  {
   "cell_type": "code",
   "execution_count": null,
   "id": "53c70ff0-dfe3-46cf-9154-4312db7aa951",
   "metadata": {
    "tags": []
   },
   "outputs": [],
   "source": [
    "initial_position = {\"loc\": 1.0, \"log_scale\": 1.0}\n",
    "initial_state = nuts.init(initial_position)\n",
    "initial_state"
   ]
  },
  {
   "cell_type": "code",
   "execution_count": null,
   "id": "9a1e2755-e464-4eb8-951e-abe75fcb8958",
   "metadata": {
    "tags": []
   },
   "outputs": [],
   "source": [
    "%%time\n",
    "rng_key = jax.random.PRNGKey(0)\n",
    "states = inference_loop(rng_key, nuts.step, initial_state, 4_000)\n",
    "\n",
    "loc_samples = states.position[\"loc\"].block_until_ready()\n",
    "scale_samples = jnp.exp(states.position[\"log_scale\"])"
   ]
  },
  {
   "cell_type": "code",
   "execution_count": null,
   "id": "60958fa9-f399-4552-8f6c-5080673cde8b",
   "metadata": {
    "tags": []
   },
   "outputs": [],
   "source": [
    "fig, (ax, ax1) = plt.subplots(ncols=2, figsize=(15, 6))\n",
    "ax.plot(loc_samples)\n",
    "ax.set_xlabel(\"Samples\")\n",
    "ax.set_ylabel(\"loc\")\n",
    "\n",
    "ax1.plot(scale_samples)\n",
    "ax1.set_xlabel(\"Samples\")\n",
    "ax1.set_ylabel(\"scale\")"
   ]
  },
  {
   "cell_type": "code",
   "execution_count": null,
   "id": "3e39e48a-60fc-469c-b1e8-481a376cb996",
   "metadata": {},
   "outputs": [],
   "source": []
  }
 ],
 "metadata": {
  "kernelspec": {
   "display_name": "PyCBCandOptuna",
   "language": "python",
   "name": "pycbcandoptuna"
  },
  "language_info": {
   "codemirror_mode": {
    "name": "ipython",
    "version": 3
   },
   "file_extension": ".py",
   "mimetype": "text/x-python",
   "name": "python",
   "nbconvert_exporter": "python",
   "pygments_lexer": "ipython3",
   "version": "3.11.3"
  }
 },
 "nbformat": 4,
 "nbformat_minor": 5
}
