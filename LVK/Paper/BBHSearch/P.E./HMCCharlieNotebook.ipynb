{
 "cells": [
  {
   "cell_type": "code",
   "execution_count": 1,
   "id": "1246bb5b-180c-4127-8771-4f38bea4d245",
   "metadata": {},
   "outputs": [
    {
     "name": "stderr",
     "output_type": "stream",
     "text": [
      "No GPU/TPU found, falling back to CPU. (Set TF_CPP_MIN_LOG_LEVEL=0 and rerun for more info.)\n",
      "/mnt/lustre/shared_conda/envs/sgreen/PyCBCandOptuna/lib/python3.11/site-packages/tqdm/auto.py:21: TqdmWarning: IProgress not found. Please update jupyter and ipywidgets. See https://ipywidgets.readthedocs.io/en/stable/user_install.html\n",
      "  from .autonotebook import tqdm as notebook_tqdm\n"
     ]
    }
   ],
   "source": [
    "import jax.numpy as jnp\n",
    "from ripple.waveforms import IMRPhenomXAS\n",
    "from ripple import ms_to_Mc_eta\n",
    "import copy\n",
    "import jax\n",
    "\n",
    "from fastprogress import progress_bar\n",
    "\n",
    "import blackjax\n",
    "import blackjax.sgmcmc.gradients as gradients\n",
    "\n",
    "from pycbc.catalog import Merger\n",
    "from pycbc.filter import resample_to_delta_t, highpass\n",
    "from pycbc.psd import interpolate, inverse_spectrum_truncation\n",
    "from pycbc.waveform import get_fd_waveform\n",
    "from pycbc.filter import matched_filter, sigmasq, get_cutoff_indices\n",
    "\n",
    "from jax.scipy.stats import multivariate_normal\n",
    "\n",
    "import blackjax\n",
    "import blackjax.smc.resampling as resampling\n",
    "\n",
    "import numpyro\n",
    "from numpyro import infer\n",
    "from numpyro import distributions as dist"
   ]
  },
  {
   "cell_type": "code",
   "execution_count": 2,
   "id": "e7230a94-9160-42e2-ba70-99d8ca4bac47",
   "metadata": {},
   "outputs": [],
   "source": [
    "data = {\"L1\": jnp.load(\"/users/sgreen/gwtuna/LVK/Paper/BBHSearch/P.E./L1_data.npy\")}#, \"H1\": jnp.load(\"H1_data.npy\")}\n",
    "freqs = jnp.load(\"/users/sgreen/gwtuna/LVK/Paper/BBHSearch/P.E./L1_freqs.npy\")\n",
    "psd = {\"L1\": jnp.load(\"/users/sgreen/gwtuna/LVK/Paper/BBHSearch/P.E./L1_psd.npy\")}#, \"H1\": jnp.load(\"H1_psd.npy\")}"
   ]
  },
  {
   "cell_type": "code",
   "execution_count": 3,
   "id": "fc686e6a-ca66-4386-942b-60b690b48063",
   "metadata": {},
   "outputs": [],
   "source": [
    "# Define the conditiion data function\n",
    "dynfac = 1.0e23\n",
    "def condition(strain, sampling_rate):\n",
    "    tmp = resample_to_delta_t(highpass(strain, 15.0), 1.0/sampling_rate).crop(2,2)\n",
    "    return (dynfac*tmp)\n",
    "\n",
    "# Define the PSD function \n",
    "def estimate_psd(strain, delta_f):\n",
    "    psd = strain.psd(4)\n",
    "    psd = interpolate(psd, delta_f)\n",
    "    psd = inverse_spectrum_truncation(psd, int(4 * strain.sample_rate),\n",
    "                                  low_frequency_cutoff=15, trunc_method='hann')\n",
    "    return psd\n",
    "\n",
    "@jax.jit\n",
    "def log_likelihood(mchirp, eta, chi1, chi2, tc, phic, dist_mpc, inclination):\n",
    "    hp, hc = waveform_generator(\n",
    "        freqs, mchirp, eta, chi1, chi2, tc, phic, dist_mpc, inclination,\n",
    "    )\n",
    "    d_inner_h = 0.\n",
    "    optimal_snr_squared = 0.\n",
    "    for ifo in data.keys():\n",
    "        if ifo == \"L1\":\n",
    "            fp = -0.456852978678261\n",
    "            fc = 0.36204310587763466\n",
    "        else:\n",
    "            fp = 0.45529254427236665\n",
    "            fc = -0.6283981252126967\n",
    "        h = hp*fp + hc*fc\n",
    "        h_star = jnp.conj(h)\n",
    "        integrand = jnp.nan_to_num(h_star * data[ifo] / psd[ifo], 0.)\n",
    "        d_inner_h += 4.0 / 32.0 * jnp.sum(integrand)\n",
    "        integrand = jnp.nan_to_num(h_star * h / psd[ifo], 0.)\n",
    "        optimal_snr_squared += (4.0 / 32.0 * jnp.sum(integrand)).real\n",
    "    log_l = d_inner_h.real - optimal_snr_squared / 2\n",
    "    return log_l.real\n",
    "\n",
    "def prior_model():\n",
    "    mchirp = numpyro.sample('mchirp', dist.Uniform(10., 50.))\n",
    "    eta = numpyro.sample('eta', dist.Uniform(0.1, 0.25))\n",
    "    chi1 = numpyro.sample('chi1', dist.Uniform(-0.9, 0.9))\n",
    "    chi2 = numpyro.sample('chi2', dist.Uniform(-0.9, 0.9))\n",
    "    tc = numpyro.sample('tc', dist.Uniform(1126259460, 1126259464))\n",
    "    phic = numpyro.sample('phic', dist.Uniform(0, 3.14))\n",
    "    dist_mpc = numpyro.sample('dist_mpc', dist.Uniform(100., 2000.))\n",
    "    inclination = numpyro.sample(\"inclination\", dist.Uniform(0.0, 3.14))\n",
    "    return mchirp, eta, chi1, chi2, tc, phic, dist_mpc, inclination\n",
    "\n",
    "@jax.jit\n",
    "def waveform(fs, theta, fref):\n",
    "    return IMRPhenomXAS.gen_IMRPhenomXAS_polar(fs, theta, fref)\n",
    "\n",
    "@jax.jit\n",
    "def waveform_generator(\n",
    "    fs, mchirp, eta, chi1, chi2, tc, phic, dist_mpc, inclination,\n",
    "    **kwargs\n",
    "):\n",
    "    fref = kwargs.get(\"fref\", 20)\n",
    "    theta_ripple = jnp.array(\n",
    "        [mchirp, eta, chi1, chi2, dist_mpc, tc, phic, inclination]\n",
    "    )\n",
    "    hp, hc = waveform(fs, theta_ripple, fref)\n",
    "    return hp, hc"
   ]
  },
  {
   "cell_type": "code",
   "execution_count": 4,
   "id": "b5ea4cab-29c6-4de2-a614-153379117bba",
   "metadata": {},
   "outputs": [],
   "source": [
    "def inference_loop(rng_key, mcmc_kernel, initial_state, num_samples):\n",
    "    @jax.jit\n",
    "    def one_step(state, k):\n",
    "        state, _ = mcmc_kernel(k, state)\n",
    "        return state, state\n",
    "\n",
    "    keys = jax.random.split(rng_key, num_samples)\n",
    "    _, states = jax.lax.scan(one_step, initial_state, keys)\n",
    "\n",
    "    return states\n",
    "\n",
    "\n",
    "def full_logdensity(params):\n",
    "    return prior_model() + prior_log_prob(params)\n",
    "\n",
    "\n",
    "inv_mass_matrix = jnp.eye(1)\n",
    "n_samples = 10_000"
   ]
  },
  {
   "cell_type": "code",
   "execution_count": 5,
   "id": "cf22cc81-b198-478c-96a5-d303f5c74afd",
   "metadata": {},
   "outputs": [
    {
     "ename": "TypeError",
     "evalue": "unexpected PRNG key type <class 'NoneType'>",
     "output_type": "error",
     "traceback": [
      "\u001b[0;31m---------------------------------------------------------------------------\u001b[0m",
      "\u001b[0;31mTypeError\u001b[0m                                 Traceback (most recent call last)",
      "File \u001b[0;32m<timed exec>:8\u001b[0m\n",
      "File \u001b[0;32m/mnt/lustre/shared_conda/envs/sgreen/PyCBCandOptuna/lib/python3.11/site-packages/blackjax/mcmc/hmc.py:227\u001b[0m, in \u001b[0;36mhmc.__new__.<locals>.init_fn\u001b[0;34m(position)\u001b[0m\n\u001b[1;32m    226\u001b[0m \u001b[38;5;28;01mdef\u001b[39;00m \u001b[38;5;21minit_fn\u001b[39m(position: ArrayLikeTree):\n\u001b[0;32m--> 227\u001b[0m     \u001b[38;5;28;01mreturn\u001b[39;00m \u001b[38;5;28mcls\u001b[39m\u001b[38;5;241m.\u001b[39minit(position, logdensity_fn)\n",
      "File \u001b[0;32m/mnt/lustre/shared_conda/envs/sgreen/PyCBCandOptuna/lib/python3.11/site-packages/blackjax/mcmc/hmc.py:83\u001b[0m, in \u001b[0;36minit\u001b[0;34m(position, logdensity_fn)\u001b[0m\n\u001b[1;32m     82\u001b[0m \u001b[38;5;28;01mdef\u001b[39;00m \u001b[38;5;21minit\u001b[39m(position: ArrayLikeTree, logdensity_fn: Callable):\n\u001b[0;32m---> 83\u001b[0m     logdensity, logdensity_grad \u001b[38;5;241m=\u001b[39m jax\u001b[38;5;241m.\u001b[39mvalue_and_grad(logdensity_fn)(position)\n\u001b[1;32m     84\u001b[0m     \u001b[38;5;28;01mreturn\u001b[39;00m HMCState(position, logdensity, logdensity_grad)\n",
      "    \u001b[0;31m[... skipping hidden 8 frame]\u001b[0m\n",
      "Cell \u001b[0;32mIn[4], line 14\u001b[0m, in \u001b[0;36mfull_logdensity\u001b[0;34m(params)\u001b[0m\n\u001b[1;32m     13\u001b[0m \u001b[38;5;28;01mdef\u001b[39;00m \u001b[38;5;21mfull_logdensity\u001b[39m(params):\n\u001b[0;32m---> 14\u001b[0m     \u001b[38;5;28;01mreturn\u001b[39;00m prior_model() \u001b[38;5;241m+\u001b[39m prior_log_prob(params)\n",
      "Cell \u001b[0;32mIn[3], line 39\u001b[0m, in \u001b[0;36mprior_model\u001b[0;34m()\u001b[0m\n\u001b[1;32m     38\u001b[0m \u001b[38;5;28;01mdef\u001b[39;00m \u001b[38;5;21mprior_model\u001b[39m():\n\u001b[0;32m---> 39\u001b[0m     mchirp \u001b[38;5;241m=\u001b[39m numpyro\u001b[38;5;241m.\u001b[39msample(\u001b[38;5;124m'\u001b[39m\u001b[38;5;124mmchirp\u001b[39m\u001b[38;5;124m'\u001b[39m, dist\u001b[38;5;241m.\u001b[39mUniform(\u001b[38;5;241m10.\u001b[39m, \u001b[38;5;241m50.\u001b[39m))\n\u001b[1;32m     40\u001b[0m     eta \u001b[38;5;241m=\u001b[39m numpyro\u001b[38;5;241m.\u001b[39msample(\u001b[38;5;124m'\u001b[39m\u001b[38;5;124meta\u001b[39m\u001b[38;5;124m'\u001b[39m, dist\u001b[38;5;241m.\u001b[39mUniform(\u001b[38;5;241m0.1\u001b[39m, \u001b[38;5;241m0.25\u001b[39m))\n\u001b[1;32m     41\u001b[0m     chi1 \u001b[38;5;241m=\u001b[39m numpyro\u001b[38;5;241m.\u001b[39msample(\u001b[38;5;124m'\u001b[39m\u001b[38;5;124mchi1\u001b[39m\u001b[38;5;124m'\u001b[39m, dist\u001b[38;5;241m.\u001b[39mUniform(\u001b[38;5;241m-\u001b[39m\u001b[38;5;241m0.9\u001b[39m, \u001b[38;5;241m0.9\u001b[39m))\n",
      "File \u001b[0;32m/mnt/lustre/shared_conda/envs/sgreen/PyCBCandOptuna/lib/python3.11/site-packages/numpyro/primitives.py:197\u001b[0m, in \u001b[0;36msample\u001b[0;34m(name, fn, obs, rng_key, sample_shape, infer, obs_mask)\u001b[0m\n\u001b[1;32m    195\u001b[0m \u001b[38;5;28;01mif\u001b[39;00m \u001b[38;5;129;01mnot\u001b[39;00m _PYRO_STACK:\n\u001b[1;32m    196\u001b[0m     \u001b[38;5;28;01mif\u001b[39;00m obs \u001b[38;5;129;01mis\u001b[39;00m \u001b[38;5;28;01mNone\u001b[39;00m:\n\u001b[0;32m--> 197\u001b[0m         \u001b[38;5;28;01mreturn\u001b[39;00m fn(rng_key\u001b[38;5;241m=\u001b[39mrng_key, sample_shape\u001b[38;5;241m=\u001b[39msample_shape)\n\u001b[1;32m    198\u001b[0m     \u001b[38;5;28;01melse\u001b[39;00m:\n\u001b[1;32m    199\u001b[0m         \u001b[38;5;28;01mreturn\u001b[39;00m obs\n",
      "File \u001b[0;32m/mnt/lustre/shared_conda/envs/sgreen/PyCBCandOptuna/lib/python3.11/site-packages/numpyro/distributions/distribution.py:303\u001b[0m, in \u001b[0;36mDistribution.__call__\u001b[0;34m(self, *args, **kwargs)\u001b[0m\n\u001b[1;32m    301\u001b[0m \u001b[38;5;28;01mif\u001b[39;00m sample_intermediates:\n\u001b[1;32m    302\u001b[0m     \u001b[38;5;28;01mreturn\u001b[39;00m \u001b[38;5;28mself\u001b[39m\u001b[38;5;241m.\u001b[39msample_with_intermediates(key, \u001b[38;5;241m*\u001b[39margs, \u001b[38;5;241m*\u001b[39m\u001b[38;5;241m*\u001b[39mkwargs)\n\u001b[0;32m--> 303\u001b[0m \u001b[38;5;28;01mreturn\u001b[39;00m \u001b[38;5;28mself\u001b[39m\u001b[38;5;241m.\u001b[39msample(key, \u001b[38;5;241m*\u001b[39margs, \u001b[38;5;241m*\u001b[39m\u001b[38;5;241m*\u001b[39mkwargs)\n",
      "File \u001b[0;32m/mnt/lustre/shared_conda/envs/sgreen/PyCBCandOptuna/lib/python3.11/site-packages/numpyro/distributions/continuous.py:2251\u001b[0m, in \u001b[0;36mUniform.sample\u001b[0;34m(self, key, sample_shape)\u001b[0m\n\u001b[1;32m   2249\u001b[0m \u001b[38;5;28;01mdef\u001b[39;00m \u001b[38;5;21msample\u001b[39m(\u001b[38;5;28mself\u001b[39m, key, sample_shape\u001b[38;5;241m=\u001b[39m()):\n\u001b[1;32m   2250\u001b[0m     shape \u001b[38;5;241m=\u001b[39m sample_shape \u001b[38;5;241m+\u001b[39m \u001b[38;5;28mself\u001b[39m\u001b[38;5;241m.\u001b[39mbatch_shape\n\u001b[0;32m-> 2251\u001b[0m     \u001b[38;5;28;01mreturn\u001b[39;00m random\u001b[38;5;241m.\u001b[39muniform(key, shape\u001b[38;5;241m=\u001b[39mshape, minval\u001b[38;5;241m=\u001b[39m\u001b[38;5;28mself\u001b[39m\u001b[38;5;241m.\u001b[39mlow, maxval\u001b[38;5;241m=\u001b[39m\u001b[38;5;28mself\u001b[39m\u001b[38;5;241m.\u001b[39mhigh)\n",
      "File \u001b[0;32m/mnt/lustre/shared_conda/envs/sgreen/PyCBCandOptuna/lib/python3.11/site-packages/jax/_src/random.py:262\u001b[0m, in \u001b[0;36muniform\u001b[0;34m(key, shape, dtype, minval, maxval)\u001b[0m\n\u001b[1;32m    243\u001b[0m \u001b[38;5;28;01mdef\u001b[39;00m \u001b[38;5;21muniform\u001b[39m(key: KeyArray,\n\u001b[1;32m    244\u001b[0m             shape: Union[Shape, NamedShape] \u001b[38;5;241m=\u001b[39m (),\n\u001b[1;32m    245\u001b[0m             dtype: DTypeLikeFloat \u001b[38;5;241m=\u001b[39m dtypes\u001b[38;5;241m.\u001b[39mfloat_,\n\u001b[1;32m    246\u001b[0m             minval: RealArray \u001b[38;5;241m=\u001b[39m \u001b[38;5;241m0.\u001b[39m,\n\u001b[1;32m    247\u001b[0m             maxval: RealArray \u001b[38;5;241m=\u001b[39m \u001b[38;5;241m1.\u001b[39m) \u001b[38;5;241m-\u001b[39m\u001b[38;5;241m>\u001b[39m Array:\n\u001b[1;32m    248\u001b[0m   \u001b[38;5;124;03m\"\"\"Sample uniform random values in [minval, maxval) with given shape/dtype.\u001b[39;00m\n\u001b[1;32m    249\u001b[0m \n\u001b[1;32m    250\u001b[0m \u001b[38;5;124;03m  Args:\u001b[39;00m\n\u001b[0;32m   (...)\u001b[0m\n\u001b[1;32m    260\u001b[0m \u001b[38;5;124;03m    A random array with the specified shape and dtype.\u001b[39;00m\n\u001b[1;32m    261\u001b[0m \u001b[38;5;124;03m  \"\"\"\u001b[39;00m\n\u001b[0;32m--> 262\u001b[0m   key, _ \u001b[38;5;241m=\u001b[39m _check_prng_key(key)\n\u001b[1;32m    263\u001b[0m   \u001b[38;5;28;01mif\u001b[39;00m \u001b[38;5;129;01mnot\u001b[39;00m dtypes\u001b[38;5;241m.\u001b[39missubdtype(dtype, np\u001b[38;5;241m.\u001b[39mfloating):\n\u001b[1;32m    264\u001b[0m     \u001b[38;5;28;01mraise\u001b[39;00m \u001b[38;5;167;01mValueError\u001b[39;00m(\u001b[38;5;124mf\u001b[39m\u001b[38;5;124m\"\u001b[39m\u001b[38;5;124mdtype argument to `uniform` must be a float dtype, \u001b[39m\u001b[38;5;124m\"\u001b[39m\n\u001b[1;32m    265\u001b[0m                      \u001b[38;5;124mf\u001b[39m\u001b[38;5;124m\"\u001b[39m\u001b[38;5;124mgot \u001b[39m\u001b[38;5;132;01m{\u001b[39;00mdtype\u001b[38;5;132;01m}\u001b[39;00m\u001b[38;5;124m\"\u001b[39m)\n",
      "File \u001b[0;32m/mnt/lustre/shared_conda/envs/sgreen/PyCBCandOptuna/lib/python3.11/site-packages/jax/_src/random.py:80\u001b[0m, in \u001b[0;36m_check_prng_key\u001b[0;34m(key)\u001b[0m\n\u001b[1;32m     78\u001b[0m   \u001b[38;5;28;01mreturn\u001b[39;00m prng\u001b[38;5;241m.\u001b[39mrandom_wrap(key, impl\u001b[38;5;241m=\u001b[39mdefault_prng_impl()), \u001b[38;5;28;01mTrue\u001b[39;00m\n\u001b[1;32m     79\u001b[0m \u001b[38;5;28;01melse\u001b[39;00m:\n\u001b[0;32m---> 80\u001b[0m   \u001b[38;5;28;01mraise\u001b[39;00m \u001b[38;5;167;01mTypeError\u001b[39;00m(\u001b[38;5;124mf\u001b[39m\u001b[38;5;124m'\u001b[39m\u001b[38;5;124munexpected PRNG key type \u001b[39m\u001b[38;5;132;01m{\u001b[39;00m\u001b[38;5;28mtype\u001b[39m(key)\u001b[38;5;132;01m}\u001b[39;00m\u001b[38;5;124m'\u001b[39m)\n",
      "\u001b[0;31mTypeError\u001b[0m: unexpected PRNG key type <class 'NoneType'>"
     ]
    }
   ],
   "source": [
    "%%time\n",
    "\n",
    "key = jax.random.PRNGKey(42)\n",
    "\n",
    "hmc_parameters = dict(\n",
    "    step_size=1e-4, inverse_mass_matrix=inv_mass_matrix, num_integration_steps=50\n",
    ")\n",
    "\n",
    "hmc = blackjax.hmc(full_logdensity, **hmc_parameters)\n",
    "hmc_state = hmc.init(jnp.ones((1,)))\n",
    "hmc_samples = inference_loop(key, hmc.step, hmc_state, n_samples)"
   ]
  },
  {
   "cell_type": "code",
   "execution_count": null,
   "id": "48bc8dfd-4d21-4dcd-99a6-0f086da6c9eb",
   "metadata": {},
   "outputs": [],
   "source": []
  }
 ],
 "metadata": {
  "kernelspec": {
   "display_name": "PyCBCandOptuna",
   "language": "python",
   "name": "pycbcandoptuna"
  },
  "language_info": {
   "codemirror_mode": {
    "name": "ipython",
    "version": 3
   },
   "file_extension": ".py",
   "mimetype": "text/x-python",
   "name": "python",
   "nbconvert_exporter": "python",
   "pygments_lexer": "ipython3",
   "version": "3.11.3"
  }
 },
 "nbformat": 4,
 "nbformat_minor": 5
}
