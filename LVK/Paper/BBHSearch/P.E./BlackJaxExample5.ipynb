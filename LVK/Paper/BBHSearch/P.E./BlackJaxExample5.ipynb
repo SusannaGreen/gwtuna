{
 "cells": [
  {
   "cell_type": "code",
   "execution_count": 1,
   "id": "836d5028-c82a-4eb0-9828-cd90800f7819",
   "metadata": {},
   "outputs": [],
   "source": [
    "import jax\n",
    "import jax.numpy as jnp\n",
    "import jax.scipy as jsp\n",
    "\n",
    "\n",
    "def gaussian_mixture_model(mu=-5.0, sigma=5.0, gamma=20.0):\n",
    "    def sample_fn(rng_key, num_samples):\n",
    "        key1, key2, key3 = jax.random.split(rng_key, 3)\n",
    "        prob_mixture = jax.random.bernoulli(key1, p=0.5, shape=(num_samples, 1))\n",
    "        mixture_1 = jax.random.normal(key2, shape=(num_samples, 1)) * sigma + mu\n",
    "        mixture_2 = jax.random.normal(key3, shape=(num_samples, 1)) * sigma + gamma - mu\n",
    "        return prob_mixture * mixture_1 + (1 - prob_mixture) * mixture_2\n",
    "\n",
    "    def logprior_fn(position):\n",
    "        return 0\n",
    "\n",
    "    def loglikelihood_fn(position, x):\n",
    "        mixture_1 = jax.scipy.stats.norm.logpdf(x, loc=position, scale=sigma)\n",
    "        mixture_2 = jax.scipy.stats.norm.logpdf(x, loc=-position + gamma, scale=sigma)\n",
    "        return jsp.special.logsumexp(jnp.array([mixture_1, mixture_2])) + jnp.log(0.5)\n",
    "\n",
    "    return sample_fn, logprior_fn, loglikelihood_fn\n",
    "\n",
    "\n",
    "sample_fn, logprior_fn, loglikelihood_fn = gaussian_mixture_model()"
   ]
  },
  {
   "cell_type": "code",
   "execution_count": 2,
   "id": "00ed04bb-f0d4-4dce-bf98-c4972dabde36",
   "metadata": {},
   "outputs": [
    {
     "name": "stderr",
     "output_type": "stream",
     "text": [
      "No GPU/TPU found, falling back to CPU. (Set TF_CPP_MIN_LOG_LEVEL=0 and rerun for more info.)\n"
     ]
    }
   ],
   "source": [
    "data_size = 1000\n",
    "\n",
    "rng_key = jax.random.PRNGKey(888)\n",
    "rng_key, sample_key = jax.random.split(rng_key)\n",
    "X_data = sample_fn(sample_key, data_size)"
   ]
  },
  {
   "cell_type": "code",
   "execution_count": 3,
   "id": "1ced3fdf-7d22-4f7d-a696-ec7b5da2c2f6",
   "metadata": {},
   "outputs": [
    {
     "data": {
      "text/plain": [
       "Text(0.5, 1.0, 'Data')"
      ]
     },
     "execution_count": 3,
     "metadata": {},
     "output_type": "execute_result"
    },
    {
     "data": {
      "image/png": "[encoded data removed]",
      "text/plain": [
       "<Figure size 640x480 with 1 Axes>"
      ]
     },
     "metadata": {},
     "output_type": "display_data"
    }
   ],
   "source": [
    "import matplotlib.pylab as plt\n",
    "\n",
    "ax = plt.subplot(111)\n",
    "ax.hist(X_data.squeeze(), 100)\n",
    "ax.set_xlabel(\"X\")\n",
    "ax.set_xlim(left=-15, right=35)\n",
    "\n",
    "ax.set_yticks([])\n",
    "ax.spines[\"top\"].set_visible(False)\n",
    "ax.spines[\"right\"].set_visible(False)\n",
    "ax.spines[\"left\"].set_visible(False)\n",
    "\n",
    "plt.title(\"Data\")"
   ]
  },
  {
   "cell_type": "code",
   "execution_count": 12,
   "id": "3cd821c0-e428-411c-a077-f7f55a61f7bf",
   "metadata": {},
   "outputs": [
    {
     "data": {
      "text/html": [
       "\n",
       "<style>\n",
       "    /* Turns off some styling */\n",
       "    progress {\n",
       "        /* gets rid of default border in Firefox and Opera. */\n",
       "        border: none;\n",
       "        /* Needs to be in here for Safari polyfill so background images work as expected. */\n",
       "        background-size: auto;\n",
       "    }\n",
       "    progress:not([value]), progress:not([value])::-webkit-progress-bar {\n",
       "        background: repeating-linear-gradient(45deg, #7e7e7e, #7e7e7e 10px, #5c5c5c 10px, #5c5c5c 20px);\n",
       "    }\n",
       "    .progress-bar-interrupted, .progress-bar-interrupted::-webkit-progress-bar {\n",
       "        background: #F44336;\n",
       "    }\n",
       "</style>\n"
      ],
      "text/plain": [
       "<IPython.core.display.HTML object>"
      ]
     },
     "metadata": {},
     "output_type": "display_data"
    },
    {
     "data": {
      "text/html": [
       "\n",
       "    <div>\n",
       "      <progress value='0' class='' max='10000' style='width:300px; height:20px; vertical-align: middle;'></progress>\n",
       "      0.00% [0/10000 00:00&lt;?]\n",
       "    </div>\n",
       "    "
      ],
      "text/plain": [
       "<IPython.core.display.HTML object>"
      ]
     },
     "metadata": {},
     "output_type": "display_data"
    },
    {
     "ename": "TypeError",
     "evalue": "Expected a callable value, got SamplingAlgorithm(init=<function sgld.__new__.<locals>.init_fn at 0x7f5114afe840>, step=<function sgld.__new__.<locals>.step_fn at 0x7f5114aff1a0>)",
     "output_type": "error",
     "traceback": [
      "\u001b[0;31m---------------------------------------------------------------------------\u001b[0m",
      "\u001b[0;31mTypeError\u001b[0m                                 Traceback (most recent call last)",
      "Cell \u001b[0;32mIn[12], line 31\u001b[0m\n\u001b[1;32m     29\u001b[0m rng_key, batch_key, sample_key \u001b[38;5;241m=\u001b[39m jax\u001b[38;5;241m.\u001b[39mrandom\u001b[38;5;241m.\u001b[39msplit(rng_key, \u001b[38;5;241m3\u001b[39m)\n\u001b[1;32m     30\u001b[0m data_batch \u001b[38;5;241m=\u001b[39m jax\u001b[38;5;241m.\u001b[39mrandom\u001b[38;5;241m.\u001b[39mshuffle(batch_key, X_data)[:batch_size, :]\n\u001b[0;32m---> 31\u001b[0m position \u001b[38;5;241m=\u001b[39m jax\u001b[38;5;241m.\u001b[39mjit(sgld)(sample_key, position, data_batch, lr, temperature)\n\u001b[1;32m     32\u001b[0m \u001b[38;5;28;01mif\u001b[39;00m iter_ \u001b[38;5;241m%\u001b[39m thinning_factor \u001b[38;5;241m==\u001b[39m \u001b[38;5;241m0\u001b[39m:\n\u001b[1;32m     33\u001b[0m     sgld_sample_list \u001b[38;5;241m=\u001b[39m jnp\u001b[38;5;241m.\u001b[39mappend(sgld_sample_list, position)\n",
      "File \u001b[0;32m/mnt/lustre/shared_conda/envs/sgreen/PyCBCandOptuna/lib/python3.11/site-packages/jax/_src/api.py:300\u001b[0m, in \u001b[0;36mjit\u001b[0;34m(fun, in_shardings, out_shardings, static_argnums, static_argnames, donate_argnums, keep_unused, device, backend, inline, abstracted_axes)\u001b[0m\n\u001b[1;32m    161\u001b[0m \u001b[38;5;28;01mdef\u001b[39;00m \u001b[38;5;21mjit\u001b[39m(\n\u001b[1;32m    162\u001b[0m   fun: Callable,\n\u001b[1;32m    163\u001b[0m   in_shardings\u001b[38;5;241m=\u001b[39mpxla\u001b[38;5;241m.\u001b[39m_UNSPECIFIED,\n\u001b[0;32m   (...)\u001b[0m\n\u001b[1;32m    172\u001b[0m   abstracted_axes: Optional[Any] \u001b[38;5;241m=\u001b[39m \u001b[38;5;28;01mNone\u001b[39;00m,\n\u001b[1;32m    173\u001b[0m ) \u001b[38;5;241m-\u001b[39m\u001b[38;5;241m>\u001b[39m stages\u001b[38;5;241m.\u001b[39mWrapped:\n\u001b[1;32m    174\u001b[0m   \u001b[38;5;124;03m\"\"\"Sets up ``fun`` for just-in-time compilation with XLA.\u001b[39;00m\n\u001b[1;32m    175\u001b[0m \n\u001b[1;32m    176\u001b[0m \u001b[38;5;124;03m  Args:\u001b[39;00m\n\u001b[0;32m   (...)\u001b[0m\n\u001b[1;32m    297\u001b[0m \u001b[38;5;124;03m    Array([   0,    1,  256, 6561], dtype=int32)\u001b[39;00m\n\u001b[1;32m    298\u001b[0m \u001b[38;5;124;03m  \"\"\"\u001b[39;00m\n\u001b[1;32m    299\u001b[0m   (in_shardings, out_shardings, donate_argnums, static_argnums,\n\u001b[0;32m--> 300\u001b[0m     static_argnames) \u001b[38;5;241m=\u001b[39m pjit\u001b[38;5;241m.\u001b[39mpre_infer_params(\n\u001b[1;32m    301\u001b[0m         fun, in_shardings, out_shardings, donate_argnums,\n\u001b[1;32m    302\u001b[0m         static_argnums, static_argnames, device, backend, abstracted_axes)\n\u001b[1;32m    304\u001b[0m   \u001b[38;5;28;01mdef\u001b[39;00m \u001b[38;5;21minfer_params\u001b[39m(\u001b[38;5;241m*\u001b[39margs, \u001b[38;5;241m*\u001b[39m\u001b[38;5;241m*\u001b[39mkwargs):\n\u001b[1;32m    305\u001b[0m     pjit_info_args \u001b[38;5;241m=\u001b[39m pjit\u001b[38;5;241m.\u001b[39mPjitInfo(\n\u001b[1;32m    306\u001b[0m         fun\u001b[38;5;241m=\u001b[39mfun, in_shardings\u001b[38;5;241m=\u001b[39min_shardings,\n\u001b[1;32m    307\u001b[0m         out_shardings\u001b[38;5;241m=\u001b[39mout_shardings, static_argnums\u001b[38;5;241m=\u001b[39mstatic_argnums,\n\u001b[1;32m    308\u001b[0m         static_argnames\u001b[38;5;241m=\u001b[39mstatic_argnames, donate_argnums\u001b[38;5;241m=\u001b[39mdonate_argnums,\n\u001b[1;32m    309\u001b[0m         device\u001b[38;5;241m=\u001b[39mdevice, backend\u001b[38;5;241m=\u001b[39mbackend, keep_unused\u001b[38;5;241m=\u001b[39mkeep_unused,\n\u001b[1;32m    310\u001b[0m         inline\u001b[38;5;241m=\u001b[39minline, resource_env\u001b[38;5;241m=\u001b[39m\u001b[38;5;28;01mNone\u001b[39;00m, abstracted_axes\u001b[38;5;241m=\u001b[39mabstracted_axes)\n",
      "File \u001b[0;32m/mnt/lustre/shared_conda/envs/sgreen/PyCBCandOptuna/lib/python3.11/site-packages/jax/_src/pjit.py:311\u001b[0m, in \u001b[0;36mpre_infer_params\u001b[0;34m(fun, in_shardings, out_shardings, donate_argnums, static_argnums, static_argnames, device, backend, abstracted_axes)\u001b[0m\n\u001b[1;32m    308\u001b[0m \u001b[38;5;28;01mif\u001b[39;00m abstracted_axes \u001b[38;5;129;01mand\u001b[39;00m \u001b[38;5;129;01mnot\u001b[39;00m jax\u001b[38;5;241m.\u001b[39mconfig\u001b[38;5;241m.\u001b[39mjax_dynamic_shapes:\n\u001b[1;32m    309\u001b[0m   \u001b[38;5;28;01mraise\u001b[39;00m \u001b[38;5;167;01mValueError\u001b[39;00m(\u001b[38;5;124m\"\u001b[39m\u001b[38;5;124mabstracted_axes must be used with --jax_dynamic_shapes\u001b[39m\u001b[38;5;124m\"\u001b[39m)\n\u001b[0;32m--> 311\u001b[0m check_callable(fun)\n\u001b[1;32m    313\u001b[0m \u001b[38;5;28;01mif\u001b[39;00m backend \u001b[38;5;129;01mis\u001b[39;00m \u001b[38;5;129;01mnot\u001b[39;00m \u001b[38;5;28;01mNone\u001b[39;00m \u001b[38;5;129;01mor\u001b[39;00m device \u001b[38;5;129;01mis\u001b[39;00m \u001b[38;5;129;01mnot\u001b[39;00m \u001b[38;5;28;01mNone\u001b[39;00m:\n\u001b[1;32m    314\u001b[0m   warnings\u001b[38;5;241m.\u001b[39mwarn(\n\u001b[1;32m    315\u001b[0m       \u001b[38;5;124m'\u001b[39m\u001b[38;5;124mbackend and device argument on jit is deprecated. You can use a \u001b[39m\u001b[38;5;124m'\u001b[39m\n\u001b[1;32m    316\u001b[0m       \u001b[38;5;124m'\u001b[39m\u001b[38;5;124m`jax.sharding.Mesh` context manager or device_put the arguments \u001b[39m\u001b[38;5;124m'\u001b[39m\n\u001b[1;32m    317\u001b[0m       \u001b[38;5;124m'\u001b[39m\u001b[38;5;124mbefore passing them to `jit`. Please see \u001b[39m\u001b[38;5;124m'\u001b[39m\n\u001b[1;32m    318\u001b[0m       \u001b[38;5;124m'\u001b[39m\u001b[38;5;124mhttps://jax.readthedocs.io/en/latest/notebooks/Distributed_arrays_and_automatic_parallelization.html \u001b[39m\u001b[38;5;124m'\u001b[39m\n\u001b[1;32m    319\u001b[0m       \u001b[38;5;124m'\u001b[39m\u001b[38;5;124mfor more information.\u001b[39m\u001b[38;5;124m'\u001b[39m, \u001b[38;5;167;01mDeprecationWarning\u001b[39;00m)\n",
      "File \u001b[0;32m/mnt/lustre/shared_conda/envs/sgreen/PyCBCandOptuna/lib/python3.11/site-packages/jax/_src/api_util.py:462\u001b[0m, in \u001b[0;36mcheck_callable\u001b[0;34m(fun)\u001b[0m\n\u001b[1;32m    460\u001b[0m   \u001b[38;5;28;01mraise\u001b[39;00m \u001b[38;5;167;01mTypeError\u001b[39;00m(\u001b[38;5;124mf\u001b[39m\u001b[38;5;124m\"\u001b[39m\u001b[38;5;124mstaticmethod arguments are not supported, got \u001b[39m\u001b[38;5;132;01m{\u001b[39;00mfun\u001b[38;5;132;01m}\u001b[39;00m\u001b[38;5;124m\"\u001b[39m)\n\u001b[1;32m    461\u001b[0m \u001b[38;5;28;01mif\u001b[39;00m \u001b[38;5;129;01mnot\u001b[39;00m callable(fun):\n\u001b[0;32m--> 462\u001b[0m   \u001b[38;5;28;01mraise\u001b[39;00m \u001b[38;5;167;01mTypeError\u001b[39;00m(\u001b[38;5;124mf\u001b[39m\u001b[38;5;124m\"\u001b[39m\u001b[38;5;124mExpected a callable value, got \u001b[39m\u001b[38;5;132;01m{\u001b[39;00mfun\u001b[38;5;132;01m}\u001b[39;00m\u001b[38;5;124m\"\u001b[39m)\n\u001b[1;32m    463\u001b[0m \u001b[38;5;28;01mif\u001b[39;00m _isgeneratorfunction(fun):\n\u001b[1;32m    464\u001b[0m   \u001b[38;5;28;01mraise\u001b[39;00m \u001b[38;5;167;01mTypeError\u001b[39;00m(\u001b[38;5;124mf\u001b[39m\u001b[38;5;124m\"\u001b[39m\u001b[38;5;124mExpected a function, got a generator function: \u001b[39m\u001b[38;5;132;01m{\u001b[39;00mfun\u001b[38;5;132;01m}\u001b[39;00m\u001b[38;5;124m\"\u001b[39m)\n",
      "\u001b[0;31mTypeError\u001b[0m: Expected a callable value, got SamplingAlgorithm(init=<function sgld.__new__.<locals>.init_fn at 0x7f5114afe840>, step=<function sgld.__new__.<locals>.step_fn at 0x7f5114aff1a0>)"
     ]
    }
   ],
   "source": [
    "from fastprogress import progress_bar\n",
    "\n",
    "import blackjax\n",
    "import blackjax.sgmcmc.gradients as gradients\n",
    "\n",
    "\n",
    "# Specify hyperparameters for SGLD\n",
    "total_iter = 10_000\n",
    "thinning_factor = 10\n",
    "\n",
    "batch_size = 100\n",
    "lr = 1e-3\n",
    "temperature = 50.0\n",
    "\n",
    "init_position = 10.0\n",
    "\n",
    "\n",
    "# Build the SGDL sampler\n",
    "grad_fn = gradients.grad_estimator(logprior_fn, loglikelihood_fn, data_size)\n",
    "sgld = blackjax.sgld(grad_fn)\n",
    "\n",
    "\n",
    "# Initialize and take one step using the vanilla SGLD algorithm\n",
    "position = init_position\n",
    "sgld_sample_list = jnp.array([])\n",
    "\n",
    "pb = progress_bar(range(total_iter))\n",
    "for iter_ in pb:\n",
    "    rng_key, batch_key, sample_key = jax.random.split(rng_key, 3)\n",
    "    data_batch = jax.random.shuffle(batch_key, X_data)[:batch_size, :]\n",
    "    position = jax.jit(sgld)(sample_key, position, data_batch, lr, temperature)\n",
    "    if iter_ % thinning_factor == 0:\n",
    "        sgld_sample_list = jnp.append(sgld_sample_list, position)\n",
    "        pb.comment = f\"| position: {position: .2f}\""
   ]
  },
  {
   "cell_type": "code",
   "execution_count": 6,
   "id": "28ce91f1-cd85-43d8-bd2b-2526fa4bd789",
   "metadata": {},
   "outputs": [
    {
     "data": {
      "text/plain": [
       "Text(0.5, 0.98, 'Stochastic gradient Langevin dynamics (SGLD)')"
      ]
     },
     "execution_count": 6,
     "metadata": {},
     "output_type": "execute_result"
    },
    {
     "data": {
      "image/png": "[encoded data removed]",
      "text/plain": [
       "<Figure size 1200x600 with 2 Axes>"
      ]
     },
     "metadata": {},
     "output_type": "display_data"
    }
   ],
   "source": [
    "import matplotlib.gridspec as gridspec\n",
    "import matplotlib.pylab as plt\n",
    "\n",
    "fig = plt.figure(figsize=(12, 6))\n",
    "\n",
    "G = gridspec.GridSpec(1, 3)\n",
    "\n",
    "# Trajectory\n",
    "ax = plt.subplot(G[0, :2])\n",
    "ax.plot(sgld_sample_list, label=\"SGLD\")\n",
    "ax.set_xlabel(f\"Iterations (x{thinning_factor})\")\n",
    "ax.set_ylabel(\"X\")\n",
    "\n",
    "ax.spines[\"top\"].set_visible(False)\n",
    "ax.spines[\"right\"].set_visible(False)\n",
    "\n",
    "\n",
    "# Histogram\n",
    "ax = plt.subplot(G[0, 2])\n",
    "ax.hist(sgld_sample_list, 100)\n",
    "ax.set_xlabel(\"X\")\n",
    "ax.set_xlim(left=-15, right=35)\n",
    "\n",
    "ax.set_yticks([])\n",
    "ax.spines[\"top\"].set_visible(False)\n",
    "ax.spines[\"right\"].set_visible(False)\n",
    "ax.spines[\"left\"].set_visible(False)\n",
    "\n",
    "\n",
    "plt.suptitle(\"Stochastic gradient Langevin dynamics (SGLD)\")"
   ]
  },
  {
   "cell_type": "code",
   "execution_count": 17,
   "id": "afcbfe00-d686-4375-8202-a6dbd221773e",
   "metadata": {},
   "outputs": [
    {
     "data": {
      "text/html": [
       "\n",
       "<style>\n",
       "    /* Turns off some styling */\n",
       "    progress {\n",
       "        /* gets rid of default border in Firefox and Opera. */\n",
       "        border: none;\n",
       "        /* Needs to be in here for Safari polyfill so background images work as expected. */\n",
       "        background-size: auto;\n",
       "    }\n",
       "    progress:not([value]), progress:not([value])::-webkit-progress-bar {\n",
       "        background: repeating-linear-gradient(45deg, #7e7e7e, #7e7e7e 10px, #5c5c5c 10px, #5c5c5c 20px);\n",
       "    }\n",
       "    .progress-bar-interrupted, .progress-bar-interrupted::-webkit-progress-bar {\n",
       "        background: #F44336;\n",
       "    }\n",
       "</style>\n"
      ],
      "text/plain": [
       "<IPython.core.display.HTML object>"
      ]
     },
     "metadata": {},
     "output_type": "display_data"
    },
    {
     "data": {
      "text/html": [
       "\n",
       "    <div>\n",
       "      <progress value='0' class='' max='10000' style='width:300px; height:20px; vertical-align: middle;'></progress>\n",
       "      0.00% [0/10000 00:00&lt;?]\n",
       "    </div>\n",
       "    "
      ],
      "text/plain": [
       "<IPython.core.display.HTML object>"
      ]
     },
     "metadata": {},
     "output_type": "display_data"
    },
    {
     "ename": "TypeError",
     "evalue": "'SamplingAlgorithm' object is not callable",
     "output_type": "error",
     "traceback": [
      "\u001b[0;31m---------------------------------------------------------------------------\u001b[0m",
      "\u001b[0;31mTypeError\u001b[0m                                 Traceback (most recent call last)",
      "Cell \u001b[0;32mIn[17], line 33\u001b[0m\n\u001b[1;32m     31\u001b[0m data_batch \u001b[38;5;241m=\u001b[39m jax\u001b[38;5;241m.\u001b[39mrandom\u001b[38;5;241m.\u001b[39mshuffle(batch_key, X_data)[:batch_size, :]\n\u001b[1;32m     32\u001b[0m \u001b[38;5;66;03m#sgld = partial(jit, static_argnums=(1,))(sgld)\u001b[39;00m\n\u001b[0;32m---> 33\u001b[0m position \u001b[38;5;241m=\u001b[39m sgld(sample_key, position, data_batch, lr, temperature)\n\u001b[1;32m     34\u001b[0m \u001b[38;5;28;01mif\u001b[39;00m iter_ \u001b[38;5;241m%\u001b[39m thinning_factor \u001b[38;5;241m==\u001b[39m \u001b[38;5;241m0\u001b[39m:\n\u001b[1;32m     35\u001b[0m     sgld_sample_list \u001b[38;5;241m=\u001b[39m jnp\u001b[38;5;241m.\u001b[39mappend(sgld_sample_list, position)\n",
      "\u001b[0;31mTypeError\u001b[0m: 'SamplingAlgorithm' object is not callable"
     ]
    }
   ],
   "source": [
    "from fastprogress import progress_bar\n",
    "\n",
    "import blackjax\n",
    "import blackjax.sgmcmc.gradients as gradients\n",
    "\n",
    "from functools import partial\n",
    "from jax import random, jit\n",
    "\n",
    "# Specify hyperparameters for SGLD\n",
    "total_iter = 10_000\n",
    "thinning_factor = 10\n",
    "\n",
    "batch_size = 100\n",
    "lr = 1e-3\n",
    "temperature = 50.0\n",
    "\n",
    "init_position = 10.0\n",
    "\n",
    "\n",
    "# Build the SGDL sampler\n",
    "grad_fn = gradients.grad_estimator(logprior_fn, loglikelihood_fn, data_size)\n",
    "sgld = blackjax.sgld(grad_fn)\n",
    "\n",
    "# Initialize and take one step using the vanilla SGLD algorithm\n",
    "position = init_position\n",
    "sgld_sample_list = jnp.array([])\n",
    "\n",
    "pb = progress_bar(range(total_iter))\n",
    "for iter_ in pb:\n",
    "    rng_key, batch_key, sample_key = jax.random.split(rng_key, 3)\n",
    "    data_batch = jax.random.shuffle(batch_key, X_data)[:batch_size, :]\n",
    "    #sgld = partial(jit, static_argnums=(1,))(sgld)\n",
    "    position = sgld(sample_key, position, data_batch, lr, temperature)\n",
    "    if iter_ % thinning_factor == 0:\n",
    "        sgld_sample_list = jnp.append(sgld_sample_list, position)\n",
    "        pb.comment = f\"| position: {position: .2f}\""
   ]
  },
  {
   "cell_type": "code",
   "execution_count": null,
   "id": "25eb069c-fb99-4241-b9f7-3947b5c0d121",
   "metadata": {},
   "outputs": [],
   "source": []
  }
 ],
 "metadata": {
  "kernelspec": {
   "display_name": "PyCBCandOptuna",
   "language": "python",
   "name": "pycbcandoptuna"
  },
  "language_info": {
   "codemirror_mode": {
    "name": "ipython",
    "version": 3
   },
   "file_extension": ".py",
   "mimetype": "text/x-python",
   "name": "python",
   "nbconvert_exporter": "python",
   "pygments_lexer": "ipython3",
   "version": "3.11.3"
  }
 },
 "nbformat": 4,
 "nbformat_minor": 5
}
