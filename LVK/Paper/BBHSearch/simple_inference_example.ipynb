{
 "cells": [
  {
   "cell_type": "code",
   "execution_count": 1,
   "id": "9c70605e",
   "metadata": {},
   "outputs": [],
   "source": [
    "import numpy as np\n",
    "import matplotlib.pyplot as plt\n",
    "import pycbc\n",
    "from pycbc.catalog import Merger\n",
    "from pycbc.filter import resample_to_delta_t, highpass\n",
    "from pycbc.psd import interpolate, inverse_spectrum_truncation"
   ]
  },
  {
   "cell_type": "code",
   "execution_count": 2,
   "id": "5b293944",
   "metadata": {},
   "outputs": [
    {
     "name": "stderr",
     "output_type": "stream",
     "text": [
      "/mnt/lustre/shared_conda/envs/sgreen/PyCBCandOptuna/lib/python3.11/site-packages/tqdm/auto.py:21: TqdmWarning: IProgress not found. Please update jupyter and ipywidgets. See https://ipywidgets.readthedocs.io/en/stable/user_install.html\n",
      "  from .autonotebook import tqdm as notebook_tqdm\n",
      "No GPU/TPU found, falling back to CPU. (Set TF_CPP_MIN_LOG_LEVEL=0 and rerun for more info.)\n"
     ]
    }
   ],
   "source": [
    "import jax\n",
    "import jax.numpy as jnp\n",
    "from functools import partial\n",
    "import gwjax\n",
    "import gwjax.imrphenom"
   ]
  },
  {
   "cell_type": "code",
   "execution_count": 3,
   "id": "d879565e",
   "metadata": {},
   "outputs": [],
   "source": [
    "ifos = ['H1', 'L1']"
   ]
  },
  {
   "cell_type": "code",
   "execution_count": 4,
   "id": "0e79a6da",
   "metadata": {},
   "outputs": [],
   "source": [
    "def condition(strain):\n",
    "    tmp = resample_to_delta_t(highpass(strain, 15.0), 1.0/2048).crop(2,2)\n",
    "    return (1e23*tmp)\n",
    "\n",
    "def estimate_psd(strain, delta_f):\n",
    "    psd = strain.psd(4)\n",
    "    psd = interpolate(psd, delta_f)\n",
    "    psd = inverse_spectrum_truncation(psd, int(4 * strain.sample_rate),\n",
    "                                  low_frequency_cutoff=15, trunc_method='hann')\n",
    "    return psd\n",
    "\n",
    "def whiten(strain):\n",
    "    psd = estimate_psd(strain, strain.delta_f)\n",
    "    return (strain.to_frequencyseries() / np.sqrt(psd)).to_timeseries()"
   ]
  },
  {
   "cell_type": "code",
   "execution_count": 5,
   "id": "3a77f03e",
   "metadata": {},
   "outputs": [],
   "source": [
    "merger = Merger(\"GW150914\")\n",
    "gps_time = merger.time\n",
    "\n",
    "# Get the data and estimate the PSDs\n",
    "strain = {ifo: condition(merger.strain(ifo)) for ifo in ifos}\n",
    "\n",
    "wdata = {}\n",
    "invasd = {}\n",
    "for ifo in ifos:\n",
    "    data = strain[ifo]\n",
    "    \n",
    "    srate = int(1/data.delta_t)\n",
    "    idx = int(srate * (gps_time - data.start_time))\n",
    "    \n",
    "    wdata[ifo] = whiten(data)[idx-4*srate:idx+4*srate]\n",
    "    invasd[ifo] = estimate_psd(data, 1/8)**-0.5\n",
    "\n",
    "kmin, kmax = 15*8, 900*8"
   ]
  },
  {
   "cell_type": "code",
   "execution_count": 6,
   "id": "1ed2d37f",
   "metadata": {},
   "outputs": [],
   "source": [
    "gmst = gwjax.gmst(gps_time)"
   ]
  },
  {
   "cell_type": "code",
   "execution_count": 7,
   "id": "cd346c49",
   "metadata": {},
   "outputs": [],
   "source": [
    "freqs = jnp.arange(1+1024*8, dtype=jnp.float32)/8"
   ]
  },
  {
   "cell_type": "code",
   "execution_count": 8,
   "id": "9cb18785",
   "metadata": {},
   "outputs": [],
   "source": [
    "params = {'phase': 0., 'geocent_time': 0.,\n",
    "            'luminosity_distance': 1, 'theta_jn': 0., \n",
    "            'm1': 36, 'm2': 29, 'spin1': 0., 'spin2': 0.,\n",
    "            'ra': 0., 'dec': 0., 'pol': 0.}"
   ]
  },
  {
   "cell_type": "code",
   "execution_count": 9,
   "id": "4b6cd89a",
   "metadata": {},
   "outputs": [],
   "source": [
    "def project_to_detector(params, htup, freqs, invasd, detector, gmst):\n",
    "    deltat = gwjax.time_delay_from_earth_center(detector, gmst,\n",
    "                                                params['ra'], params['dec'])\n",
    "    fp, fx = gwjax.antenna_pattern(detector, gmst,\n",
    "                                    params['ra'], params['dec'], params['pol'])\n",
    "    return invasd*(fp*htup[0] + fx*htup[1])*jnp.exp(-1.j*2*jnp.pi*freqs*deltat)\n",
    "\n",
    "def waveform_projections(params, freqs, project_dict, gmst):\n",
    "    htup = gwjax.imrphenom.IMRPhenomD(freqs, params)\n",
    "    return {ifo: project(params, htup) for ifo, project in project_dict.items()}"
   ]
  },
  {
   "cell_type": "code",
   "execution_count": 10,
   "id": "3abb65d5",
   "metadata": {},
   "outputs": [
    {
     "data": {
      "text/plain": [
       "((8193,), (8193,))"
      ]
     },
     "execution_count": 10,
     "metadata": {},
     "output_type": "execute_result"
    }
   ],
   "source": [
    "invasd['H1'].shape, freqs.shape"
   ]
  },
  {
   "cell_type": "code",
   "execution_count": 11,
   "id": "aafa3040",
   "metadata": {},
   "outputs": [],
   "source": [
    "fdata = {}\n",
    "for ifo in ifos:\n",
    "    fdata[ifo] = jnp.fft.rfft(jnp.array(np.roll(wdata[ifo], -4*srate), dtype=jnp.float32))\n",
    "\n",
    "invasd = {ifo: jnp.array(iasd, dtype=jnp.float32) for ifo, iasd in invasd.items()}\n",
    "\n",
    "project = {}\n",
    "for ifo in ifos:\n",
    "    project[ifo] = jax.jit(partial(project_to_detector,\n",
    "                                        freqs=freqs[kmin:kmax],\n",
    "                                        invasd=invasd[ifo][kmin:kmax],\n",
    "                                        detector=gwjax.detectors[ifo],\n",
    "                                        gmst=gmst))\n",
    "\n",
    "waveform_projections = jax.jit(partial(waveform_projections,\n",
    "                                        freqs=freqs[kmin:kmax],\n",
    "                                        project_dict=project,\n",
    "                                        gmst=gmst))"
   ]
  },
  {
   "cell_type": "code",
   "execution_count": 12,
   "id": "a9651b46",
   "metadata": {},
   "outputs": [
    {
     "name": "stdout",
     "output_type": "stream",
     "text": [
      "6.78 ms ± 96.8 µs per loop (mean ± std. dev. of 7 runs, 1 loop each)\n"
     ]
    }
   ],
   "source": [
    "%timeit waveform_projections(params)"
   ]
  },
  {
   "cell_type": "code",
   "execution_count": 13,
   "id": "bf7cf6d3",
   "metadata": {},
   "outputs": [],
   "source": [
    "def cbc_model(fdata=None):\n",
    "    amp = numpyro.sample(\"amp\", dist.Normal(0, 10))\n",
    "    t = numpyro.sample(\"time\", dist.Normal(0, 0.01))\n",
    "    phase = numpyro.sample('phase', dist.Uniform(-jnp.pi, jnp.pi))\n",
    "    m1 = numpyro.sample('m1', dist.Uniform(20, 50))\n",
    "    m2 = numpyro.sample('m2', dist.Uniform(20, 50))\n",
    "    ra = numpyro.sample('ra', dist.Uniform(-jnp.pi, jnp.pi))\n",
    "    dec = numpyro.sample('dec', dist.Uniform(0., jnp.pi))\n",
    "    pol = numpyro.sample('psi', dist.Uniform(0, 2*jnp.pi))\n",
    "\n",
    "    proj_wfs = waveform_projections({'phase': phase, 'geocent_time': t,\n",
    "            'luminosity_distance': amp, 'theta_jn': 0., \n",
    "            'm1': 36, 'm2': 29, 'spin1': 0., 'spin2': 0.,\n",
    "            'ra': ra, 'dec': dec, 'pol': pol})\n",
    "\n",
    "    numpyro.sample(\"y1\", CplxNormal(proj_wfs['H1']), obs=fdata['H1'])\n",
    "    numpyro.sample(\"y2\", CplxNormal(proj_wfs['L1']), obs=fdata['L1'])"
   ]
  },
  {
   "cell_type": "code",
   "execution_count": 14,
   "id": "647ad4b1",
   "metadata": {},
   "outputs": [],
   "source": [
    "import numpyro\n",
    "from numpyro import infer\n",
    "from numpyro import distributions as dist"
   ]
  },
  {
   "cell_type": "code",
   "execution_count": 15,
   "id": "3729b33f",
   "metadata": {},
   "outputs": [],
   "source": [
    "from gwjax import CplxNormal"
   ]
  },
  {
   "cell_type": "code",
   "execution_count": 16,
   "id": "a98029d8",
   "metadata": {},
   "outputs": [],
   "source": [
    "# Define Bayesian sampler\n",
    "sampler = infer.MCMC(\n",
    "    infer.NUTS(cbc_model),\n",
    "    num_warmup=100,\n",
    "    num_samples=100,\n",
    "    num_chains=1,\n",
    "    progress_bar=True,\n",
    ")"
   ]
  },
  {
   "cell_type": "code",
   "execution_count": 17,
   "id": "8d69d4f0",
   "metadata": {},
   "outputs": [],
   "source": [
    "fdata_tst = waveform_projections(params)"
   ]
  },
  {
   "cell_type": "code",
   "execution_count": 18,
   "id": "9e06eaa5",
   "metadata": {},
   "outputs": [
    {
     "name": "stderr",
     "output_type": "stream",
     "text": [
      "sample: 100%|██████████| 200/200 [06:33<00:00,  1.97s/it, 1023 steps of size 1.49e-03. acc. prob=0.84]\n"
     ]
    },
    {
     "name": "stdout",
     "output_type": "stream",
     "text": [
      "CPU times: user 6min 38s, sys: 592 ms, total: 6min 39s\n",
      "Wall time: 6min 39s\n"
     ]
    }
   ],
   "source": [
    "%time sampler.run(jax.random.PRNGKey(0), fdata=fdata_tst)"
   ]
  },
  {
   "cell_type": "code",
   "execution_count": 19,
   "id": "188357c3",
   "metadata": {},
   "outputs": [
    {
     "ename": "ModuleNotFoundError",
     "evalue": "No module named 'arviz'",
     "output_type": "error",
     "traceback": [
      "\u001b[0;31m---------------------------------------------------------------------------\u001b[0m",
      "\u001b[0;31mModuleNotFoundError\u001b[0m                       Traceback (most recent call last)",
      "Cell \u001b[0;32mIn[19], line 1\u001b[0m\n\u001b[0;32m----> 1\u001b[0m \u001b[38;5;28;01mimport\u001b[39;00m \u001b[38;5;21;01marviz\u001b[39;00m \u001b[38;5;28;01mas\u001b[39;00m \u001b[38;5;21;01maz\u001b[39;00m\n\u001b[1;32m      2\u001b[0m itrace \u001b[38;5;241m=\u001b[39m az\u001b[38;5;241m.\u001b[39mfrom_numpyro(sampler)\n\u001b[1;32m      3\u001b[0m summ \u001b[38;5;241m=\u001b[39m az\u001b[38;5;241m.\u001b[39msummary(itrace, kind\u001b[38;5;241m=\u001b[39m\u001b[38;5;124m'\u001b[39m\u001b[38;5;124mstats\u001b[39m\u001b[38;5;124m'\u001b[39m)\n",
      "\u001b[0;31mModuleNotFoundError\u001b[0m: No module named 'arviz'"
     ]
    }
   ],
   "source": [
    "import arviz as az\n",
    "itrace = az.from_numpyro(sampler)\n",
    "summ = az.summary(itrace, kind='stats')"
   ]
  },
  {
   "cell_type": "code",
   "execution_count": null,
   "id": "6366f452",
   "metadata": {},
   "outputs": [],
   "source": [
    "az.plot_trace(itrace);"
   ]
  },
  {
   "cell_type": "code",
   "execution_count": null,
   "id": "71d17288",
   "metadata": {},
   "outputs": [],
   "source": [
    "import corner\n",
    "\n",
    "corner.corner(itrace);"
   ]
  },
  {
   "cell_type": "code",
   "execution_count": null,
   "id": "a1841f8d",
   "metadata": {},
   "outputs": [],
   "source": []
  },
  {
   "cell_type": "code",
   "execution_count": null,
   "id": "547c1f96-7b17-4814-ad8a-e1d295dae4fe",
   "metadata": {},
   "outputs": [],
   "source": []
  }
 ],
 "metadata": {
  "kernelspec": {
   "display_name": "PyCBCandOptuna",
   "language": "python",
   "name": "pycbcandoptuna"
  },
  "language_info": {
   "codemirror_mode": {
    "name": "ipython",
    "version": 3
   },
   "file_extension": ".py",
   "mimetype": "text/x-python",
   "name": "python",
   "nbconvert_exporter": "python",
   "pygments_lexer": "ipython3",
   "version": "3.11.3"
  }
 },
 "nbformat": 4,
 "nbformat_minor": 5
}
